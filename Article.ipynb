{
 "cells": [
  {
   "cell_type": "markdown",
   "metadata": {},
   "source": [
    "# Introduction"
   ]
  },
  {
   "cell_type": "markdown",
   "metadata": {},
   "source": [
    "## Objectifs de la leçon"
   ]
  },
  {
   "cell_type": "markdown",
   "metadata": {},
   "source": [
    "Cette leçon *donne à voir* comment créer des représentations interactives de données avec la librairie graphique *open-source* **Plotly**. En particulier, vous apprendrez :\n",
    "- La différence entre **Plotly Express**, **Plotly's Graph Object** et **Plotly Dash**\n",
    "- Comment créer et exporter des graphes à l'aide de `plotly.express` et `plotly.graph_objects`\n",
    "- Comment ajouter personnaliser vos graphes\n",
    "\n",
    "J'utilise le terme _open source_, emprunté de l'anglais et qui signifie **libre de droit**, soit qui peut être utilisé par quiconque et ce sans payer de license, car ce terme est un concept majeur en programmation. Utiliser **libre de droit** serait correct sémantiquement, serait réducteur."
   ]
  },
  {
   "cell_type": "markdown",
   "metadata": {},
   "source": [
    "## Les prérequis"
   ]
  },
  {
   "cell_type": "markdown",
   "metadata": {},
   "source": [
    "Afin de pouvoir suivre la leçon, il est nécessaire :\n",
    "- d'avoir installé python 3 et l'installateur de paquet (package) `pip`\n",
    "- d'avoir un niveau de comprehension intermédiaire du language de programmation Python.\n",
    "- d'avoir une connaissance grossière des objets et fonctions `pandas` et `numpy` (ces deux librairies doivent être installées).\n",
    "- Avoir connaissances de quelques techniques de base de représentation de données (*data visualisation*) (en particulier les histogrammes et autres diagrammes à base de barres et les représentations en point (*scatterplots*))\n",
    "- Avoir des notions de traitement de données (nous utiliserons `pandas` pour les réaliser)"
   ]
  },
  {
   "cell_type": "markdown",
   "metadata": {},
   "source": [
    "## Qu'est ce que Plotly"
   ]
  },
  {
   "cell_type": "markdown",
   "metadata": {},
   "source": [
    "**Plotly** est une entreprise qui fournit un certain nombre de librairies *open source* afin de construire des représentations graphiques interactives. Les graphes réalisés avec Plotly se démarquent des images statiques de par leur capacité à répondre aux utilisateur.ice.s grâce à des boutons, des outils pour se déplacer et zoomer dans les données, *faceted data displays* et bien plus encore. Nous nous concentrons aujourd'hui sur la version Python des librairies Plotly mais elles existent dans plusieurs autres languages comme R et Julia. Les librairies de Plotly nous réserve une large variétés de graphes pouvant être utilisés **finish sentence**. Ces graphes peuvent être affichés de plusieurs manières : à travers les *notebooks Jupyter*, une page web (HTML) ou bien grâce à des applications web développées avec l'environnement Dash de Plotly. Finalement il est possible d'exporter les graphes sous formes d'images conventionnelles (jpg) ou vectoriel (???) si l'on fait fi de son aspect interactif."
   ]
  },
  {
   "cell_type": "markdown",
   "metadata": {},
   "source": [
    "> Tout le long de cette leçon, les graphes générés à l'aide de Plotly seront affichés comme des images statiques. Pour utiliser les fonctionnalités intéractives, il faudra cliquer sur l'image ou bien sur le lien dans la description de l'image."
   ]
  },
  {
   "cell_type": "markdown",
   "metadata": {},
   "source": [
    "## Plotly, une Librairie Graphique de Python : Plotly Express vs Plotly Graph Objects vs Plotly Dash"
   ]
  },
  {
   "cell_type": "markdown",
   "metadata": {},
   "source": [
    "Afin de comprendre comment fonctionne Plotly, il est vital de comprendre les différences entre Plotly Express, Plotly's Graph Objects et Plotly Dash.\n",
    "\n",
    "Il s'agit essentiellement de 3 outils distincts - même si souvent utilisés ensemble - utilisés à différentes occasions :\n",
    "- **Plotly Express** (`plotly.express` souvent importé sous le diminutif `px`) est une interface de représentation graphique de haut niveau, facile à prendre en main, et qui permet de créer près de 30 différents types de graphes. Le module fournit des fonctions permettant de créer des graphes avec une seule ligne de code (bien que plusieurs lignes de code sont nécessaires à la personnalisation de certains éléments), rendant les graphes rapides et faciles à créer. Puisque `plotly.px` est une interface 'de haut niveau`, cela signifie que l'utilisateur.ice n'a pas besoin de s'attarder à interargir avec la structure sous-jacente des graphes. Plotly recommenda aux débutant.e.s de commencer avec Express avant de travailler avec Plotly's Graph Objects\n",
    "- Les objets graphiques de Plotly - associés aux module Plotly Graph Objects (`plotly.graph_objects` souvent importé sous le diminutif `go`) sont les véritables objets que Plotly créé lorsque l'on fait appel à Plotly Express. Plotly génère des *'Graph Objects'* pour garder en mémoire les données du graphe. Ces données incluent les informations à visualiser avec de nombreux autres attributs telles que les couleurs, formes et tailles des objets. Il est alors possible de créer une visualisation plus finement en avec Plotly Graph Objects. Il est d'ailleurs possible de recréer n'importe quelle figure créée par Plotly Express à l'aide de Plotly Graph Objects. Il est, en général, recommendé d'utiliser Plotly Express là ou c'est possible pour réduire le nombre de lignes de code. En revanche, comme nous le verrons par la suite, Plotly Graphic Objects est parfois nécessaire **ouais bof, à re-ecrire**.\n",
    "- Le module Plotly Dash (importé sous le diminutif `dash`) est un environnement pour créer des applications web interactives (typiquement des dashboard) qui peuvent être incrustées dans des sites web et autres plateformes. On utilise ajoute souvent des figures créées avec `plotly.px` `plotly.go` dans les applications Dash, faisant des modules de Plotly la boîte à outils parfaite pour créer, manipuler et publier des représentations graphiques interactives de nos données. Plotly Dash est construit sur `React.js` et `Plotly.js` afin de rendre possible l'intégration sur internet, cela signifie que les utilisateur.ice.s n'ont pas besoin de connaissances en Javascript, CSS ou HTML (seulement en Python).\n",
    "\n",
    "Plotly fournit une documentation complète pour travailler avec Express et Graph Objects ainsi que pour utiliser Dash."
   ]
  },
  {
   "cell_type": "markdown",
   "metadata": {},
   "source": [
    "## Pourquoi Plotly ? "
   ]
  },
  {
   "cell_type": "markdown",
   "metadata": {},
   "source": [
    "Il existe actuellement une pléthore de librairies graphique disponibles sous python comme **Matplotlib**, **Seaborn**, **Bokeh** ou **Pygal**. Avec autant de possibilités, il est nécessaire de choisir une librairie plutôt qu'une autre. Des critères de choix peuvent être utiles pour décider tels que le cas d'utilisation, les goûts esthétiques ou la facilité d'utilisation.\n",
    "\n",
    "> with each library having its own merits\n",
    "\n",
    "Les avantages principaux de Plotly sont :\n",
    "- Plotly est l'un des seul package qui est spécifiquement tourné vers les représentations interactive. **Matplotlib** et **Pygal** ne fournissent que très peu de fonctionnalités interactives. **Bokeh** est aussi prévu pour l'interactivité et se place comme une alternatives viable.\n",
    "- Plotly est la seule suite graphique de python qui assure à la fois une création de graphe et une intégration dans des pages web simple.\n",
    "- Plotly intègre très les objets de pandas (par exemple, on peut directement passer des `pandas.Dataframe` aux objets graphiques de Plotly)\n",
    "- Des graphes 3D interactifs sont disponibles (ce qui n'est pas le cas des autres librairies)\n",
    "- Plotly est simple d'utilisation, les animations et les menus déroulants sont relativement simples à utiliser"
   ]
  },
  {
   "cell_type": "markdown",
   "metadata": {},
   "source": [
    "# Données utilisées comme exemple"
   ]
  },
  {
   "cell_type": "markdown",
   "metadata": {},
   "source": [
    "> Étienne et Émilien savoir comment on le présente"
   ]
  },
  {
   "cell_type": "markdown",
   "metadata": {},
   "source": [
    "# Construire des graphes avec Plotly Express"
   ]
  },
  {
   "cell_type": "markdown",
   "metadata": {},
   "source": [
    "## Configurer Plotly Express"
   ]
  },
  {
   "cell_type": "markdown",
   "metadata": {},
   "source": [
    "1. Avant de commencer, vous aurez besoin d'installe 3 modules à votre environnement\n",
    "logseq.order-list-type:: number\n",
    "\t- Plotly : dans votre terminal, entrez `pip install plotly`\n",
    "\t- pandas : dans votre terminal entrez `pip install pandas`\n",
    "\t- Kaleido : dans votre terminal entre `pip install kaleido`\n",
    "2. Maintenant que ces packages sont installés, créez un nouveau Jupyter notebook (ou un nouveau fichier python dans votre IDE). Idéalement, placez votre jeu de donnée et votre fichier python / notebook dans le même dossier.\n",
    "logseq.order-list-type:: number\n",
    "3. Importez les modules à l'aide de la commande `import` au début de votre fichier : "
   ]
  },
  {
   "cell_type": "code",
   "execution_count": 38,
   "metadata": {},
   "outputs": [],
   "source": [
    "import numpy as numpy\n",
    "import pandas as pd\n",
    "import plotly.express as px"
   ]
  },
  {
   "cell_type": "markdown",
   "metadata": {},
   "source": [
    "## Importer et nettoyer les données"
   ]
  },
  {
   "cell_type": "markdown",
   "metadata": {},
   "source": [
    "La prochaine étape est d'importer le jeu de donnée et de le nettoyer à l'aide des fonctions de `pandas`. Les étapes à réaliser sont :\n",
    "- Importer uniquement les colonnes utiles de notre jeu de donnée qui nous seront utiles\n",
    "- Remplacer les données numériques qui pourraient manquer par des `np.nan` (objet Numpy *Not a number*)\n",
    "- Renommer et retirer certaines données pour"
   ]
  },
  {
   "cell_type": "markdown",
   "metadata": {},
   "source": [
    "> Clarity and accuracy"
   ]
  },
  {
   "cell_type": "code",
   "execution_count": 39,
   "metadata": {},
   "outputs": [],
   "source": [
    "colonnes : list[str] = [\n",
    "    \"annee_publication\", \"revue\", \"pourcentage_femme\", \"race\", \n",
    "    \"inclusif\", \"genre\", \"classe\", \"discipline\"\n",
    "]\n",
    "\n",
    "df : pd.DataFrame = pd.read_csv(\"data_article.csv\", usecols = colonnes)\n",
    "\n",
    "# Remplace le code de discipline par son nom\n",
    "num_discipline : dict = {\n",
    "    -1 : '<UNK>',           # La discipline est inconnue\n",
    "    0  : 'Anthropologie',\n",
    "    1  : 'Aréale',\n",
    "    2  : 'Autre interdisciplinaire',\n",
    "    3  : 'Démographie',\n",
    "    4  : 'Genre',\n",
    "    5  : 'Géographie',\n",
    "    6  : 'Histoire',\n",
    "    7  : 'SIC',\n",
    "    8  : 'Science politique',\n",
    "    9  : 'Sociologie',\n",
    "    10 : 'Économie'\n",
    "}\n",
    "df[\"discipline\"] = df[\"discipline\"].replace(num_discipline)\n",
    "\n",
    "# Retirer les lignes où la discipline est inconnue\n",
    "df = df.drop(df[df[\"discipline\"] == \"<UNK>\"].index)\n",
    "\n",
    "# Création d'une colonne \"A majorité féminine\" qui indique s'il y avait plus \n",
    "# d'autrices que d'auteurs\n",
    "df[\"maj_feminine\"] = df[\"pourcentage_femme\"] >= 0.5"
   ]
  },
  {
   "cell_type": "markdown",
   "metadata": {},
   "source": [
    "## Histogrammes et diagrammes bâton"
   ]
  },
  {
   "cell_type": "markdown",
   "metadata": {},
   "source": [
    "Maintenant que nous avons créé un dataframe pandas de notre jeu de donnée, nous pouvons commencer à créer quelques graphes simples en utilisant Plotly Express. Commençons par créer un histogramme pour représenter le nombre d'articles publiés à majorité féminine. Puisque notre jeu de données ne contient pas le nombre d'article (pour le moment, chaque ligne correspond à un article) nous allons d'abord créer un deuxième `dataframe` qui regroupera les articles écrits par une majorité féminine d'une part et majorité masculine d'autre part."
   ]
  },
  {
   "cell_type": "code",
   "execution_count": 40,
   "metadata": {},
   "outputs": [
    {
     "data": {
      "text/html": [
       "<div>\n",
       "<style scoped>\n",
       "    .dataframe tbody tr th:only-of-type {\n",
       "        vertical-align: middle;\n",
       "    }\n",
       "\n",
       "    .dataframe tbody tr th {\n",
       "        vertical-align: top;\n",
       "    }\n",
       "\n",
       "    .dataframe thead th {\n",
       "        text-align: right;\n",
       "    }\n",
       "</style>\n",
       "<table border=\"1\" class=\"dataframe\">\n",
       "  <thead>\n",
       "    <tr style=\"text-align: right;\">\n",
       "      <th></th>\n",
       "      <th>maj_feminine</th>\n",
       "      <th>size</th>\n",
       "    </tr>\n",
       "  </thead>\n",
       "  <tbody>\n",
       "    <tr>\n",
       "      <th>0</th>\n",
       "      <td>False</td>\n",
       "      <td>28142</td>\n",
       "    </tr>\n",
       "    <tr>\n",
       "      <th>1</th>\n",
       "      <td>True</td>\n",
       "      <td>20539</td>\n",
       "    </tr>\n",
       "  </tbody>\n",
       "</table>\n",
       "</div>"
      ],
      "text/plain": [
       "   maj_feminine   size\n",
       "0         False  28142\n",
       "1          True  20539"
      ]
     },
     "execution_count": 40,
     "metadata": {},
     "output_type": "execute_result"
    }
   ],
   "source": [
    "# Création d'un nouveau dataframe\n",
    "articles_par_maj_femmes : pd.Series = df.\\\n",
    "                                groupby([\"maj_feminine\"], as_index = False).\\\n",
    "                                size()\n",
    "articles_par_maj_femmes"
   ]
  },
  {
   "cell_type": "markdown",
   "metadata": {},
   "source": [
    "il suffit alors de créer un histogramme en utilisant ce nouveau `DataFrame`. remarquons que ce graphe est sauvegardé sous la variable `fig`, qui est une convention lorsqu'on travaille avec plotly :"
   ]
  },
  {
   "cell_type": "code",
   "execution_count": 41,
   "metadata": {},
   "outputs": [
    {
     "data": {
      "application/vnd.plotly.v1+json": {
       "config": {
        "plotlyServerURL": "https://plot.ly"
       },
       "data": [
        {
         "alignmentgroup": "True",
         "hovertemplate": "maj_feminine=%{x}<br>size=%{y}<extra></extra>",
         "legendgroup": "",
         "marker": {
          "color": "#636efa",
          "pattern": {
           "shape": ""
          }
         },
         "name": "",
         "offsetgroup": "",
         "orientation": "v",
         "showlegend": false,
         "textposition": "auto",
         "type": "bar",
         "x": [
          false,
          true
         ],
         "xaxis": "x",
         "y": [
          28142,
          20539
         ],
         "yaxis": "y"
        }
       ],
       "layout": {
        "barmode": "relative",
        "legend": {
         "tracegroupgap": 0
        },
        "margin": {
         "t": 60
        },
        "template": {
         "data": {
          "bar": [
           {
            "error_x": {
             "color": "#2a3f5f"
            },
            "error_y": {
             "color": "#2a3f5f"
            },
            "marker": {
             "line": {
              "color": "#E5ECF6",
              "width": 0.5
             },
             "pattern": {
              "fillmode": "overlay",
              "size": 10,
              "solidity": 0.2
             }
            },
            "type": "bar"
           }
          ],
          "barpolar": [
           {
            "marker": {
             "line": {
              "color": "#E5ECF6",
              "width": 0.5
             },
             "pattern": {
              "fillmode": "overlay",
              "size": 10,
              "solidity": 0.2
             }
            },
            "type": "barpolar"
           }
          ],
          "carpet": [
           {
            "aaxis": {
             "endlinecolor": "#2a3f5f",
             "gridcolor": "white",
             "linecolor": "white",
             "minorgridcolor": "white",
             "startlinecolor": "#2a3f5f"
            },
            "baxis": {
             "endlinecolor": "#2a3f5f",
             "gridcolor": "white",
             "linecolor": "white",
             "minorgridcolor": "white",
             "startlinecolor": "#2a3f5f"
            },
            "type": "carpet"
           }
          ],
          "choropleth": [
           {
            "colorbar": {
             "outlinewidth": 0,
             "ticks": ""
            },
            "type": "choropleth"
           }
          ],
          "contour": [
           {
            "colorbar": {
             "outlinewidth": 0,
             "ticks": ""
            },
            "colorscale": [
             [
              0,
              "#0d0887"
             ],
             [
              0.1111111111111111,
              "#46039f"
             ],
             [
              0.2222222222222222,
              "#7201a8"
             ],
             [
              0.3333333333333333,
              "#9c179e"
             ],
             [
              0.4444444444444444,
              "#bd3786"
             ],
             [
              0.5555555555555556,
              "#d8576b"
             ],
             [
              0.6666666666666666,
              "#ed7953"
             ],
             [
              0.7777777777777778,
              "#fb9f3a"
             ],
             [
              0.8888888888888888,
              "#fdca26"
             ],
             [
              1,
              "#f0f921"
             ]
            ],
            "type": "contour"
           }
          ],
          "contourcarpet": [
           {
            "colorbar": {
             "outlinewidth": 0,
             "ticks": ""
            },
            "type": "contourcarpet"
           }
          ],
          "heatmap": [
           {
            "colorbar": {
             "outlinewidth": 0,
             "ticks": ""
            },
            "colorscale": [
             [
              0,
              "#0d0887"
             ],
             [
              0.1111111111111111,
              "#46039f"
             ],
             [
              0.2222222222222222,
              "#7201a8"
             ],
             [
              0.3333333333333333,
              "#9c179e"
             ],
             [
              0.4444444444444444,
              "#bd3786"
             ],
             [
              0.5555555555555556,
              "#d8576b"
             ],
             [
              0.6666666666666666,
              "#ed7953"
             ],
             [
              0.7777777777777778,
              "#fb9f3a"
             ],
             [
              0.8888888888888888,
              "#fdca26"
             ],
             [
              1,
              "#f0f921"
             ]
            ],
            "type": "heatmap"
           }
          ],
          "heatmapgl": [
           {
            "colorbar": {
             "outlinewidth": 0,
             "ticks": ""
            },
            "colorscale": [
             [
              0,
              "#0d0887"
             ],
             [
              0.1111111111111111,
              "#46039f"
             ],
             [
              0.2222222222222222,
              "#7201a8"
             ],
             [
              0.3333333333333333,
              "#9c179e"
             ],
             [
              0.4444444444444444,
              "#bd3786"
             ],
             [
              0.5555555555555556,
              "#d8576b"
             ],
             [
              0.6666666666666666,
              "#ed7953"
             ],
             [
              0.7777777777777778,
              "#fb9f3a"
             ],
             [
              0.8888888888888888,
              "#fdca26"
             ],
             [
              1,
              "#f0f921"
             ]
            ],
            "type": "heatmapgl"
           }
          ],
          "histogram": [
           {
            "marker": {
             "pattern": {
              "fillmode": "overlay",
              "size": 10,
              "solidity": 0.2
             }
            },
            "type": "histogram"
           }
          ],
          "histogram2d": [
           {
            "colorbar": {
             "outlinewidth": 0,
             "ticks": ""
            },
            "colorscale": [
             [
              0,
              "#0d0887"
             ],
             [
              0.1111111111111111,
              "#46039f"
             ],
             [
              0.2222222222222222,
              "#7201a8"
             ],
             [
              0.3333333333333333,
              "#9c179e"
             ],
             [
              0.4444444444444444,
              "#bd3786"
             ],
             [
              0.5555555555555556,
              "#d8576b"
             ],
             [
              0.6666666666666666,
              "#ed7953"
             ],
             [
              0.7777777777777778,
              "#fb9f3a"
             ],
             [
              0.8888888888888888,
              "#fdca26"
             ],
             [
              1,
              "#f0f921"
             ]
            ],
            "type": "histogram2d"
           }
          ],
          "histogram2dcontour": [
           {
            "colorbar": {
             "outlinewidth": 0,
             "ticks": ""
            },
            "colorscale": [
             [
              0,
              "#0d0887"
             ],
             [
              0.1111111111111111,
              "#46039f"
             ],
             [
              0.2222222222222222,
              "#7201a8"
             ],
             [
              0.3333333333333333,
              "#9c179e"
             ],
             [
              0.4444444444444444,
              "#bd3786"
             ],
             [
              0.5555555555555556,
              "#d8576b"
             ],
             [
              0.6666666666666666,
              "#ed7953"
             ],
             [
              0.7777777777777778,
              "#fb9f3a"
             ],
             [
              0.8888888888888888,
              "#fdca26"
             ],
             [
              1,
              "#f0f921"
             ]
            ],
            "type": "histogram2dcontour"
           }
          ],
          "mesh3d": [
           {
            "colorbar": {
             "outlinewidth": 0,
             "ticks": ""
            },
            "type": "mesh3d"
           }
          ],
          "parcoords": [
           {
            "line": {
             "colorbar": {
              "outlinewidth": 0,
              "ticks": ""
             }
            },
            "type": "parcoords"
           }
          ],
          "pie": [
           {
            "automargin": true,
            "type": "pie"
           }
          ],
          "scatter": [
           {
            "fillpattern": {
             "fillmode": "overlay",
             "size": 10,
             "solidity": 0.2
            },
            "type": "scatter"
           }
          ],
          "scatter3d": [
           {
            "line": {
             "colorbar": {
              "outlinewidth": 0,
              "ticks": ""
             }
            },
            "marker": {
             "colorbar": {
              "outlinewidth": 0,
              "ticks": ""
             }
            },
            "type": "scatter3d"
           }
          ],
          "scattercarpet": [
           {
            "marker": {
             "colorbar": {
              "outlinewidth": 0,
              "ticks": ""
             }
            },
            "type": "scattercarpet"
           }
          ],
          "scattergeo": [
           {
            "marker": {
             "colorbar": {
              "outlinewidth": 0,
              "ticks": ""
             }
            },
            "type": "scattergeo"
           }
          ],
          "scattergl": [
           {
            "marker": {
             "colorbar": {
              "outlinewidth": 0,
              "ticks": ""
             }
            },
            "type": "scattergl"
           }
          ],
          "scattermapbox": [
           {
            "marker": {
             "colorbar": {
              "outlinewidth": 0,
              "ticks": ""
             }
            },
            "type": "scattermapbox"
           }
          ],
          "scatterpolar": [
           {
            "marker": {
             "colorbar": {
              "outlinewidth": 0,
              "ticks": ""
             }
            },
            "type": "scatterpolar"
           }
          ],
          "scatterpolargl": [
           {
            "marker": {
             "colorbar": {
              "outlinewidth": 0,
              "ticks": ""
             }
            },
            "type": "scatterpolargl"
           }
          ],
          "scatterternary": [
           {
            "marker": {
             "colorbar": {
              "outlinewidth": 0,
              "ticks": ""
             }
            },
            "type": "scatterternary"
           }
          ],
          "surface": [
           {
            "colorbar": {
             "outlinewidth": 0,
             "ticks": ""
            },
            "colorscale": [
             [
              0,
              "#0d0887"
             ],
             [
              0.1111111111111111,
              "#46039f"
             ],
             [
              0.2222222222222222,
              "#7201a8"
             ],
             [
              0.3333333333333333,
              "#9c179e"
             ],
             [
              0.4444444444444444,
              "#bd3786"
             ],
             [
              0.5555555555555556,
              "#d8576b"
             ],
             [
              0.6666666666666666,
              "#ed7953"
             ],
             [
              0.7777777777777778,
              "#fb9f3a"
             ],
             [
              0.8888888888888888,
              "#fdca26"
             ],
             [
              1,
              "#f0f921"
             ]
            ],
            "type": "surface"
           }
          ],
          "table": [
           {
            "cells": {
             "fill": {
              "color": "#EBF0F8"
             },
             "line": {
              "color": "white"
             }
            },
            "header": {
             "fill": {
              "color": "#C8D4E3"
             },
             "line": {
              "color": "white"
             }
            },
            "type": "table"
           }
          ]
         },
         "layout": {
          "annotationdefaults": {
           "arrowcolor": "#2a3f5f",
           "arrowhead": 0,
           "arrowwidth": 1
          },
          "autotypenumbers": "strict",
          "coloraxis": {
           "colorbar": {
            "outlinewidth": 0,
            "ticks": ""
           }
          },
          "colorscale": {
           "diverging": [
            [
             0,
             "#8e0152"
            ],
            [
             0.1,
             "#c51b7d"
            ],
            [
             0.2,
             "#de77ae"
            ],
            [
             0.3,
             "#f1b6da"
            ],
            [
             0.4,
             "#fde0ef"
            ],
            [
             0.5,
             "#f7f7f7"
            ],
            [
             0.6,
             "#e6f5d0"
            ],
            [
             0.7,
             "#b8e186"
            ],
            [
             0.8,
             "#7fbc41"
            ],
            [
             0.9,
             "#4d9221"
            ],
            [
             1,
             "#276419"
            ]
           ],
           "sequential": [
            [
             0,
             "#0d0887"
            ],
            [
             0.1111111111111111,
             "#46039f"
            ],
            [
             0.2222222222222222,
             "#7201a8"
            ],
            [
             0.3333333333333333,
             "#9c179e"
            ],
            [
             0.4444444444444444,
             "#bd3786"
            ],
            [
             0.5555555555555556,
             "#d8576b"
            ],
            [
             0.6666666666666666,
             "#ed7953"
            ],
            [
             0.7777777777777778,
             "#fb9f3a"
            ],
            [
             0.8888888888888888,
             "#fdca26"
            ],
            [
             1,
             "#f0f921"
            ]
           ],
           "sequentialminus": [
            [
             0,
             "#0d0887"
            ],
            [
             0.1111111111111111,
             "#46039f"
            ],
            [
             0.2222222222222222,
             "#7201a8"
            ],
            [
             0.3333333333333333,
             "#9c179e"
            ],
            [
             0.4444444444444444,
             "#bd3786"
            ],
            [
             0.5555555555555556,
             "#d8576b"
            ],
            [
             0.6666666666666666,
             "#ed7953"
            ],
            [
             0.7777777777777778,
             "#fb9f3a"
            ],
            [
             0.8888888888888888,
             "#fdca26"
            ],
            [
             1,
             "#f0f921"
            ]
           ]
          },
          "colorway": [
           "#636efa",
           "#EF553B",
           "#00cc96",
           "#ab63fa",
           "#FFA15A",
           "#19d3f3",
           "#FF6692",
           "#B6E880",
           "#FF97FF",
           "#FECB52"
          ],
          "font": {
           "color": "#2a3f5f"
          },
          "geo": {
           "bgcolor": "white",
           "lakecolor": "white",
           "landcolor": "#E5ECF6",
           "showlakes": true,
           "showland": true,
           "subunitcolor": "white"
          },
          "hoverlabel": {
           "align": "left"
          },
          "hovermode": "closest",
          "mapbox": {
           "style": "light"
          },
          "paper_bgcolor": "white",
          "plot_bgcolor": "#E5ECF6",
          "polar": {
           "angularaxis": {
            "gridcolor": "white",
            "linecolor": "white",
            "ticks": ""
           },
           "bgcolor": "#E5ECF6",
           "radialaxis": {
            "gridcolor": "white",
            "linecolor": "white",
            "ticks": ""
           }
          },
          "scene": {
           "xaxis": {
            "backgroundcolor": "#E5ECF6",
            "gridcolor": "white",
            "gridwidth": 2,
            "linecolor": "white",
            "showbackground": true,
            "ticks": "",
            "zerolinecolor": "white"
           },
           "yaxis": {
            "backgroundcolor": "#E5ECF6",
            "gridcolor": "white",
            "gridwidth": 2,
            "linecolor": "white",
            "showbackground": true,
            "ticks": "",
            "zerolinecolor": "white"
           },
           "zaxis": {
            "backgroundcolor": "#E5ECF6",
            "gridcolor": "white",
            "gridwidth": 2,
            "linecolor": "white",
            "showbackground": true,
            "ticks": "",
            "zerolinecolor": "white"
           }
          },
          "shapedefaults": {
           "line": {
            "color": "#2a3f5f"
           }
          },
          "ternary": {
           "aaxis": {
            "gridcolor": "white",
            "linecolor": "white",
            "ticks": ""
           },
           "baxis": {
            "gridcolor": "white",
            "linecolor": "white",
            "ticks": ""
           },
           "bgcolor": "#E5ECF6",
           "caxis": {
            "gridcolor": "white",
            "linecolor": "white",
            "ticks": ""
           }
          },
          "title": {
           "x": 0.05
          },
          "xaxis": {
           "automargin": true,
           "gridcolor": "white",
           "linecolor": "white",
           "ticks": "",
           "title": {
            "standoff": 15
           },
           "zerolinecolor": "white",
           "zerolinewidth": 2
          },
          "yaxis": {
           "automargin": true,
           "gridcolor": "white",
           "linecolor": "white",
           "ticks": "",
           "title": {
            "standoff": 15
           },
           "zerolinecolor": "white",
           "zerolinewidth": 2
          }
         }
        },
        "xaxis": {
         "anchor": "y",
         "domain": [
          0,
          1
         ],
         "title": {
          "text": "maj_feminine"
         }
        },
        "yaxis": {
         "anchor": "x",
         "domain": [
          0,
          1
         ],
         "title": {
          "text": "size"
         }
        }
       }
      }
     },
     "metadata": {},
     "output_type": "display_data"
    }
   ],
   "source": [
    "# Créé l'histogramme (bar chart) en utilisant la fonction .bar()\n",
    "fig = px.bar(articles_par_maj_femmes, x = \"maj_feminine\", y = \"size\")\n",
    "\n",
    "# Affiche la figure en utilisant la fonction .show()\n",
    "fig.show()"
   ]
  },
  {
   "cell_type": "markdown",
   "metadata": {},
   "source": [
    "Vous venez de créer votre premier graphe! Remarquons que ce graphe est déjà en partie interactif : en passant la souris sur chaque barre, la figure nous spécifie le type xxx, ainsi que le nombre de xxx. Une autre fonctionnalité notable est que l'utilisateur.ice peu sauvegarder le graphe comme un `.png` (comme image statique) cliquant sur l'icône *appareil photo* qui apparaît lorsque notre souris se trouve dans le coin haut droit de l'image. Au même endroit on peut trouver des fonctions de zoom, defilement, changement d'échelle et réinitialiser la vue du graphe. Toutes ces fonctions seront disponible pour toutes les visualisations qui suivent.\n",
    "\n",
    "En revanche, le graphe n'est pas des plus sympathiques, il manque de couleurs, d'un titre, de titres d'axes plus visibles. Il est possible de préciser ces informations dès le début, en donnant plus d'arguments à la fonction `.bar()`. Par exemple, grâce à l'argument `labels` nous pouvons changer le nom des axes et grâce à l'argument `color` on peut changer la couleur des barres selon une variable de notre jeu de donnée (ici nous utiliserons xxx comme pour l'axe x). Pour ajouter un titre, il suffit d'utiliser l'argument `title`."
   ]
  },
  {
   "cell_type": "code",
   "execution_count": 42,
   "metadata": {},
   "outputs": [
    {
     "data": {
      "application/vnd.plotly.v1+json": {
       "config": {
        "plotlyServerURL": "https://plot.ly"
       },
       "data": [
        {
         "alignmentgroup": "True",
         "hovertemplate": "maj_feminine=%{x}<br>Nombres d'articles=%{y}<extra></extra>",
         "legendgroup": "False",
         "marker": {
          "color": "#636efa",
          "pattern": {
           "shape": ""
          }
         },
         "name": "False",
         "offsetgroup": "False",
         "orientation": "v",
         "showlegend": true,
         "textposition": "auto",
         "type": "bar",
         "x": [
          false
         ],
         "xaxis": "x",
         "y": [
          28142
         ],
         "yaxis": "y"
        },
        {
         "alignmentgroup": "True",
         "hovertemplate": "maj_feminine=%{x}<br>Nombres d'articles=%{y}<extra></extra>",
         "legendgroup": "True",
         "marker": {
          "color": "#EF553B",
          "pattern": {
           "shape": ""
          }
         },
         "name": "True",
         "offsetgroup": "True",
         "orientation": "v",
         "showlegend": true,
         "textposition": "auto",
         "type": "bar",
         "x": [
          true
         ],
         "xaxis": "x",
         "y": [
          20539
         ],
         "yaxis": "y"
        }
       ],
       "layout": {
        "barmode": "relative",
        "legend": {
         "title": {
          "text": "maj_feminine"
         },
         "tracegroupgap": 0
        },
        "template": {
         "data": {
          "bar": [
           {
            "error_x": {
             "color": "#2a3f5f"
            },
            "error_y": {
             "color": "#2a3f5f"
            },
            "marker": {
             "line": {
              "color": "#E5ECF6",
              "width": 0.5
             },
             "pattern": {
              "fillmode": "overlay",
              "size": 10,
              "solidity": 0.2
             }
            },
            "type": "bar"
           }
          ],
          "barpolar": [
           {
            "marker": {
             "line": {
              "color": "#E5ECF6",
              "width": 0.5
             },
             "pattern": {
              "fillmode": "overlay",
              "size": 10,
              "solidity": 0.2
             }
            },
            "type": "barpolar"
           }
          ],
          "carpet": [
           {
            "aaxis": {
             "endlinecolor": "#2a3f5f",
             "gridcolor": "white",
             "linecolor": "white",
             "minorgridcolor": "white",
             "startlinecolor": "#2a3f5f"
            },
            "baxis": {
             "endlinecolor": "#2a3f5f",
             "gridcolor": "white",
             "linecolor": "white",
             "minorgridcolor": "white",
             "startlinecolor": "#2a3f5f"
            },
            "type": "carpet"
           }
          ],
          "choropleth": [
           {
            "colorbar": {
             "outlinewidth": 0,
             "ticks": ""
            },
            "type": "choropleth"
           }
          ],
          "contour": [
           {
            "colorbar": {
             "outlinewidth": 0,
             "ticks": ""
            },
            "colorscale": [
             [
              0,
              "#0d0887"
             ],
             [
              0.1111111111111111,
              "#46039f"
             ],
             [
              0.2222222222222222,
              "#7201a8"
             ],
             [
              0.3333333333333333,
              "#9c179e"
             ],
             [
              0.4444444444444444,
              "#bd3786"
             ],
             [
              0.5555555555555556,
              "#d8576b"
             ],
             [
              0.6666666666666666,
              "#ed7953"
             ],
             [
              0.7777777777777778,
              "#fb9f3a"
             ],
             [
              0.8888888888888888,
              "#fdca26"
             ],
             [
              1,
              "#f0f921"
             ]
            ],
            "type": "contour"
           }
          ],
          "contourcarpet": [
           {
            "colorbar": {
             "outlinewidth": 0,
             "ticks": ""
            },
            "type": "contourcarpet"
           }
          ],
          "heatmap": [
           {
            "colorbar": {
             "outlinewidth": 0,
             "ticks": ""
            },
            "colorscale": [
             [
              0,
              "#0d0887"
             ],
             [
              0.1111111111111111,
              "#46039f"
             ],
             [
              0.2222222222222222,
              "#7201a8"
             ],
             [
              0.3333333333333333,
              "#9c179e"
             ],
             [
              0.4444444444444444,
              "#bd3786"
             ],
             [
              0.5555555555555556,
              "#d8576b"
             ],
             [
              0.6666666666666666,
              "#ed7953"
             ],
             [
              0.7777777777777778,
              "#fb9f3a"
             ],
             [
              0.8888888888888888,
              "#fdca26"
             ],
             [
              1,
              "#f0f921"
             ]
            ],
            "type": "heatmap"
           }
          ],
          "heatmapgl": [
           {
            "colorbar": {
             "outlinewidth": 0,
             "ticks": ""
            },
            "colorscale": [
             [
              0,
              "#0d0887"
             ],
             [
              0.1111111111111111,
              "#46039f"
             ],
             [
              0.2222222222222222,
              "#7201a8"
             ],
             [
              0.3333333333333333,
              "#9c179e"
             ],
             [
              0.4444444444444444,
              "#bd3786"
             ],
             [
              0.5555555555555556,
              "#d8576b"
             ],
             [
              0.6666666666666666,
              "#ed7953"
             ],
             [
              0.7777777777777778,
              "#fb9f3a"
             ],
             [
              0.8888888888888888,
              "#fdca26"
             ],
             [
              1,
              "#f0f921"
             ]
            ],
            "type": "heatmapgl"
           }
          ],
          "histogram": [
           {
            "marker": {
             "pattern": {
              "fillmode": "overlay",
              "size": 10,
              "solidity": 0.2
             }
            },
            "type": "histogram"
           }
          ],
          "histogram2d": [
           {
            "colorbar": {
             "outlinewidth": 0,
             "ticks": ""
            },
            "colorscale": [
             [
              0,
              "#0d0887"
             ],
             [
              0.1111111111111111,
              "#46039f"
             ],
             [
              0.2222222222222222,
              "#7201a8"
             ],
             [
              0.3333333333333333,
              "#9c179e"
             ],
             [
              0.4444444444444444,
              "#bd3786"
             ],
             [
              0.5555555555555556,
              "#d8576b"
             ],
             [
              0.6666666666666666,
              "#ed7953"
             ],
             [
              0.7777777777777778,
              "#fb9f3a"
             ],
             [
              0.8888888888888888,
              "#fdca26"
             ],
             [
              1,
              "#f0f921"
             ]
            ],
            "type": "histogram2d"
           }
          ],
          "histogram2dcontour": [
           {
            "colorbar": {
             "outlinewidth": 0,
             "ticks": ""
            },
            "colorscale": [
             [
              0,
              "#0d0887"
             ],
             [
              0.1111111111111111,
              "#46039f"
             ],
             [
              0.2222222222222222,
              "#7201a8"
             ],
             [
              0.3333333333333333,
              "#9c179e"
             ],
             [
              0.4444444444444444,
              "#bd3786"
             ],
             [
              0.5555555555555556,
              "#d8576b"
             ],
             [
              0.6666666666666666,
              "#ed7953"
             ],
             [
              0.7777777777777778,
              "#fb9f3a"
             ],
             [
              0.8888888888888888,
              "#fdca26"
             ],
             [
              1,
              "#f0f921"
             ]
            ],
            "type": "histogram2dcontour"
           }
          ],
          "mesh3d": [
           {
            "colorbar": {
             "outlinewidth": 0,
             "ticks": ""
            },
            "type": "mesh3d"
           }
          ],
          "parcoords": [
           {
            "line": {
             "colorbar": {
              "outlinewidth": 0,
              "ticks": ""
             }
            },
            "type": "parcoords"
           }
          ],
          "pie": [
           {
            "automargin": true,
            "type": "pie"
           }
          ],
          "scatter": [
           {
            "fillpattern": {
             "fillmode": "overlay",
             "size": 10,
             "solidity": 0.2
            },
            "type": "scatter"
           }
          ],
          "scatter3d": [
           {
            "line": {
             "colorbar": {
              "outlinewidth": 0,
              "ticks": ""
             }
            },
            "marker": {
             "colorbar": {
              "outlinewidth": 0,
              "ticks": ""
             }
            },
            "type": "scatter3d"
           }
          ],
          "scattercarpet": [
           {
            "marker": {
             "colorbar": {
              "outlinewidth": 0,
              "ticks": ""
             }
            },
            "type": "scattercarpet"
           }
          ],
          "scattergeo": [
           {
            "marker": {
             "colorbar": {
              "outlinewidth": 0,
              "ticks": ""
             }
            },
            "type": "scattergeo"
           }
          ],
          "scattergl": [
           {
            "marker": {
             "colorbar": {
              "outlinewidth": 0,
              "ticks": ""
             }
            },
            "type": "scattergl"
           }
          ],
          "scattermapbox": [
           {
            "marker": {
             "colorbar": {
              "outlinewidth": 0,
              "ticks": ""
             }
            },
            "type": "scattermapbox"
           }
          ],
          "scatterpolar": [
           {
            "marker": {
             "colorbar": {
              "outlinewidth": 0,
              "ticks": ""
             }
            },
            "type": "scatterpolar"
           }
          ],
          "scatterpolargl": [
           {
            "marker": {
             "colorbar": {
              "outlinewidth": 0,
              "ticks": ""
             }
            },
            "type": "scatterpolargl"
           }
          ],
          "scatterternary": [
           {
            "marker": {
             "colorbar": {
              "outlinewidth": 0,
              "ticks": ""
             }
            },
            "type": "scatterternary"
           }
          ],
          "surface": [
           {
            "colorbar": {
             "outlinewidth": 0,
             "ticks": ""
            },
            "colorscale": [
             [
              0,
              "#0d0887"
             ],
             [
              0.1111111111111111,
              "#46039f"
             ],
             [
              0.2222222222222222,
              "#7201a8"
             ],
             [
              0.3333333333333333,
              "#9c179e"
             ],
             [
              0.4444444444444444,
              "#bd3786"
             ],
             [
              0.5555555555555556,
              "#d8576b"
             ],
             [
              0.6666666666666666,
              "#ed7953"
             ],
             [
              0.7777777777777778,
              "#fb9f3a"
             ],
             [
              0.8888888888888888,
              "#fdca26"
             ],
             [
              1,
              "#f0f921"
             ]
            ],
            "type": "surface"
           }
          ],
          "table": [
           {
            "cells": {
             "fill": {
              "color": "#EBF0F8"
             },
             "line": {
              "color": "white"
             }
            },
            "header": {
             "fill": {
              "color": "#C8D4E3"
             },
             "line": {
              "color": "white"
             }
            },
            "type": "table"
           }
          ]
         },
         "layout": {
          "annotationdefaults": {
           "arrowcolor": "#2a3f5f",
           "arrowhead": 0,
           "arrowwidth": 1
          },
          "autotypenumbers": "strict",
          "coloraxis": {
           "colorbar": {
            "outlinewidth": 0,
            "ticks": ""
           }
          },
          "colorscale": {
           "diverging": [
            [
             0,
             "#8e0152"
            ],
            [
             0.1,
             "#c51b7d"
            ],
            [
             0.2,
             "#de77ae"
            ],
            [
             0.3,
             "#f1b6da"
            ],
            [
             0.4,
             "#fde0ef"
            ],
            [
             0.5,
             "#f7f7f7"
            ],
            [
             0.6,
             "#e6f5d0"
            ],
            [
             0.7,
             "#b8e186"
            ],
            [
             0.8,
             "#7fbc41"
            ],
            [
             0.9,
             "#4d9221"
            ],
            [
             1,
             "#276419"
            ]
           ],
           "sequential": [
            [
             0,
             "#0d0887"
            ],
            [
             0.1111111111111111,
             "#46039f"
            ],
            [
             0.2222222222222222,
             "#7201a8"
            ],
            [
             0.3333333333333333,
             "#9c179e"
            ],
            [
             0.4444444444444444,
             "#bd3786"
            ],
            [
             0.5555555555555556,
             "#d8576b"
            ],
            [
             0.6666666666666666,
             "#ed7953"
            ],
            [
             0.7777777777777778,
             "#fb9f3a"
            ],
            [
             0.8888888888888888,
             "#fdca26"
            ],
            [
             1,
             "#f0f921"
            ]
           ],
           "sequentialminus": [
            [
             0,
             "#0d0887"
            ],
            [
             0.1111111111111111,
             "#46039f"
            ],
            [
             0.2222222222222222,
             "#7201a8"
            ],
            [
             0.3333333333333333,
             "#9c179e"
            ],
            [
             0.4444444444444444,
             "#bd3786"
            ],
            [
             0.5555555555555556,
             "#d8576b"
            ],
            [
             0.6666666666666666,
             "#ed7953"
            ],
            [
             0.7777777777777778,
             "#fb9f3a"
            ],
            [
             0.8888888888888888,
             "#fdca26"
            ],
            [
             1,
             "#f0f921"
            ]
           ]
          },
          "colorway": [
           "#636efa",
           "#EF553B",
           "#00cc96",
           "#ab63fa",
           "#FFA15A",
           "#19d3f3",
           "#FF6692",
           "#B6E880",
           "#FF97FF",
           "#FECB52"
          ],
          "font": {
           "color": "#2a3f5f"
          },
          "geo": {
           "bgcolor": "white",
           "lakecolor": "white",
           "landcolor": "#E5ECF6",
           "showlakes": true,
           "showland": true,
           "subunitcolor": "white"
          },
          "hoverlabel": {
           "align": "left"
          },
          "hovermode": "closest",
          "mapbox": {
           "style": "light"
          },
          "paper_bgcolor": "white",
          "plot_bgcolor": "#E5ECF6",
          "polar": {
           "angularaxis": {
            "gridcolor": "white",
            "linecolor": "white",
            "ticks": ""
           },
           "bgcolor": "#E5ECF6",
           "radialaxis": {
            "gridcolor": "white",
            "linecolor": "white",
            "ticks": ""
           }
          },
          "scene": {
           "xaxis": {
            "backgroundcolor": "#E5ECF6",
            "gridcolor": "white",
            "gridwidth": 2,
            "linecolor": "white",
            "showbackground": true,
            "ticks": "",
            "zerolinecolor": "white"
           },
           "yaxis": {
            "backgroundcolor": "#E5ECF6",
            "gridcolor": "white",
            "gridwidth": 2,
            "linecolor": "white",
            "showbackground": true,
            "ticks": "",
            "zerolinecolor": "white"
           },
           "zaxis": {
            "backgroundcolor": "#E5ECF6",
            "gridcolor": "white",
            "gridwidth": 2,
            "linecolor": "white",
            "showbackground": true,
            "ticks": "",
            "zerolinecolor": "white"
           }
          },
          "shapedefaults": {
           "line": {
            "color": "#2a3f5f"
           }
          },
          "ternary": {
           "aaxis": {
            "gridcolor": "white",
            "linecolor": "white",
            "ticks": ""
           },
           "baxis": {
            "gridcolor": "white",
            "linecolor": "white",
            "ticks": ""
           },
           "bgcolor": "#E5ECF6",
           "caxis": {
            "gridcolor": "white",
            "linecolor": "white",
            "ticks": ""
           }
          },
          "title": {
           "x": 0.05
          },
          "xaxis": {
           "automargin": true,
           "gridcolor": "white",
           "linecolor": "white",
           "ticks": "",
           "title": {
            "standoff": 15
           },
           "zerolinecolor": "white",
           "zerolinewidth": 2
          },
          "yaxis": {
           "automargin": true,
           "gridcolor": "white",
           "linecolor": "white",
           "ticks": "",
           "title": {
            "standoff": 15
           },
           "zerolinecolor": "white",
           "zerolinewidth": 2
          }
         }
        },
        "title": {
         "text": "Titre de votre choix"
        },
        "xaxis": {
         "anchor": "y",
         "categoryarray": [
          false,
          true
         ],
         "categoryorder": "array",
         "domain": [
          0,
          1
         ],
         "title": {
          "text": "maj_feminine"
         }
        },
        "yaxis": {
         "anchor": "x",
         "domain": [
          0,
          1
         ],
         "title": {
          "text": "Nombres d'articles"
         }
        }
       }
      }
     },
     "metadata": {},
     "output_type": "display_data"
    }
   ],
   "source": [
    "# Créé un bar chart en utilisant la fonction .bar()\n",
    "fig = px.bar(\n",
    "    articles_par_maj_femmes,\n",
    "    x=\"maj_feminine\",\n",
    "    y=\"size\",\n",
    "    title=\"Titre de votre choix\",\n",
    "    labels={\"size\": \"Nombres d'articles\"},\n",
    "\n",
    "    # Notez que l'argument \"color\" prend une chaine de caractères se referant à \n",
    "    # la colonne \"xxx\" du jeu de donnée\n",
    "    color=\"maj_feminine\"\n",
    ")\n",
    "\n",
    "fig.show()"
   ]
  },
  {
   "cell_type": "markdown",
   "metadata": {},
   "source": [
    "Comme montré ci dessus, Plotly ajoute automatiquement une légende au graphe si vous distinguez les objets par des couleurs (à savoir que la légende peut être retirée). La légende est elle aussi interactive : en cliquant une fois sur un élément, la barre correspondante disparait du graphe; en double-cliquant sur un élément, cette fois ci tous les autres objets disparaissent excepté celui que vous avez sélectrionné."
   ]
  },
  {
   "cell_type": "markdown",
   "metadata": {},
   "source": [
    "## Courbes"
   ]
  },
  {
   "cell_type": "markdown",
   "metadata": {},
   "source": [
    "Tâchons maintenant de créer un graph de ligne (line chart). De manière générale, la syntaxe pour créer un graphe avec Plotly Express est toujours `px.type_de_graphe()`  où `type_de_graphe` représente le type de graphe que l'on souhaite créer. Comme on a utilisé `px.bar()` pour créer un histogramme (bar chart), ici nous utiliserons `px.line()` pour créer un line chart. Tous les types de graphes disponibles et les fonctions associées peuvent être trouvées dans la [documentation Plotly](https://perma.cc/U4N7-2VM5).\n",
    "\n",
    "Notre graphe de ligne représentera .... à travers les années. Comme précédemment, nous créons un nouveau `DataFrame` qui regroupera les xxx par année et par xxx :"
   ]
  },
  {
   "cell_type": "code",
   "execution_count": 46,
   "metadata": {},
   "outputs": [],
   "source": [
    "# Créé un nouveau DataFrame contenant le nombre de xxxx par année et par xxx\n",
    "evolution_genre_par_annee = df.\\\n",
    "    groupby([\"maj_feminine\", \"annee_publication\"], as_index=False).\\\n",
    "    size()"
   ]
  },
  {
   "cell_type": "markdown",
   "metadata": {},
   "source": [
    "Ensuite, nous créons plusieurs courbes en utilisant la fonction `.line()` et utilisons les mêmes paramètres que précédement à savoir : `label` et `color`. Ici encore il est possible d'ajouter un titre à notre figure, il suffit de retirer le `#` devait l'argument `title` dans l'exemple suivant (et tous ceux qui suivent) :"
   ]
  },
  {
   "cell_type": "code",
   "execution_count": 50,
   "metadata": {},
   "outputs": [
    {
     "data": {
      "application/vnd.plotly.v1+json": {
       "config": {
        "plotlyServerURL": "https://plot.ly"
       },
       "data": [
        {
         "hovertemplate": "maj_feminine=False<br>annee_publication=%{x}<br>Nombre d'articles publiés=%{y}<extra></extra>",
         "legendgroup": "False",
         "line": {
          "color": "#636efa",
          "dash": "solid"
         },
         "marker": {
          "symbol": "circle"
         },
         "mode": "lines",
         "name": "False",
         "orientation": "v",
         "showlegend": true,
         "type": "scatter",
         "x": [
          2001,
          2002,
          2003,
          2004,
          2005,
          2006,
          2007,
          2008,
          2009,
          2010,
          2011,
          2012,
          2013,
          2014,
          2015,
          2016,
          2017,
          2018,
          2019,
          2020,
          2021,
          2022
         ],
         "xaxis": "x",
         "y": [
          779,
          856,
          978,
          1068,
          1056,
          1163,
          1357,
          1452,
          1328,
          1401,
          1507,
          1413,
          1350,
          1445,
          1430,
          1538,
          1374,
          1475,
          1363,
          1157,
          1393,
          1259
         ],
         "yaxis": "y"
        },
        {
         "hovertemplate": "maj_feminine=True<br>annee_publication=%{x}<br>Nombre d'articles publiés=%{y}<extra></extra>",
         "legendgroup": "True",
         "line": {
          "color": "#EF553B",
          "dash": "solid"
         },
         "marker": {
          "symbol": "circle"
         },
         "mode": "lines",
         "name": "True",
         "orientation": "v",
         "showlegend": true,
         "type": "scatter",
         "x": [
          2001,
          2002,
          2003,
          2004,
          2005,
          2006,
          2007,
          2008,
          2009,
          2010,
          2011,
          2012,
          2013,
          2014,
          2015,
          2016,
          2017,
          2018,
          2019,
          2020,
          2021,
          2022
         ],
         "xaxis": "x",
         "y": [
          405,
          457,
          558,
          619,
          659,
          789,
          802,
          865,
          1023,
          1068,
          1013,
          1063,
          1028,
          1075,
          1100,
          1110,
          1151,
          1129,
          1137,
          1034,
          1207,
          1247
         ],
         "yaxis": "y"
        }
       ],
       "layout": {
        "legend": {
         "title": {
          "text": "maj_feminine"
         },
         "tracegroupgap": 0
        },
        "margin": {
         "t": 60
        },
        "template": {
         "data": {
          "bar": [
           {
            "error_x": {
             "color": "#2a3f5f"
            },
            "error_y": {
             "color": "#2a3f5f"
            },
            "marker": {
             "line": {
              "color": "#E5ECF6",
              "width": 0.5
             },
             "pattern": {
              "fillmode": "overlay",
              "size": 10,
              "solidity": 0.2
             }
            },
            "type": "bar"
           }
          ],
          "barpolar": [
           {
            "marker": {
             "line": {
              "color": "#E5ECF6",
              "width": 0.5
             },
             "pattern": {
              "fillmode": "overlay",
              "size": 10,
              "solidity": 0.2
             }
            },
            "type": "barpolar"
           }
          ],
          "carpet": [
           {
            "aaxis": {
             "endlinecolor": "#2a3f5f",
             "gridcolor": "white",
             "linecolor": "white",
             "minorgridcolor": "white",
             "startlinecolor": "#2a3f5f"
            },
            "baxis": {
             "endlinecolor": "#2a3f5f",
             "gridcolor": "white",
             "linecolor": "white",
             "minorgridcolor": "white",
             "startlinecolor": "#2a3f5f"
            },
            "type": "carpet"
           }
          ],
          "choropleth": [
           {
            "colorbar": {
             "outlinewidth": 0,
             "ticks": ""
            },
            "type": "choropleth"
           }
          ],
          "contour": [
           {
            "colorbar": {
             "outlinewidth": 0,
             "ticks": ""
            },
            "colorscale": [
             [
              0,
              "#0d0887"
             ],
             [
              0.1111111111111111,
              "#46039f"
             ],
             [
              0.2222222222222222,
              "#7201a8"
             ],
             [
              0.3333333333333333,
              "#9c179e"
             ],
             [
              0.4444444444444444,
              "#bd3786"
             ],
             [
              0.5555555555555556,
              "#d8576b"
             ],
             [
              0.6666666666666666,
              "#ed7953"
             ],
             [
              0.7777777777777778,
              "#fb9f3a"
             ],
             [
              0.8888888888888888,
              "#fdca26"
             ],
             [
              1,
              "#f0f921"
             ]
            ],
            "type": "contour"
           }
          ],
          "contourcarpet": [
           {
            "colorbar": {
             "outlinewidth": 0,
             "ticks": ""
            },
            "type": "contourcarpet"
           }
          ],
          "heatmap": [
           {
            "colorbar": {
             "outlinewidth": 0,
             "ticks": ""
            },
            "colorscale": [
             [
              0,
              "#0d0887"
             ],
             [
              0.1111111111111111,
              "#46039f"
             ],
             [
              0.2222222222222222,
              "#7201a8"
             ],
             [
              0.3333333333333333,
              "#9c179e"
             ],
             [
              0.4444444444444444,
              "#bd3786"
             ],
             [
              0.5555555555555556,
              "#d8576b"
             ],
             [
              0.6666666666666666,
              "#ed7953"
             ],
             [
              0.7777777777777778,
              "#fb9f3a"
             ],
             [
              0.8888888888888888,
              "#fdca26"
             ],
             [
              1,
              "#f0f921"
             ]
            ],
            "type": "heatmap"
           }
          ],
          "heatmapgl": [
           {
            "colorbar": {
             "outlinewidth": 0,
             "ticks": ""
            },
            "colorscale": [
             [
              0,
              "#0d0887"
             ],
             [
              0.1111111111111111,
              "#46039f"
             ],
             [
              0.2222222222222222,
              "#7201a8"
             ],
             [
              0.3333333333333333,
              "#9c179e"
             ],
             [
              0.4444444444444444,
              "#bd3786"
             ],
             [
              0.5555555555555556,
              "#d8576b"
             ],
             [
              0.6666666666666666,
              "#ed7953"
             ],
             [
              0.7777777777777778,
              "#fb9f3a"
             ],
             [
              0.8888888888888888,
              "#fdca26"
             ],
             [
              1,
              "#f0f921"
             ]
            ],
            "type": "heatmapgl"
           }
          ],
          "histogram": [
           {
            "marker": {
             "pattern": {
              "fillmode": "overlay",
              "size": 10,
              "solidity": 0.2
             }
            },
            "type": "histogram"
           }
          ],
          "histogram2d": [
           {
            "colorbar": {
             "outlinewidth": 0,
             "ticks": ""
            },
            "colorscale": [
             [
              0,
              "#0d0887"
             ],
             [
              0.1111111111111111,
              "#46039f"
             ],
             [
              0.2222222222222222,
              "#7201a8"
             ],
             [
              0.3333333333333333,
              "#9c179e"
             ],
             [
              0.4444444444444444,
              "#bd3786"
             ],
             [
              0.5555555555555556,
              "#d8576b"
             ],
             [
              0.6666666666666666,
              "#ed7953"
             ],
             [
              0.7777777777777778,
              "#fb9f3a"
             ],
             [
              0.8888888888888888,
              "#fdca26"
             ],
             [
              1,
              "#f0f921"
             ]
            ],
            "type": "histogram2d"
           }
          ],
          "histogram2dcontour": [
           {
            "colorbar": {
             "outlinewidth": 0,
             "ticks": ""
            },
            "colorscale": [
             [
              0,
              "#0d0887"
             ],
             [
              0.1111111111111111,
              "#46039f"
             ],
             [
              0.2222222222222222,
              "#7201a8"
             ],
             [
              0.3333333333333333,
              "#9c179e"
             ],
             [
              0.4444444444444444,
              "#bd3786"
             ],
             [
              0.5555555555555556,
              "#d8576b"
             ],
             [
              0.6666666666666666,
              "#ed7953"
             ],
             [
              0.7777777777777778,
              "#fb9f3a"
             ],
             [
              0.8888888888888888,
              "#fdca26"
             ],
             [
              1,
              "#f0f921"
             ]
            ],
            "type": "histogram2dcontour"
           }
          ],
          "mesh3d": [
           {
            "colorbar": {
             "outlinewidth": 0,
             "ticks": ""
            },
            "type": "mesh3d"
           }
          ],
          "parcoords": [
           {
            "line": {
             "colorbar": {
              "outlinewidth": 0,
              "ticks": ""
             }
            },
            "type": "parcoords"
           }
          ],
          "pie": [
           {
            "automargin": true,
            "type": "pie"
           }
          ],
          "scatter": [
           {
            "fillpattern": {
             "fillmode": "overlay",
             "size": 10,
             "solidity": 0.2
            },
            "type": "scatter"
           }
          ],
          "scatter3d": [
           {
            "line": {
             "colorbar": {
              "outlinewidth": 0,
              "ticks": ""
             }
            },
            "marker": {
             "colorbar": {
              "outlinewidth": 0,
              "ticks": ""
             }
            },
            "type": "scatter3d"
           }
          ],
          "scattercarpet": [
           {
            "marker": {
             "colorbar": {
              "outlinewidth": 0,
              "ticks": ""
             }
            },
            "type": "scattercarpet"
           }
          ],
          "scattergeo": [
           {
            "marker": {
             "colorbar": {
              "outlinewidth": 0,
              "ticks": ""
             }
            },
            "type": "scattergeo"
           }
          ],
          "scattergl": [
           {
            "marker": {
             "colorbar": {
              "outlinewidth": 0,
              "ticks": ""
             }
            },
            "type": "scattergl"
           }
          ],
          "scattermapbox": [
           {
            "marker": {
             "colorbar": {
              "outlinewidth": 0,
              "ticks": ""
             }
            },
            "type": "scattermapbox"
           }
          ],
          "scatterpolar": [
           {
            "marker": {
             "colorbar": {
              "outlinewidth": 0,
              "ticks": ""
             }
            },
            "type": "scatterpolar"
           }
          ],
          "scatterpolargl": [
           {
            "marker": {
             "colorbar": {
              "outlinewidth": 0,
              "ticks": ""
             }
            },
            "type": "scatterpolargl"
           }
          ],
          "scatterternary": [
           {
            "marker": {
             "colorbar": {
              "outlinewidth": 0,
              "ticks": ""
             }
            },
            "type": "scatterternary"
           }
          ],
          "surface": [
           {
            "colorbar": {
             "outlinewidth": 0,
             "ticks": ""
            },
            "colorscale": [
             [
              0,
              "#0d0887"
             ],
             [
              0.1111111111111111,
              "#46039f"
             ],
             [
              0.2222222222222222,
              "#7201a8"
             ],
             [
              0.3333333333333333,
              "#9c179e"
             ],
             [
              0.4444444444444444,
              "#bd3786"
             ],
             [
              0.5555555555555556,
              "#d8576b"
             ],
             [
              0.6666666666666666,
              "#ed7953"
             ],
             [
              0.7777777777777778,
              "#fb9f3a"
             ],
             [
              0.8888888888888888,
              "#fdca26"
             ],
             [
              1,
              "#f0f921"
             ]
            ],
            "type": "surface"
           }
          ],
          "table": [
           {
            "cells": {
             "fill": {
              "color": "#EBF0F8"
             },
             "line": {
              "color": "white"
             }
            },
            "header": {
             "fill": {
              "color": "#C8D4E3"
             },
             "line": {
              "color": "white"
             }
            },
            "type": "table"
           }
          ]
         },
         "layout": {
          "annotationdefaults": {
           "arrowcolor": "#2a3f5f",
           "arrowhead": 0,
           "arrowwidth": 1
          },
          "autotypenumbers": "strict",
          "coloraxis": {
           "colorbar": {
            "outlinewidth": 0,
            "ticks": ""
           }
          },
          "colorscale": {
           "diverging": [
            [
             0,
             "#8e0152"
            ],
            [
             0.1,
             "#c51b7d"
            ],
            [
             0.2,
             "#de77ae"
            ],
            [
             0.3,
             "#f1b6da"
            ],
            [
             0.4,
             "#fde0ef"
            ],
            [
             0.5,
             "#f7f7f7"
            ],
            [
             0.6,
             "#e6f5d0"
            ],
            [
             0.7,
             "#b8e186"
            ],
            [
             0.8,
             "#7fbc41"
            ],
            [
             0.9,
             "#4d9221"
            ],
            [
             1,
             "#276419"
            ]
           ],
           "sequential": [
            [
             0,
             "#0d0887"
            ],
            [
             0.1111111111111111,
             "#46039f"
            ],
            [
             0.2222222222222222,
             "#7201a8"
            ],
            [
             0.3333333333333333,
             "#9c179e"
            ],
            [
             0.4444444444444444,
             "#bd3786"
            ],
            [
             0.5555555555555556,
             "#d8576b"
            ],
            [
             0.6666666666666666,
             "#ed7953"
            ],
            [
             0.7777777777777778,
             "#fb9f3a"
            ],
            [
             0.8888888888888888,
             "#fdca26"
            ],
            [
             1,
             "#f0f921"
            ]
           ],
           "sequentialminus": [
            [
             0,
             "#0d0887"
            ],
            [
             0.1111111111111111,
             "#46039f"
            ],
            [
             0.2222222222222222,
             "#7201a8"
            ],
            [
             0.3333333333333333,
             "#9c179e"
            ],
            [
             0.4444444444444444,
             "#bd3786"
            ],
            [
             0.5555555555555556,
             "#d8576b"
            ],
            [
             0.6666666666666666,
             "#ed7953"
            ],
            [
             0.7777777777777778,
             "#fb9f3a"
            ],
            [
             0.8888888888888888,
             "#fdca26"
            ],
            [
             1,
             "#f0f921"
            ]
           ]
          },
          "colorway": [
           "#636efa",
           "#EF553B",
           "#00cc96",
           "#ab63fa",
           "#FFA15A",
           "#19d3f3",
           "#FF6692",
           "#B6E880",
           "#FF97FF",
           "#FECB52"
          ],
          "font": {
           "color": "#2a3f5f"
          },
          "geo": {
           "bgcolor": "white",
           "lakecolor": "white",
           "landcolor": "#E5ECF6",
           "showlakes": true,
           "showland": true,
           "subunitcolor": "white"
          },
          "hoverlabel": {
           "align": "left"
          },
          "hovermode": "closest",
          "mapbox": {
           "style": "light"
          },
          "paper_bgcolor": "white",
          "plot_bgcolor": "#E5ECF6",
          "polar": {
           "angularaxis": {
            "gridcolor": "white",
            "linecolor": "white",
            "ticks": ""
           },
           "bgcolor": "#E5ECF6",
           "radialaxis": {
            "gridcolor": "white",
            "linecolor": "white",
            "ticks": ""
           }
          },
          "scene": {
           "xaxis": {
            "backgroundcolor": "#E5ECF6",
            "gridcolor": "white",
            "gridwidth": 2,
            "linecolor": "white",
            "showbackground": true,
            "ticks": "",
            "zerolinecolor": "white"
           },
           "yaxis": {
            "backgroundcolor": "#E5ECF6",
            "gridcolor": "white",
            "gridwidth": 2,
            "linecolor": "white",
            "showbackground": true,
            "ticks": "",
            "zerolinecolor": "white"
           },
           "zaxis": {
            "backgroundcolor": "#E5ECF6",
            "gridcolor": "white",
            "gridwidth": 2,
            "linecolor": "white",
            "showbackground": true,
            "ticks": "",
            "zerolinecolor": "white"
           }
          },
          "shapedefaults": {
           "line": {
            "color": "#2a3f5f"
           }
          },
          "ternary": {
           "aaxis": {
            "gridcolor": "white",
            "linecolor": "white",
            "ticks": ""
           },
           "baxis": {
            "gridcolor": "white",
            "linecolor": "white",
            "ticks": ""
           },
           "bgcolor": "#E5ECF6",
           "caxis": {
            "gridcolor": "white",
            "linecolor": "white",
            "ticks": ""
           }
          },
          "title": {
           "x": 0.05
          },
          "xaxis": {
           "automargin": true,
           "gridcolor": "white",
           "linecolor": "white",
           "ticks": "",
           "title": {
            "standoff": 15
           },
           "zerolinecolor": "white",
           "zerolinewidth": 2
          },
          "yaxis": {
           "automargin": true,
           "gridcolor": "white",
           "linecolor": "white",
           "ticks": "",
           "title": {
            "standoff": 15
           },
           "zerolinecolor": "white",
           "zerolinewidth": 2
          }
         }
        },
        "xaxis": {
         "anchor": "y",
         "domain": [
          0,
          1
         ],
         "title": {
          "text": "annee_publication"
         }
        },
        "yaxis": {
         "anchor": "x",
         "domain": [
          0,
          1
         ],
         "title": {
          "text": "Nombre d'articles publiés"
         }
        }
       }
      }
     },
     "metadata": {},
     "output_type": "display_data"
    }
   ],
   "source": [
    "# Créé des courbes avec la fonction px.line() et ajoute quelques customisations\n",
    "fig = px.line(\n",
    "    evolution_genre_par_annee,\n",
    "    x = \"annee_publication\",\n",
    "    y = \"size\",\n",
    "    # title = \"Ajouter le titre de votre choix\",\n",
    "    labels = {\"size\" : \"Nombre d'articles publiés\"},\n",
    "    color = \"maj_feminine\"\n",
    ")\n",
    "\n",
    "fig.show()"
   ]
  },
  {
   "cell_type": "markdown",
   "metadata": {},
   "source": [
    "Nous avons appris à créer de nouveaux graphes et de les personnaliser - mais comment faire pour personnaliser notre figure après l'avoir créer ? À la place nous pouvons utiliser la fonction `.update_layout()` sur notre `fig` pour éditer *le graphe plus tard*/ Cette fonction peut être appliquée à n'importe quel graphe généré avec Plotly Express afin de modifier un large panel de paramètres. Prenons comme exemple la fonction générée précédemment et modifions la police, la couleur et la taille de notre titre : "
   ]
  },
  {
   "cell_type": "code",
   "execution_count": 51,
   "metadata": {},
   "outputs": [
    {
     "data": {
      "application/vnd.plotly.v1+json": {
       "config": {
        "plotlyServerURL": "https://plot.ly"
       },
       "data": [
        {
         "hovertemplate": "maj_feminine=False<br>annee_publication=%{x}<br>Nombre d'articles publiés=%{y}<extra></extra>",
         "legendgroup": "False",
         "line": {
          "color": "#636efa",
          "dash": "solid"
         },
         "marker": {
          "symbol": "circle"
         },
         "mode": "lines",
         "name": "False",
         "orientation": "v",
         "showlegend": true,
         "type": "scatter",
         "x": [
          2001,
          2002,
          2003,
          2004,
          2005,
          2006,
          2007,
          2008,
          2009,
          2010,
          2011,
          2012,
          2013,
          2014,
          2015,
          2016,
          2017,
          2018,
          2019,
          2020,
          2021,
          2022
         ],
         "xaxis": "x",
         "y": [
          779,
          856,
          978,
          1068,
          1056,
          1163,
          1357,
          1452,
          1328,
          1401,
          1507,
          1413,
          1350,
          1445,
          1430,
          1538,
          1374,
          1475,
          1363,
          1157,
          1393,
          1259
         ],
         "yaxis": "y"
        },
        {
         "hovertemplate": "maj_feminine=True<br>annee_publication=%{x}<br>Nombre d'articles publiés=%{y}<extra></extra>",
         "legendgroup": "True",
         "line": {
          "color": "#EF553B",
          "dash": "solid"
         },
         "marker": {
          "symbol": "circle"
         },
         "mode": "lines",
         "name": "True",
         "orientation": "v",
         "showlegend": true,
         "type": "scatter",
         "x": [
          2001,
          2002,
          2003,
          2004,
          2005,
          2006,
          2007,
          2008,
          2009,
          2010,
          2011,
          2012,
          2013,
          2014,
          2015,
          2016,
          2017,
          2018,
          2019,
          2020,
          2021,
          2022
         ],
         "xaxis": "x",
         "y": [
          405,
          457,
          558,
          619,
          659,
          789,
          802,
          865,
          1023,
          1068,
          1013,
          1063,
          1028,
          1075,
          1100,
          1110,
          1151,
          1129,
          1137,
          1034,
          1207,
          1247
         ],
         "yaxis": "y"
        }
       ],
       "layout": {
        "font": {
         "color": "blue",
         "family": "Courrier New"
        },
        "legend": {
         "title": {
          "font": {
           "color": "red"
          },
          "text": "maj_feminine"
         },
         "tracegroupgap": 0
        },
        "margin": {
         "t": 60
        },
        "template": {
         "data": {
          "bar": [
           {
            "error_x": {
             "color": "#2a3f5f"
            },
            "error_y": {
             "color": "#2a3f5f"
            },
            "marker": {
             "line": {
              "color": "#E5ECF6",
              "width": 0.5
             },
             "pattern": {
              "fillmode": "overlay",
              "size": 10,
              "solidity": 0.2
             }
            },
            "type": "bar"
           }
          ],
          "barpolar": [
           {
            "marker": {
             "line": {
              "color": "#E5ECF6",
              "width": 0.5
             },
             "pattern": {
              "fillmode": "overlay",
              "size": 10,
              "solidity": 0.2
             }
            },
            "type": "barpolar"
           }
          ],
          "carpet": [
           {
            "aaxis": {
             "endlinecolor": "#2a3f5f",
             "gridcolor": "white",
             "linecolor": "white",
             "minorgridcolor": "white",
             "startlinecolor": "#2a3f5f"
            },
            "baxis": {
             "endlinecolor": "#2a3f5f",
             "gridcolor": "white",
             "linecolor": "white",
             "minorgridcolor": "white",
             "startlinecolor": "#2a3f5f"
            },
            "type": "carpet"
           }
          ],
          "choropleth": [
           {
            "colorbar": {
             "outlinewidth": 0,
             "ticks": ""
            },
            "type": "choropleth"
           }
          ],
          "contour": [
           {
            "colorbar": {
             "outlinewidth": 0,
             "ticks": ""
            },
            "colorscale": [
             [
              0,
              "#0d0887"
             ],
             [
              0.1111111111111111,
              "#46039f"
             ],
             [
              0.2222222222222222,
              "#7201a8"
             ],
             [
              0.3333333333333333,
              "#9c179e"
             ],
             [
              0.4444444444444444,
              "#bd3786"
             ],
             [
              0.5555555555555556,
              "#d8576b"
             ],
             [
              0.6666666666666666,
              "#ed7953"
             ],
             [
              0.7777777777777778,
              "#fb9f3a"
             ],
             [
              0.8888888888888888,
              "#fdca26"
             ],
             [
              1,
              "#f0f921"
             ]
            ],
            "type": "contour"
           }
          ],
          "contourcarpet": [
           {
            "colorbar": {
             "outlinewidth": 0,
             "ticks": ""
            },
            "type": "contourcarpet"
           }
          ],
          "heatmap": [
           {
            "colorbar": {
             "outlinewidth": 0,
             "ticks": ""
            },
            "colorscale": [
             [
              0,
              "#0d0887"
             ],
             [
              0.1111111111111111,
              "#46039f"
             ],
             [
              0.2222222222222222,
              "#7201a8"
             ],
             [
              0.3333333333333333,
              "#9c179e"
             ],
             [
              0.4444444444444444,
              "#bd3786"
             ],
             [
              0.5555555555555556,
              "#d8576b"
             ],
             [
              0.6666666666666666,
              "#ed7953"
             ],
             [
              0.7777777777777778,
              "#fb9f3a"
             ],
             [
              0.8888888888888888,
              "#fdca26"
             ],
             [
              1,
              "#f0f921"
             ]
            ],
            "type": "heatmap"
           }
          ],
          "heatmapgl": [
           {
            "colorbar": {
             "outlinewidth": 0,
             "ticks": ""
            },
            "colorscale": [
             [
              0,
              "#0d0887"
             ],
             [
              0.1111111111111111,
              "#46039f"
             ],
             [
              0.2222222222222222,
              "#7201a8"
             ],
             [
              0.3333333333333333,
              "#9c179e"
             ],
             [
              0.4444444444444444,
              "#bd3786"
             ],
             [
              0.5555555555555556,
              "#d8576b"
             ],
             [
              0.6666666666666666,
              "#ed7953"
             ],
             [
              0.7777777777777778,
              "#fb9f3a"
             ],
             [
              0.8888888888888888,
              "#fdca26"
             ],
             [
              1,
              "#f0f921"
             ]
            ],
            "type": "heatmapgl"
           }
          ],
          "histogram": [
           {
            "marker": {
             "pattern": {
              "fillmode": "overlay",
              "size": 10,
              "solidity": 0.2
             }
            },
            "type": "histogram"
           }
          ],
          "histogram2d": [
           {
            "colorbar": {
             "outlinewidth": 0,
             "ticks": ""
            },
            "colorscale": [
             [
              0,
              "#0d0887"
             ],
             [
              0.1111111111111111,
              "#46039f"
             ],
             [
              0.2222222222222222,
              "#7201a8"
             ],
             [
              0.3333333333333333,
              "#9c179e"
             ],
             [
              0.4444444444444444,
              "#bd3786"
             ],
             [
              0.5555555555555556,
              "#d8576b"
             ],
             [
              0.6666666666666666,
              "#ed7953"
             ],
             [
              0.7777777777777778,
              "#fb9f3a"
             ],
             [
              0.8888888888888888,
              "#fdca26"
             ],
             [
              1,
              "#f0f921"
             ]
            ],
            "type": "histogram2d"
           }
          ],
          "histogram2dcontour": [
           {
            "colorbar": {
             "outlinewidth": 0,
             "ticks": ""
            },
            "colorscale": [
             [
              0,
              "#0d0887"
             ],
             [
              0.1111111111111111,
              "#46039f"
             ],
             [
              0.2222222222222222,
              "#7201a8"
             ],
             [
              0.3333333333333333,
              "#9c179e"
             ],
             [
              0.4444444444444444,
              "#bd3786"
             ],
             [
              0.5555555555555556,
              "#d8576b"
             ],
             [
              0.6666666666666666,
              "#ed7953"
             ],
             [
              0.7777777777777778,
              "#fb9f3a"
             ],
             [
              0.8888888888888888,
              "#fdca26"
             ],
             [
              1,
              "#f0f921"
             ]
            ],
            "type": "histogram2dcontour"
           }
          ],
          "mesh3d": [
           {
            "colorbar": {
             "outlinewidth": 0,
             "ticks": ""
            },
            "type": "mesh3d"
           }
          ],
          "parcoords": [
           {
            "line": {
             "colorbar": {
              "outlinewidth": 0,
              "ticks": ""
             }
            },
            "type": "parcoords"
           }
          ],
          "pie": [
           {
            "automargin": true,
            "type": "pie"
           }
          ],
          "scatter": [
           {
            "fillpattern": {
             "fillmode": "overlay",
             "size": 10,
             "solidity": 0.2
            },
            "type": "scatter"
           }
          ],
          "scatter3d": [
           {
            "line": {
             "colorbar": {
              "outlinewidth": 0,
              "ticks": ""
             }
            },
            "marker": {
             "colorbar": {
              "outlinewidth": 0,
              "ticks": ""
             }
            },
            "type": "scatter3d"
           }
          ],
          "scattercarpet": [
           {
            "marker": {
             "colorbar": {
              "outlinewidth": 0,
              "ticks": ""
             }
            },
            "type": "scattercarpet"
           }
          ],
          "scattergeo": [
           {
            "marker": {
             "colorbar": {
              "outlinewidth": 0,
              "ticks": ""
             }
            },
            "type": "scattergeo"
           }
          ],
          "scattergl": [
           {
            "marker": {
             "colorbar": {
              "outlinewidth": 0,
              "ticks": ""
             }
            },
            "type": "scattergl"
           }
          ],
          "scattermapbox": [
           {
            "marker": {
             "colorbar": {
              "outlinewidth": 0,
              "ticks": ""
             }
            },
            "type": "scattermapbox"
           }
          ],
          "scatterpolar": [
           {
            "marker": {
             "colorbar": {
              "outlinewidth": 0,
              "ticks": ""
             }
            },
            "type": "scatterpolar"
           }
          ],
          "scatterpolargl": [
           {
            "marker": {
             "colorbar": {
              "outlinewidth": 0,
              "ticks": ""
             }
            },
            "type": "scatterpolargl"
           }
          ],
          "scatterternary": [
           {
            "marker": {
             "colorbar": {
              "outlinewidth": 0,
              "ticks": ""
             }
            },
            "type": "scatterternary"
           }
          ],
          "surface": [
           {
            "colorbar": {
             "outlinewidth": 0,
             "ticks": ""
            },
            "colorscale": [
             [
              0,
              "#0d0887"
             ],
             [
              0.1111111111111111,
              "#46039f"
             ],
             [
              0.2222222222222222,
              "#7201a8"
             ],
             [
              0.3333333333333333,
              "#9c179e"
             ],
             [
              0.4444444444444444,
              "#bd3786"
             ],
             [
              0.5555555555555556,
              "#d8576b"
             ],
             [
              0.6666666666666666,
              "#ed7953"
             ],
             [
              0.7777777777777778,
              "#fb9f3a"
             ],
             [
              0.8888888888888888,
              "#fdca26"
             ],
             [
              1,
              "#f0f921"
             ]
            ],
            "type": "surface"
           }
          ],
          "table": [
           {
            "cells": {
             "fill": {
              "color": "#EBF0F8"
             },
             "line": {
              "color": "white"
             }
            },
            "header": {
             "fill": {
              "color": "#C8D4E3"
             },
             "line": {
              "color": "white"
             }
            },
            "type": "table"
           }
          ]
         },
         "layout": {
          "annotationdefaults": {
           "arrowcolor": "#2a3f5f",
           "arrowhead": 0,
           "arrowwidth": 1
          },
          "autotypenumbers": "strict",
          "coloraxis": {
           "colorbar": {
            "outlinewidth": 0,
            "ticks": ""
           }
          },
          "colorscale": {
           "diverging": [
            [
             0,
             "#8e0152"
            ],
            [
             0.1,
             "#c51b7d"
            ],
            [
             0.2,
             "#de77ae"
            ],
            [
             0.3,
             "#f1b6da"
            ],
            [
             0.4,
             "#fde0ef"
            ],
            [
             0.5,
             "#f7f7f7"
            ],
            [
             0.6,
             "#e6f5d0"
            ],
            [
             0.7,
             "#b8e186"
            ],
            [
             0.8,
             "#7fbc41"
            ],
            [
             0.9,
             "#4d9221"
            ],
            [
             1,
             "#276419"
            ]
           ],
           "sequential": [
            [
             0,
             "#0d0887"
            ],
            [
             0.1111111111111111,
             "#46039f"
            ],
            [
             0.2222222222222222,
             "#7201a8"
            ],
            [
             0.3333333333333333,
             "#9c179e"
            ],
            [
             0.4444444444444444,
             "#bd3786"
            ],
            [
             0.5555555555555556,
             "#d8576b"
            ],
            [
             0.6666666666666666,
             "#ed7953"
            ],
            [
             0.7777777777777778,
             "#fb9f3a"
            ],
            [
             0.8888888888888888,
             "#fdca26"
            ],
            [
             1,
             "#f0f921"
            ]
           ],
           "sequentialminus": [
            [
             0,
             "#0d0887"
            ],
            [
             0.1111111111111111,
             "#46039f"
            ],
            [
             0.2222222222222222,
             "#7201a8"
            ],
            [
             0.3333333333333333,
             "#9c179e"
            ],
            [
             0.4444444444444444,
             "#bd3786"
            ],
            [
             0.5555555555555556,
             "#d8576b"
            ],
            [
             0.6666666666666666,
             "#ed7953"
            ],
            [
             0.7777777777777778,
             "#fb9f3a"
            ],
            [
             0.8888888888888888,
             "#fdca26"
            ],
            [
             1,
             "#f0f921"
            ]
           ]
          },
          "colorway": [
           "#636efa",
           "#EF553B",
           "#00cc96",
           "#ab63fa",
           "#FFA15A",
           "#19d3f3",
           "#FF6692",
           "#B6E880",
           "#FF97FF",
           "#FECB52"
          ],
          "font": {
           "color": "#2a3f5f"
          },
          "geo": {
           "bgcolor": "white",
           "lakecolor": "white",
           "landcolor": "#E5ECF6",
           "showlakes": true,
           "showland": true,
           "subunitcolor": "white"
          },
          "hoverlabel": {
           "align": "left"
          },
          "hovermode": "closest",
          "mapbox": {
           "style": "light"
          },
          "paper_bgcolor": "white",
          "plot_bgcolor": "#E5ECF6",
          "polar": {
           "angularaxis": {
            "gridcolor": "white",
            "linecolor": "white",
            "ticks": ""
           },
           "bgcolor": "#E5ECF6",
           "radialaxis": {
            "gridcolor": "white",
            "linecolor": "white",
            "ticks": ""
           }
          },
          "scene": {
           "xaxis": {
            "backgroundcolor": "#E5ECF6",
            "gridcolor": "white",
            "gridwidth": 2,
            "linecolor": "white",
            "showbackground": true,
            "ticks": "",
            "zerolinecolor": "white"
           },
           "yaxis": {
            "backgroundcolor": "#E5ECF6",
            "gridcolor": "white",
            "gridwidth": 2,
            "linecolor": "white",
            "showbackground": true,
            "ticks": "",
            "zerolinecolor": "white"
           },
           "zaxis": {
            "backgroundcolor": "#E5ECF6",
            "gridcolor": "white",
            "gridwidth": 2,
            "linecolor": "white",
            "showbackground": true,
            "ticks": "",
            "zerolinecolor": "white"
           }
          },
          "shapedefaults": {
           "line": {
            "color": "#2a3f5f"
           }
          },
          "ternary": {
           "aaxis": {
            "gridcolor": "white",
            "linecolor": "white",
            "ticks": ""
           },
           "baxis": {
            "gridcolor": "white",
            "linecolor": "white",
            "ticks": ""
           },
           "bgcolor": "#E5ECF6",
           "caxis": {
            "gridcolor": "white",
            "linecolor": "white",
            "ticks": ""
           }
          },
          "title": {
           "x": 0.05
          },
          "xaxis": {
           "automargin": true,
           "gridcolor": "white",
           "linecolor": "white",
           "ticks": "",
           "title": {
            "standoff": 15
           },
           "zerolinecolor": "white",
           "zerolinewidth": 2
          },
          "yaxis": {
           "automargin": true,
           "gridcolor": "white",
           "linecolor": "white",
           "ticks": "",
           "title": {
            "standoff": 15
           },
           "zerolinecolor": "white",
           "zerolinewidth": 2
          }
         }
        },
        "title": {
         "text": "Un titre formatté"
        },
        "xaxis": {
         "anchor": "y",
         "domain": [
          0,
          1
         ],
         "title": {
          "text": "annee_publication"
         }
        },
        "yaxis": {
         "anchor": "x",
         "domain": [
          0,
          1
         ],
         "title": {
          "text": "Nombre d'articles publiés"
         }
        }
       }
      }
     },
     "metadata": {},
     "output_type": "display_data"
    }
   ],
   "source": [
    "fig.update_layout(\n",
    "    font_family = \"Courrier New\",   # Modification de la police\n",
    "    font_color = \"blue\",            # Modification de la couleur du texte\n",
    "    legend_title_font_color = \"red\",# Modification de la couleur du titre de la légende\n",
    "    title = \"Un titre formatté\"\n",
    ")\n",
    "\n",
    "fig.show()"
   ]
  },
  {
   "cell_type": "markdown",
   "metadata": {},
   "source": [
    "## Graphes à point"
   ]
  },
  {
   "cell_type": "markdown",
   "metadata": {},
   "source": [
    "Les _graphes à point_ [beurk] (_scatterplots_), généralement utilisés pour visualiser des relations entre 2 variables continues, peuvent être générés à l'aide de Plotly Express en utilisant la fonction `scatter()`. Pour notre jeu de donnée, il peut être intéressant d'utiliser un _graphe à point_ pour montrer la relation entre le nombre d'articles qui parlent de genre et de classe par discipline. "
   ]
  },
  {
   "cell_type": "markdown",
   "metadata": {},
   "source": [
    "Il nous faut créer un nouveau `DataFrame` : "
   ]
  },
  {
   "cell_type": "code",
   "execution_count": 72,
   "metadata": {},
   "outputs": [],
   "source": [
    "proportion_genre_classe = []\n",
    "for (annee, discipline), sub_df in df.\\\n",
    "                                    groupby([\"annee_publication\",\"discipline\"]): \n",
    "    proportion_genre_classe.append(\n",
    "        {\n",
    "            \"discipline\" : discipline,\n",
    "            \"annee_publication\" : annee,\n",
    "            \"proportion_genre\" : 100 * sub_df[\"genre\"].mean(),\n",
    "            \"proportion_classe\" : 100 * sub_df[\"classe\"].mean()\n",
    "        }\n",
    "    )\n",
    "\n",
    "proportion_genre_classe = pd.DataFrame(proportion_genre_classe)"
   ]
  },
  {
   "cell_type": "code",
   "execution_count": 73,
   "metadata": {},
   "outputs": [
    {
     "data": {
      "application/vnd.plotly.v1+json": {
       "config": {
        "plotlyServerURL": "https://plot.ly"
       },
       "data": [
        {
         "hovertemplate": "discipline=Anthropologie<br>proportion_classe=%{x}<br>proportion_genre=%{y}<extra></extra>",
         "legendgroup": "Anthropologie",
         "marker": {
          "color": "#636efa",
          "symbol": "circle"
         },
         "mode": "markers",
         "name": "Anthropologie",
         "orientation": "v",
         "showlegend": true,
         "type": "scatter",
         "x": [
          15,
          6.097560975609756,
          8.860759493670885,
          6.896551724137931,
          14.942528735632186,
          16.129032258064516,
          11.11111111111111,
          10.377358490566039,
          7.6923076923076925,
          12.037037037037036,
          15.503875968992247,
          10.185185185185185,
          6.5420560747663545,
          12.195121951219512,
          10,
          10.434782608695652,
          8.695652173913043,
          11.818181818181818,
          11.538461538461538,
          2.666666666666667,
          11.881188118811881,
          9.663865546218489
         ],
         "xaxis": "x",
         "y": [
          8.75,
          7.317073170731707,
          7.59493670886076,
          5.747126436781609,
          17.24137931034483,
          8.60215053763441,
          4.62962962962963,
          3.7735849056603774,
          6.593406593406594,
          15.74074074074074,
          26.356589147286826,
          7.4074074074074066,
          16.822429906542055,
          13.821138211382115,
          13.636363636363635,
          20,
          22.608695652173914,
          13.636363636363635,
          19.230769230769234,
          10.666666666666668,
          7.920792079207921,
          6.302521008403361
         ],
         "yaxis": "y"
        },
        {
         "hovertemplate": "discipline=Aréale<br>proportion_classe=%{x}<br>proportion_genre=%{y}<extra></extra>",
         "legendgroup": "Aréale",
         "marker": {
          "color": "#EF553B",
          "symbol": "circle"
         },
         "mode": "markers",
         "name": "Aréale",
         "orientation": "v",
         "showlegend": true,
         "type": "scatter",
         "x": [
          14.285714285714285,
          4.225352112676056,
          13.013698630136986,
          6.779661016949152,
          8.045977011494253,
          4.697986577181208,
          16.176470588235293,
          10.92896174863388,
          10.92436974789916,
          7.456140350877193,
          4.504504504504505,
          7.657657657657657,
          10.655737704918032,
          5.445544554455446,
          8.396946564885496,
          11.481481481481481,
          8.764940239043826,
          7.35930735930736,
          11.023622047244094,
          11.162790697674419,
          7.723577235772358,
          13.170731707317074
         ],
         "xaxis": "x",
         "y": [
          3.571428571428571,
          2.8169014084507045,
          2.73972602739726,
          7.627118644067797,
          2.2988505747126435,
          1.342281879194631,
          4.411764705882353,
          2.73224043715847,
          5.042016806722689,
          4.385964912280701,
          1.3513513513513513,
          3.6036036036036037,
          3.278688524590164,
          1.4851485148514851,
          2.6717557251908395,
          5.185185185185185,
          7.171314741035857,
          6.493506493506493,
          8.267716535433072,
          5.116279069767442,
          9.34959349593496,
          10.24390243902439
         ],
         "yaxis": "y"
        },
        {
         "hovertemplate": "discipline=Autre interdisciplinaire<br>proportion_classe=%{x}<br>proportion_genre=%{y}<extra></extra>",
         "legendgroup": "Autre interdisciplinaire",
         "marker": {
          "color": "#00cc96",
          "symbol": "circle"
         },
         "mode": "markers",
         "name": "Autre interdisciplinaire",
         "orientation": "v",
         "showlegend": true,
         "type": "scatter",
         "x": [
          14.792899408284024,
          16.304347826086957,
          13.88888888888889,
          16.138328530259365,
          14.320987654320987,
          11.475409836065573,
          14.836223506743737,
          10.706638115631693,
          14.807692307692308,
          11.702127659574469,
          15.355805243445692,
          14.571948998178508,
          13.83399209486166,
          16.83673469387755,
          16.731517509727624,
          15.221238938053098,
          14.08199643493761,
          12.703583061889251,
          19.183673469387756,
          18.51851851851852,
          21.456692913385826,
          14.70019342359768
         ],
         "xaxis": "x",
         "y": [
          0.591715976331361,
          8.152173913043478,
          6.746031746031746,
          3.45821325648415,
          9.382716049382717,
          5.942622950819672,
          6.551059730250482,
          4.282655246252676,
          11.923076923076923,
          5.851063829787234,
          3.5580524344569286,
          10.564663023679417,
          5.33596837944664,
          7.482993197278912,
          7.782101167315175,
          5.84070796460177,
          12.4777183600713,
          6.188925081433225,
          11.224489795918368,
          11.982570806100219,
          12.401574803149607,
          8.897485493230175
         ],
         "yaxis": "y"
        },
        {
         "hovertemplate": "discipline=Démographie<br>proportion_classe=%{x}<br>proportion_genre=%{y}<extra></extra>",
         "legendgroup": "Démographie",
         "marker": {
          "color": "#ab63fa",
          "symbol": "circle"
         },
         "mode": "markers",
         "name": "Démographie",
         "orientation": "v",
         "showlegend": true,
         "type": "scatter",
         "x": [
          0,
          20,
          26.08695652173913,
          25,
          29.411764705882355,
          9.523809523809524,
          41.66666666666667,
          25,
          23.076923076923077,
          34,
          32.35294117647059,
          32.432432432432435,
          13.88888888888889,
          30,
          22.58064516129032,
          23.684210526315788,
          34.375,
          26.666666666666668,
          31.57894736842105,
          42.857142857142854,
          10.344827586206897,
          32.142857142857146
         ],
         "xaxis": "x",
         "y": [
          25,
          24,
          26.08695652173913,
          15,
          29.411764705882355,
          23.809523809523807,
          30.555555555555557,
          15.625,
          11.538461538461538,
          26,
          29.411764705882355,
          37.83783783783784,
          27.77777777777778,
          26.666666666666668,
          19.35483870967742,
          23.684210526315788,
          25,
          26.666666666666668,
          26.31578947368421,
          28.57142857142857,
          17.24137931034483,
          32.142857142857146
         ],
         "yaxis": "y"
        },
        {
         "hovertemplate": "discipline=Genre<br>proportion_classe=%{x}<br>proportion_genre=%{y}<extra></extra>",
         "legendgroup": "Genre",
         "marker": {
          "color": "#FFA15A",
          "symbol": "circle"
         },
         "mode": "markers",
         "name": "Genre",
         "orientation": "v",
         "showlegend": true,
         "type": "scatter",
         "x": [
          25.925925925925924,
          28.07017543859649,
          20.833333333333336,
          19.402985074626866,
          22.058823529411764,
          29.629629629629626,
          12.5,
          26.153846153846157,
          20.454545454545457,
          20.481927710843372,
          20.212765957446805,
          16.25,
          24.691358024691358,
          18.30985915492958,
          22.727272727272727,
          27,
          21.12676056338028,
          25.31645569620253,
          33.33333333333333,
          44,
          29.213483146067414,
          21.25
         ],
         "xaxis": "x",
         "y": [
          92.5925925925926,
          91.22807017543859,
          83.33333333333334,
          95.52238805970148,
          89.70588235294117,
          93.82716049382715,
          90.625,
          90.76923076923077,
          82.95454545454545,
          95.18072289156626,
          87.2340425531915,
          92.5,
          81.48148148148148,
          88.73239436619718,
          93.93939393939394,
          96,
          91.54929577464789,
          93.67088607594937,
          93.05555555555556,
          96,
          94.3820224719101,
          91.25
         ],
         "yaxis": "y"
        },
        {
         "hovertemplate": "discipline=Géographie<br>proportion_classe=%{x}<br>proportion_genre=%{y}<extra></extra>",
         "legendgroup": "Géographie",
         "marker": {
          "color": "#19d3f3",
          "symbol": "circle"
         },
         "mode": "markers",
         "name": "Géographie",
         "orientation": "v",
         "showlegend": true,
         "type": "scatter",
         "x": [
          0,
          4,
          6.451612903225806,
          6.122448979591836,
          11.267605633802818,
          7.5,
          17.46031746031746,
          18.91891891891892,
          14.925373134328357,
          12.676056338028168,
          21.73913043478261,
          24.615384615384617,
          24.285714285714285,
          19.230769230769234,
          14.473684210526317,
          11.594202898550725,
          16.483516483516482,
          11.666666666666666,
          18.181818181818183,
          11.11111111111111,
          12.941176470588237,
          13.157894736842104
         ],
         "xaxis": "x",
         "y": [
          0,
          0,
          0,
          0,
          1.4084507042253522,
          0,
          1.5873015873015872,
          4.054054054054054,
          2.9850746268656714,
          1.4084507042253522,
          1.4492753623188406,
          6.153846153846154,
          2.857142857142857,
          1.282051282051282,
          1.3157894736842104,
          1.4492753623188406,
          1.098901098901099,
          3.3333333333333335,
          0,
          1.2345679012345678,
          2.3529411764705883,
          2.631578947368421
         ],
         "yaxis": "y"
        },
        {
         "hovertemplate": "discipline=Histoire<br>proportion_classe=%{x}<br>proportion_genre=%{y}<extra></extra>",
         "legendgroup": "Histoire",
         "marker": {
          "color": "#FF6692",
          "symbol": "circle"
         },
         "mode": "markers",
         "name": "Histoire",
         "orientation": "v",
         "showlegend": true,
         "type": "scatter",
         "x": [
          17.647058823529413,
          9.782608695652174,
          17.341040462427745,
          17.5531914893617,
          12.16931216931217,
          23.52941176470588,
          16.455696202531644,
          17.490494296577946,
          11.191335740072201,
          16.906474820143885,
          14.685314685314685,
          14.915254237288137,
          14.396887159533073,
          12.408759124087592,
          15.306122448979592,
          9.885931558935361,
          21.370967741935484,
          13.870967741935484,
          14.84848484848485,
          18.118466898954704,
          21.262458471760798,
          12.341772151898734
         ],
         "xaxis": "x",
         "y": [
          2.6143790849673203,
          11.41304347826087,
          1.7341040462427744,
          3.1914893617021276,
          4.232804232804233,
          10.695187165775401,
          3.79746835443038,
          3.4220532319391634,
          5.415162454873646,
          1.4388489208633095,
          1.7482517482517483,
          6.779661016949152,
          5.447470817120623,
          2.5547445255474455,
          4.761904761904762,
          3.041825095057034,
          1.6129032258064515,
          3.225806451612903,
          4.545454545454546,
          8.710801393728223,
          5.3156146179401995,
          8.544303797468354
         ],
         "yaxis": "y"
        },
        {
         "hovertemplate": "discipline=SIC<br>proportion_classe=%{x}<br>proportion_genre=%{y}<extra></extra>",
         "legendgroup": "SIC",
         "marker": {
          "color": "#B6E880",
          "symbol": "circle"
         },
         "mode": "markers",
         "name": "SIC",
         "orientation": "v",
         "showlegend": true,
         "type": "scatter",
         "x": [
          5.88235294117647,
          7.633587786259542,
          5.633802816901409,
          3.7037037037037033,
          18.75,
          3.4722222222222223,
          3.149606299212598,
          2.366863905325444,
          4.945054945054945,
          3.867403314917127,
          6.951871657754011,
          2.7624309392265194,
          0.6451612903225806,
          4.639175257731959,
          5.555555555555555,
          3.7735849056603774,
          2.6178010471204187,
          8.333333333333332,
          6.976744186046512,
          8.783783783783784,
          6.451612903225806,
          4.444444444444445
         ],
         "xaxis": "x",
         "y": [
          3.5294117647058822,
          0,
          7.746478873239436,
          2.4691358024691357,
          5.46875,
          1.3888888888888888,
          1.574803149606299,
          2.366863905325444,
          7.142857142857142,
          2.7624309392265194,
          4.81283422459893,
          1.6574585635359116,
          1.935483870967742,
          7.216494845360824,
          4.166666666666666,
          0,
          3.664921465968586,
          2.941176470588235,
          5.232558139534884,
          6.081081081081082,
          2.1505376344086025,
          4.444444444444445
         ],
         "yaxis": "y"
        },
        {
         "hovertemplate": "discipline=Science politique<br>proportion_classe=%{x}<br>proportion_genre=%{y}<extra></extra>",
         "legendgroup": "Science politique",
         "marker": {
          "color": "#FF97FF",
          "symbol": "circle"
         },
         "mode": "markers",
         "name": "Science politique",
         "orientation": "v",
         "showlegend": true,
         "type": "scatter",
         "x": [
          8.5,
          10.059171597633137,
          9.574468085106384,
          12.135922330097088,
          8.227848101265822,
          10.059171597633137,
          7.234042553191489,
          7.114624505928854,
          7.6923076923076925,
          8.88888888888889,
          6.349206349206349,
          9.642857142857144,
          11.785714285714285,
          11.295681063122924,
          11.24031007751938,
          10.979228486646884,
          11.785714285714285,
          9.427609427609427,
          11.805555555555555,
          11.196911196911197,
          14.487632508833922,
          12.413793103448276
         ],
         "xaxis": "x",
         "y": [
          1,
          4.733727810650888,
          3.1914893617021276,
          2.4271844660194173,
          2.5316455696202533,
          7.6923076923076925,
          4.25531914893617,
          1.9762845849802373,
          5.128205128205128,
          1.1111111111111112,
          2.380952380952381,
          1.4285714285714286,
          6.428571428571428,
          1.9933554817275747,
          12.4031007751938,
          5.637982195845697,
          3.214285714285714,
          1.3468013468013467,
          2.7777777777777777,
          6.563706563706563,
          5.30035335689046,
          8.96551724137931
         ],
         "yaxis": "y"
        },
        {
         "hovertemplate": "discipline=Sociologie<br>proportion_classe=%{x}<br>proportion_genre=%{y}<extra></extra>",
         "legendgroup": "Sociologie",
         "marker": {
          "color": "#FECB52",
          "symbol": "circle"
         },
         "mode": "markers",
         "name": "Sociologie",
         "orientation": "v",
         "showlegend": true,
         "type": "scatter",
         "x": [
          16.969696969696972,
          19.10828025477707,
          17.587939698492463,
          23.3502538071066,
          18.46846846846847,
          14.85148514851485,
          17.253521126760564,
          9.393939393939393,
          18.654434250764528,
          21.700879765395893,
          15.654205607476634,
          18.983957219251337,
          19.37321937321937,
          16.40625,
          14.814814814814813,
          17.616580310880828,
          22.92817679558011,
          16.3727959697733,
          24.06417112299465,
          21.97452229299363,
          25.770308123249297,
          23.762376237623762
         ],
         "xaxis": "x",
         "y": [
          4.242424242424243,
          3.1847133757961785,
          8.542713567839195,
          6.091370558375635,
          3.153153153153153,
          5.445544554455446,
          15.140845070422534,
          6.363636363636363,
          5.5045871559633035,
          5.571847507331378,
          6.308411214953271,
          17.647058823529413,
          7.122507122507122,
          5.989583333333334,
          8.395061728395062,
          8.808290155440414,
          12.70718232044199,
          11.586901763224182,
          9.090909090909092,
          9.554140127388536,
          8.123249299719888,
          15.841584158415841
         ],
         "yaxis": "y"
        },
        {
         "hovertemplate": "discipline=Économie<br>proportion_classe=%{x}<br>proportion_genre=%{y}<extra></extra>",
         "legendgroup": "Économie",
         "marker": {
          "color": "#636efa",
          "symbol": "circle"
         },
         "mode": "markers",
         "name": "Économie",
         "orientation": "v",
         "showlegend": true,
         "type": "scatter",
         "x": [
          1.477832512315271,
          2.1929824561403506,
          1.2987012987012987,
          0,
          3.8869257950530036,
          2.9585798816568047,
          1.7142857142857144,
          2.933333333333333,
          2.3255813953488373,
          2.0338983050847457,
          2.456140350877193,
          3.1578947368421053,
          3.7800687285223367,
          3.6363636363636362,
          3.691275167785235,
          5.491329479768786,
          5.263157894736842,
          2.5735294117647056,
          5.448717948717949,
          3.1914893617021276,
          4.45859872611465,
          4.029304029304029
         ],
         "xaxis": "x",
         "y": [
          0,
          1.3157894736842104,
          0,
          4.0650406504065035,
          1.0600706713780919,
          0.591715976331361,
          0.8571428571428572,
          0,
          0.6644518272425249,
          1.694915254237288,
          1.0526315789473684,
          2.1052631578947367,
          2.405498281786942,
          8.363636363636363,
          1.006711409395973,
          0.8670520231213872,
          2.786377708978328,
          2.2058823529411766,
          1.6025641025641024,
          2.8368794326241136,
          3.5031847133757963,
          3.296703296703297
         ],
         "yaxis": "y"
        }
       ],
       "layout": {
        "legend": {
         "title": {
          "text": "discipline"
         },
         "tracegroupgap": 0
        },
        "margin": {
         "t": 60
        },
        "template": {
         "data": {
          "bar": [
           {
            "error_x": {
             "color": "#2a3f5f"
            },
            "error_y": {
             "color": "#2a3f5f"
            },
            "marker": {
             "line": {
              "color": "#E5ECF6",
              "width": 0.5
             },
             "pattern": {
              "fillmode": "overlay",
              "size": 10,
              "solidity": 0.2
             }
            },
            "type": "bar"
           }
          ],
          "barpolar": [
           {
            "marker": {
             "line": {
              "color": "#E5ECF6",
              "width": 0.5
             },
             "pattern": {
              "fillmode": "overlay",
              "size": 10,
              "solidity": 0.2
             }
            },
            "type": "barpolar"
           }
          ],
          "carpet": [
           {
            "aaxis": {
             "endlinecolor": "#2a3f5f",
             "gridcolor": "white",
             "linecolor": "white",
             "minorgridcolor": "white",
             "startlinecolor": "#2a3f5f"
            },
            "baxis": {
             "endlinecolor": "#2a3f5f",
             "gridcolor": "white",
             "linecolor": "white",
             "minorgridcolor": "white",
             "startlinecolor": "#2a3f5f"
            },
            "type": "carpet"
           }
          ],
          "choropleth": [
           {
            "colorbar": {
             "outlinewidth": 0,
             "ticks": ""
            },
            "type": "choropleth"
           }
          ],
          "contour": [
           {
            "colorbar": {
             "outlinewidth": 0,
             "ticks": ""
            },
            "colorscale": [
             [
              0,
              "#0d0887"
             ],
             [
              0.1111111111111111,
              "#46039f"
             ],
             [
              0.2222222222222222,
              "#7201a8"
             ],
             [
              0.3333333333333333,
              "#9c179e"
             ],
             [
              0.4444444444444444,
              "#bd3786"
             ],
             [
              0.5555555555555556,
              "#d8576b"
             ],
             [
              0.6666666666666666,
              "#ed7953"
             ],
             [
              0.7777777777777778,
              "#fb9f3a"
             ],
             [
              0.8888888888888888,
              "#fdca26"
             ],
             [
              1,
              "#f0f921"
             ]
            ],
            "type": "contour"
           }
          ],
          "contourcarpet": [
           {
            "colorbar": {
             "outlinewidth": 0,
             "ticks": ""
            },
            "type": "contourcarpet"
           }
          ],
          "heatmap": [
           {
            "colorbar": {
             "outlinewidth": 0,
             "ticks": ""
            },
            "colorscale": [
             [
              0,
              "#0d0887"
             ],
             [
              0.1111111111111111,
              "#46039f"
             ],
             [
              0.2222222222222222,
              "#7201a8"
             ],
             [
              0.3333333333333333,
              "#9c179e"
             ],
             [
              0.4444444444444444,
              "#bd3786"
             ],
             [
              0.5555555555555556,
              "#d8576b"
             ],
             [
              0.6666666666666666,
              "#ed7953"
             ],
             [
              0.7777777777777778,
              "#fb9f3a"
             ],
             [
              0.8888888888888888,
              "#fdca26"
             ],
             [
              1,
              "#f0f921"
             ]
            ],
            "type": "heatmap"
           }
          ],
          "heatmapgl": [
           {
            "colorbar": {
             "outlinewidth": 0,
             "ticks": ""
            },
            "colorscale": [
             [
              0,
              "#0d0887"
             ],
             [
              0.1111111111111111,
              "#46039f"
             ],
             [
              0.2222222222222222,
              "#7201a8"
             ],
             [
              0.3333333333333333,
              "#9c179e"
             ],
             [
              0.4444444444444444,
              "#bd3786"
             ],
             [
              0.5555555555555556,
              "#d8576b"
             ],
             [
              0.6666666666666666,
              "#ed7953"
             ],
             [
              0.7777777777777778,
              "#fb9f3a"
             ],
             [
              0.8888888888888888,
              "#fdca26"
             ],
             [
              1,
              "#f0f921"
             ]
            ],
            "type": "heatmapgl"
           }
          ],
          "histogram": [
           {
            "marker": {
             "pattern": {
              "fillmode": "overlay",
              "size": 10,
              "solidity": 0.2
             }
            },
            "type": "histogram"
           }
          ],
          "histogram2d": [
           {
            "colorbar": {
             "outlinewidth": 0,
             "ticks": ""
            },
            "colorscale": [
             [
              0,
              "#0d0887"
             ],
             [
              0.1111111111111111,
              "#46039f"
             ],
             [
              0.2222222222222222,
              "#7201a8"
             ],
             [
              0.3333333333333333,
              "#9c179e"
             ],
             [
              0.4444444444444444,
              "#bd3786"
             ],
             [
              0.5555555555555556,
              "#d8576b"
             ],
             [
              0.6666666666666666,
              "#ed7953"
             ],
             [
              0.7777777777777778,
              "#fb9f3a"
             ],
             [
              0.8888888888888888,
              "#fdca26"
             ],
             [
              1,
              "#f0f921"
             ]
            ],
            "type": "histogram2d"
           }
          ],
          "histogram2dcontour": [
           {
            "colorbar": {
             "outlinewidth": 0,
             "ticks": ""
            },
            "colorscale": [
             [
              0,
              "#0d0887"
             ],
             [
              0.1111111111111111,
              "#46039f"
             ],
             [
              0.2222222222222222,
              "#7201a8"
             ],
             [
              0.3333333333333333,
              "#9c179e"
             ],
             [
              0.4444444444444444,
              "#bd3786"
             ],
             [
              0.5555555555555556,
              "#d8576b"
             ],
             [
              0.6666666666666666,
              "#ed7953"
             ],
             [
              0.7777777777777778,
              "#fb9f3a"
             ],
             [
              0.8888888888888888,
              "#fdca26"
             ],
             [
              1,
              "#f0f921"
             ]
            ],
            "type": "histogram2dcontour"
           }
          ],
          "mesh3d": [
           {
            "colorbar": {
             "outlinewidth": 0,
             "ticks": ""
            },
            "type": "mesh3d"
           }
          ],
          "parcoords": [
           {
            "line": {
             "colorbar": {
              "outlinewidth": 0,
              "ticks": ""
             }
            },
            "type": "parcoords"
           }
          ],
          "pie": [
           {
            "automargin": true,
            "type": "pie"
           }
          ],
          "scatter": [
           {
            "fillpattern": {
             "fillmode": "overlay",
             "size": 10,
             "solidity": 0.2
            },
            "type": "scatter"
           }
          ],
          "scatter3d": [
           {
            "line": {
             "colorbar": {
              "outlinewidth": 0,
              "ticks": ""
             }
            },
            "marker": {
             "colorbar": {
              "outlinewidth": 0,
              "ticks": ""
             }
            },
            "type": "scatter3d"
           }
          ],
          "scattercarpet": [
           {
            "marker": {
             "colorbar": {
              "outlinewidth": 0,
              "ticks": ""
             }
            },
            "type": "scattercarpet"
           }
          ],
          "scattergeo": [
           {
            "marker": {
             "colorbar": {
              "outlinewidth": 0,
              "ticks": ""
             }
            },
            "type": "scattergeo"
           }
          ],
          "scattergl": [
           {
            "marker": {
             "colorbar": {
              "outlinewidth": 0,
              "ticks": ""
             }
            },
            "type": "scattergl"
           }
          ],
          "scattermapbox": [
           {
            "marker": {
             "colorbar": {
              "outlinewidth": 0,
              "ticks": ""
             }
            },
            "type": "scattermapbox"
           }
          ],
          "scatterpolar": [
           {
            "marker": {
             "colorbar": {
              "outlinewidth": 0,
              "ticks": ""
             }
            },
            "type": "scatterpolar"
           }
          ],
          "scatterpolargl": [
           {
            "marker": {
             "colorbar": {
              "outlinewidth": 0,
              "ticks": ""
             }
            },
            "type": "scatterpolargl"
           }
          ],
          "scatterternary": [
           {
            "marker": {
             "colorbar": {
              "outlinewidth": 0,
              "ticks": ""
             }
            },
            "type": "scatterternary"
           }
          ],
          "surface": [
           {
            "colorbar": {
             "outlinewidth": 0,
             "ticks": ""
            },
            "colorscale": [
             [
              0,
              "#0d0887"
             ],
             [
              0.1111111111111111,
              "#46039f"
             ],
             [
              0.2222222222222222,
              "#7201a8"
             ],
             [
              0.3333333333333333,
              "#9c179e"
             ],
             [
              0.4444444444444444,
              "#bd3786"
             ],
             [
              0.5555555555555556,
              "#d8576b"
             ],
             [
              0.6666666666666666,
              "#ed7953"
             ],
             [
              0.7777777777777778,
              "#fb9f3a"
             ],
             [
              0.8888888888888888,
              "#fdca26"
             ],
             [
              1,
              "#f0f921"
             ]
            ],
            "type": "surface"
           }
          ],
          "table": [
           {
            "cells": {
             "fill": {
              "color": "#EBF0F8"
             },
             "line": {
              "color": "white"
             }
            },
            "header": {
             "fill": {
              "color": "#C8D4E3"
             },
             "line": {
              "color": "white"
             }
            },
            "type": "table"
           }
          ]
         },
         "layout": {
          "annotationdefaults": {
           "arrowcolor": "#2a3f5f",
           "arrowhead": 0,
           "arrowwidth": 1
          },
          "autotypenumbers": "strict",
          "coloraxis": {
           "colorbar": {
            "outlinewidth": 0,
            "ticks": ""
           }
          },
          "colorscale": {
           "diverging": [
            [
             0,
             "#8e0152"
            ],
            [
             0.1,
             "#c51b7d"
            ],
            [
             0.2,
             "#de77ae"
            ],
            [
             0.3,
             "#f1b6da"
            ],
            [
             0.4,
             "#fde0ef"
            ],
            [
             0.5,
             "#f7f7f7"
            ],
            [
             0.6,
             "#e6f5d0"
            ],
            [
             0.7,
             "#b8e186"
            ],
            [
             0.8,
             "#7fbc41"
            ],
            [
             0.9,
             "#4d9221"
            ],
            [
             1,
             "#276419"
            ]
           ],
           "sequential": [
            [
             0,
             "#0d0887"
            ],
            [
             0.1111111111111111,
             "#46039f"
            ],
            [
             0.2222222222222222,
             "#7201a8"
            ],
            [
             0.3333333333333333,
             "#9c179e"
            ],
            [
             0.4444444444444444,
             "#bd3786"
            ],
            [
             0.5555555555555556,
             "#d8576b"
            ],
            [
             0.6666666666666666,
             "#ed7953"
            ],
            [
             0.7777777777777778,
             "#fb9f3a"
            ],
            [
             0.8888888888888888,
             "#fdca26"
            ],
            [
             1,
             "#f0f921"
            ]
           ],
           "sequentialminus": [
            [
             0,
             "#0d0887"
            ],
            [
             0.1111111111111111,
             "#46039f"
            ],
            [
             0.2222222222222222,
             "#7201a8"
            ],
            [
             0.3333333333333333,
             "#9c179e"
            ],
            [
             0.4444444444444444,
             "#bd3786"
            ],
            [
             0.5555555555555556,
             "#d8576b"
            ],
            [
             0.6666666666666666,
             "#ed7953"
            ],
            [
             0.7777777777777778,
             "#fb9f3a"
            ],
            [
             0.8888888888888888,
             "#fdca26"
            ],
            [
             1,
             "#f0f921"
            ]
           ]
          },
          "colorway": [
           "#636efa",
           "#EF553B",
           "#00cc96",
           "#ab63fa",
           "#FFA15A",
           "#19d3f3",
           "#FF6692",
           "#B6E880",
           "#FF97FF",
           "#FECB52"
          ],
          "font": {
           "color": "#2a3f5f"
          },
          "geo": {
           "bgcolor": "white",
           "lakecolor": "white",
           "landcolor": "#E5ECF6",
           "showlakes": true,
           "showland": true,
           "subunitcolor": "white"
          },
          "hoverlabel": {
           "align": "left"
          },
          "hovermode": "closest",
          "mapbox": {
           "style": "light"
          },
          "paper_bgcolor": "white",
          "plot_bgcolor": "#E5ECF6",
          "polar": {
           "angularaxis": {
            "gridcolor": "white",
            "linecolor": "white",
            "ticks": ""
           },
           "bgcolor": "#E5ECF6",
           "radialaxis": {
            "gridcolor": "white",
            "linecolor": "white",
            "ticks": ""
           }
          },
          "scene": {
           "xaxis": {
            "backgroundcolor": "#E5ECF6",
            "gridcolor": "white",
            "gridwidth": 2,
            "linecolor": "white",
            "showbackground": true,
            "ticks": "",
            "zerolinecolor": "white"
           },
           "yaxis": {
            "backgroundcolor": "#E5ECF6",
            "gridcolor": "white",
            "gridwidth": 2,
            "linecolor": "white",
            "showbackground": true,
            "ticks": "",
            "zerolinecolor": "white"
           },
           "zaxis": {
            "backgroundcolor": "#E5ECF6",
            "gridcolor": "white",
            "gridwidth": 2,
            "linecolor": "white",
            "showbackground": true,
            "ticks": "",
            "zerolinecolor": "white"
           }
          },
          "shapedefaults": {
           "line": {
            "color": "#2a3f5f"
           }
          },
          "ternary": {
           "aaxis": {
            "gridcolor": "white",
            "linecolor": "white",
            "ticks": ""
           },
           "baxis": {
            "gridcolor": "white",
            "linecolor": "white",
            "ticks": ""
           },
           "bgcolor": "#E5ECF6",
           "caxis": {
            "gridcolor": "white",
            "linecolor": "white",
            "ticks": ""
           }
          },
          "title": {
           "x": 0.05
          },
          "xaxis": {
           "automargin": true,
           "gridcolor": "white",
           "linecolor": "white",
           "ticks": "",
           "title": {
            "standoff": 15
           },
           "zerolinecolor": "white",
           "zerolinewidth": 2
          },
          "yaxis": {
           "automargin": true,
           "gridcolor": "white",
           "linecolor": "white",
           "ticks": "",
           "title": {
            "standoff": 15
           },
           "zerolinecolor": "white",
           "zerolinewidth": 2
          }
         }
        },
        "xaxis": {
         "anchor": "y",
         "domain": [
          0,
          1
         ],
         "title": {
          "text": "proportion_classe"
         }
        },
        "yaxis": {
         "anchor": "x",
         "domain": [
          0,
          1
         ],
         "title": {
          "text": "proportion_genre"
         }
        }
       }
      }
     },
     "metadata": {},
     "output_type": "display_data"
    }
   ],
   "source": [
    "fig = px.scatter(\n",
    "    proportion_genre_classe,\n",
    "    x=\"proportion_classe\",\n",
    "    y=\"proportion_genre\",\n",
    "    color=\"discipline\", \n",
    "    # title=\"Titre de votre choix\",\n",
    ")\n",
    "fig.show()"
   ]
  },
  {
   "cell_type": "markdown",
   "metadata": {},
   "source": [
    "Comme vous pouvez le voir, les _graphes à point_ contiennent aussi certaines intéractions par défaut : passer la souris sur les points permet d'afficher les données spécifique de proportions d'articles mentionnant le genre ou la classe. Cliquer ou double cliquer sur le nom des disciplines dans la légende permet d'isoler certains éléments."
   ]
  },
  {
   "cell_type": "markdown",
   "metadata": {},
   "source": [
    "# Créer plusieurs sous-graphes"
   ]
  },
  {
   "cell_type": "markdown",
   "metadata": {},
   "source": [
    "Pour créer des graphes composés de sous-graphes qui partagent certains axes et permettent de montrer des sous ensembles de notre jeu de donnée(_facet plots_)\n",
    "> this is fucking weird\n",
    "Plotly rend la création de tels graphe aisée très simple. En reprenant les exemples précédents, il suffit de spécifier le type de graphe que vous souhaitez dans les sous-graphe. En deuxième instance il suffit d'utiliser le paramètre `facet_col` qui permet de préciser quel variable utiliser pour distinguer les sous-graphes. Dans l'exemple ci dessous, on créé une grille de 2x1 pour montrer la part d'articles qui spécifie le genre en fonction de la discipline en fonction  "
   ]
  },
  {
   "cell_type": "code",
   "execution_count": 79,
   "metadata": {},
   "outputs": [
    {
     "data": {
      "application/vnd.plotly.v1+json": {
       "config": {
        "plotlyServerURL": "https://plot.ly"
       },
       "data": [
        {
         "alignmentgroup": "True",
         "hovertemplate": "discipline=%{x}<br>maj_feminine=False<br>proportion_genre=%{y}<extra></extra>",
         "legendgroup": "Anthropologie",
         "marker": {
          "color": "#636efa",
          "pattern": {
           "shape": ""
          }
         },
         "name": "Anthropologie",
         "offsetgroup": "Anthropologie",
         "orientation": "v",
         "showlegend": true,
         "textposition": "auto",
         "type": "bar",
         "x": [
          "Anthropologie"
         ],
         "xaxis": "x",
         "y": [
          6.592465753424658
         ],
         "yaxis": "y"
        },
        {
         "alignmentgroup": "True",
         "hovertemplate": "discipline=%{x}<br>maj_feminine=True<br>proportion_genre=%{y}<extra></extra>",
         "legendgroup": "Anthropologie",
         "marker": {
          "color": "#636efa",
          "pattern": {
           "shape": ""
          }
         },
         "name": "Anthropologie",
         "offsetgroup": "Anthropologie",
         "orientation": "v",
         "showlegend": false,
         "textposition": "auto",
         "type": "bar",
         "x": [
          "Anthropologie"
         ],
         "xaxis": "x2",
         "y": [
          16.834755624515125
         ],
         "yaxis": "y2"
        },
        {
         "alignmentgroup": "True",
         "hovertemplate": "discipline=%{x}<br>maj_feminine=False<br>proportion_genre=%{y}<extra></extra>",
         "legendgroup": "Aréale",
         "marker": {
          "color": "#EF553B",
          "pattern": {
           "shape": ""
          }
         },
         "name": "Aréale",
         "offsetgroup": "Aréale",
         "orientation": "v",
         "showlegend": true,
         "textposition": "auto",
         "type": "bar",
         "x": [
          "Aréale"
         ],
         "xaxis": "x",
         "y": [
          1.9131127939418093
         ],
         "yaxis": "y"
        },
        {
         "alignmentgroup": "True",
         "hovertemplate": "discipline=%{x}<br>maj_feminine=True<br>proportion_genre=%{y}<extra></extra>",
         "legendgroup": "Aréale",
         "marker": {
          "color": "#EF553B",
          "pattern": {
           "shape": ""
          }
         },
         "name": "Aréale",
         "offsetgroup": "Aréale",
         "orientation": "v",
         "showlegend": false,
         "textposition": "auto",
         "type": "bar",
         "x": [
          "Aréale"
         ],
         "xaxis": "x2",
         "y": [
          9.14881297046902
         ],
         "yaxis": "y2"
        },
        {
         "alignmentgroup": "True",
         "hovertemplate": "discipline=%{x}<br>maj_feminine=False<br>proportion_genre=%{y}<extra></extra>",
         "legendgroup": "Autre interdisciplinaire",
         "marker": {
          "color": "#00cc96",
          "pattern": {
           "shape": ""
          }
         },
         "name": "Autre interdisciplinaire",
         "offsetgroup": "Autre interdisciplinaire",
         "orientation": "v",
         "showlegend": true,
         "textposition": "auto",
         "type": "bar",
         "x": [
          "Autre interdisciplinaire"
         ],
         "xaxis": "x",
         "y": [
          3.435974464889223
         ],
         "yaxis": "y"
        },
        {
         "alignmentgroup": "True",
         "hovertemplate": "discipline=%{x}<br>maj_feminine=True<br>proportion_genre=%{y}<extra></extra>",
         "legendgroup": "Autre interdisciplinaire",
         "marker": {
          "color": "#00cc96",
          "pattern": {
           "shape": ""
          }
         },
         "name": "Autre interdisciplinaire",
         "offsetgroup": "Autre interdisciplinaire",
         "orientation": "v",
         "showlegend": false,
         "textposition": "auto",
         "type": "bar",
         "x": [
          "Autre interdisciplinaire"
         ],
         "xaxis": "x2",
         "y": [
          12.535042050460552
         ],
         "yaxis": "y2"
        },
        {
         "alignmentgroup": "True",
         "hovertemplate": "discipline=%{x}<br>maj_feminine=False<br>proportion_genre=%{y}<extra></extra>",
         "legendgroup": "Démographie",
         "marker": {
          "color": "#ab63fa",
          "pattern": {
           "shape": ""
          }
         },
         "name": "Démographie",
         "offsetgroup": "Démographie",
         "orientation": "v",
         "showlegend": true,
         "textposition": "auto",
         "type": "bar",
         "x": [
          "Démographie"
         ],
         "xaxis": "x",
         "y": [
          17.02127659574468
         ],
         "yaxis": "y"
        },
        {
         "alignmentgroup": "True",
         "hovertemplate": "discipline=%{x}<br>maj_feminine=True<br>proportion_genre=%{y}<extra></extra>",
         "legendgroup": "Démographie",
         "marker": {
          "color": "#ab63fa",
          "pattern": {
           "shape": ""
          }
         },
         "name": "Démographie",
         "offsetgroup": "Démographie",
         "orientation": "v",
         "showlegend": false,
         "textposition": "auto",
         "type": "bar",
         "x": [
          "Démographie"
         ],
         "xaxis": "x2",
         "y": [
          31.741573033707866
         ],
         "yaxis": "y2"
        },
        {
         "alignmentgroup": "True",
         "hovertemplate": "discipline=%{x}<br>maj_feminine=False<br>proportion_genre=%{y}<extra></extra>",
         "legendgroup": "Genre",
         "marker": {
          "color": "#FFA15A",
          "pattern": {
           "shape": ""
          }
         },
         "name": "Genre",
         "offsetgroup": "Genre",
         "orientation": "v",
         "showlegend": true,
         "textposition": "auto",
         "type": "bar",
         "x": [
          "Genre"
         ],
         "xaxis": "x",
         "y": [
          86.80351906158357
         ],
         "yaxis": "y"
        },
        {
         "alignmentgroup": "True",
         "hovertemplate": "discipline=%{x}<br>maj_feminine=True<br>proportion_genre=%{y}<extra></extra>",
         "legendgroup": "Genre",
         "marker": {
          "color": "#FFA15A",
          "pattern": {
           "shape": ""
          }
         },
         "name": "Genre",
         "offsetgroup": "Genre",
         "orientation": "v",
         "showlegend": false,
         "textposition": "auto",
         "type": "bar",
         "x": [
          "Genre"
         ],
         "xaxis": "x2",
         "y": [
          92.17660728117738
         ],
         "yaxis": "y2"
        },
        {
         "alignmentgroup": "True",
         "hovertemplate": "discipline=%{x}<br>maj_feminine=False<br>proportion_genre=%{y}<extra></extra>",
         "legendgroup": "Géographie",
         "marker": {
          "color": "#19d3f3",
          "pattern": {
           "shape": ""
          }
         },
         "name": "Géographie",
         "offsetgroup": "Géographie",
         "orientation": "v",
         "showlegend": true,
         "textposition": "auto",
         "type": "bar",
         "x": [
          "Géographie"
         ],
         "xaxis": "x",
         "y": [
          1.5990159901599015
         ],
         "yaxis": "y"
        },
        {
         "alignmentgroup": "True",
         "hovertemplate": "discipline=%{x}<br>maj_feminine=True<br>proportion_genre=%{y}<extra></extra>",
         "legendgroup": "Géographie",
         "marker": {
          "color": "#19d3f3",
          "pattern": {
           "shape": ""
          }
         },
         "name": "Géographie",
         "offsetgroup": "Géographie",
         "orientation": "v",
         "showlegend": false,
         "textposition": "auto",
         "type": "bar",
         "x": [
          "Géographie"
         ],
         "xaxis": "x2",
         "y": [
          2.10016155088853
         ],
         "yaxis": "y2"
        },
        {
         "alignmentgroup": "True",
         "hovertemplate": "discipline=%{x}<br>maj_feminine=False<br>proportion_genre=%{y}<extra></extra>",
         "legendgroup": "Histoire",
         "marker": {
          "color": "#FF6692",
          "pattern": {
           "shape": ""
          }
         },
         "name": "Histoire",
         "offsetgroup": "Histoire",
         "orientation": "v",
         "showlegend": true,
         "textposition": "auto",
         "type": "bar",
         "x": [
          "Histoire"
         ],
         "xaxis": "x",
         "y": [
          2.2623215728521413
         ],
         "yaxis": "y"
        },
        {
         "alignmentgroup": "True",
         "hovertemplate": "discipline=%{x}<br>maj_feminine=True<br>proportion_genre=%{y}<extra></extra>",
         "legendgroup": "Histoire",
         "marker": {
          "color": "#FF6692",
          "pattern": {
           "shape": ""
          }
         },
         "name": "Histoire",
         "offsetgroup": "Histoire",
         "orientation": "v",
         "showlegend": false,
         "textposition": "auto",
         "type": "bar",
         "x": [
          "Histoire"
         ],
         "xaxis": "x2",
         "y": [
          9.589770911028236
         ],
         "yaxis": "y2"
        },
        {
         "alignmentgroup": "True",
         "hovertemplate": "discipline=%{x}<br>maj_feminine=False<br>proportion_genre=%{y}<extra></extra>",
         "legendgroup": "SIC",
         "marker": {
          "color": "#B6E880",
          "pattern": {
           "shape": ""
          }
         },
         "name": "SIC",
         "offsetgroup": "SIC",
         "orientation": "v",
         "showlegend": true,
         "textposition": "auto",
         "type": "bar",
         "x": [
          "SIC"
         ],
         "xaxis": "x",
         "y": [
          1.2652507907817443
         ],
         "yaxis": "y"
        },
        {
         "alignmentgroup": "True",
         "hovertemplate": "discipline=%{x}<br>maj_feminine=True<br>proportion_genre=%{y}<extra></extra>",
         "legendgroup": "SIC",
         "marker": {
          "color": "#B6E880",
          "pattern": {
           "shape": ""
          }
         },
         "name": "SIC",
         "offsetgroup": "SIC",
         "orientation": "v",
         "showlegend": false,
         "textposition": "auto",
         "type": "bar",
         "x": [
          "SIC"
         ],
         "xaxis": "x2",
         "y": [
          7.370659107016301
         ],
         "yaxis": "y2"
        },
        {
         "alignmentgroup": "True",
         "hovertemplate": "discipline=%{x}<br>maj_feminine=False<br>proportion_genre=%{y}<extra></extra>",
         "legendgroup": "Science politique",
         "marker": {
          "color": "#FF97FF",
          "pattern": {
           "shape": ""
          }
         },
         "name": "Science politique",
         "offsetgroup": "Science politique",
         "orientation": "v",
         "showlegend": true,
         "textposition": "auto",
         "type": "bar",
         "x": [
          "Science politique"
         ],
         "xaxis": "x",
         "y": [
          1.4964788732394365
         ],
         "yaxis": "y"
        },
        {
         "alignmentgroup": "True",
         "hovertemplate": "discipline=%{x}<br>maj_feminine=True<br>proportion_genre=%{y}<extra></extra>",
         "legendgroup": "Science politique",
         "marker": {
          "color": "#FF97FF",
          "pattern": {
           "shape": ""
          }
         },
         "name": "Science politique",
         "offsetgroup": "Science politique",
         "orientation": "v",
         "showlegend": false,
         "textposition": "auto",
         "type": "bar",
         "x": [
          "Science politique"
         ],
         "xaxis": "x2",
         "y": [
          8.706108706108706
         ],
         "yaxis": "y2"
        },
        {
         "alignmentgroup": "True",
         "hovertemplate": "discipline=%{x}<br>maj_feminine=False<br>proportion_genre=%{y}<extra></extra>",
         "legendgroup": "Sociologie",
         "marker": {
          "color": "#FECB52",
          "pattern": {
           "shape": ""
          }
         },
         "name": "Sociologie",
         "offsetgroup": "Sociologie",
         "orientation": "v",
         "showlegend": true,
         "textposition": "auto",
         "type": "bar",
         "x": [
          "Sociologie"
         ],
         "xaxis": "x",
         "y": [
          4.5092177379172895
         ],
         "yaxis": "y"
        },
        {
         "alignmentgroup": "True",
         "hovertemplate": "discipline=%{x}<br>maj_feminine=True<br>proportion_genre=%{y}<extra></extra>",
         "legendgroup": "Sociologie",
         "marker": {
          "color": "#FECB52",
          "pattern": {
           "shape": ""
          }
         },
         "name": "Sociologie",
         "offsetgroup": "Sociologie",
         "orientation": "v",
         "showlegend": false,
         "textposition": "auto",
         "type": "bar",
         "x": [
          "Sociologie"
         ],
         "xaxis": "x2",
         "y": [
          14.797891036906854
         ],
         "yaxis": "y2"
        },
        {
         "alignmentgroup": "True",
         "hovertemplate": "discipline=%{x}<br>maj_feminine=False<br>proportion_genre=%{y}<extra></extra>",
         "legendgroup": "Économie",
         "marker": {
          "color": "#636efa",
          "pattern": {
           "shape": ""
          }
         },
         "name": "Économie",
         "offsetgroup": "Économie",
         "orientation": "v",
         "showlegend": true,
         "textposition": "auto",
         "type": "bar",
         "x": [
          "Économie"
         ],
         "xaxis": "x",
         "y": [
          1.0562571756601606
         ],
         "yaxis": "y"
        },
        {
         "alignmentgroup": "True",
         "hovertemplate": "discipline=%{x}<br>maj_feminine=True<br>proportion_genre=%{y}<extra></extra>",
         "legendgroup": "Économie",
         "marker": {
          "color": "#636efa",
          "pattern": {
           "shape": ""
          }
         },
         "name": "Économie",
         "offsetgroup": "Économie",
         "orientation": "v",
         "showlegend": false,
         "textposition": "auto",
         "type": "bar",
         "x": [
          "Économie"
         ],
         "xaxis": "x2",
         "y": [
          3.656752803510482
         ],
         "yaxis": "y2"
        }
       ],
       "layout": {
        "annotations": [
         {
          "font": {},
          "showarrow": false,
          "text": "maj_feminine=False",
          "x": 0.245,
          "xanchor": "center",
          "xref": "paper",
          "y": 1,
          "yanchor": "bottom",
          "yref": "paper"
         },
         {
          "font": {},
          "showarrow": false,
          "text": "maj_feminine=True",
          "x": 0.755,
          "xanchor": "center",
          "xref": "paper",
          "y": 1,
          "yanchor": "bottom",
          "yref": "paper"
         }
        ],
        "barmode": "relative",
        "legend": {
         "title": {
          "text": "discipline"
         },
         "tracegroupgap": 0
        },
        "margin": {
         "t": 60
        },
        "template": {
         "data": {
          "bar": [
           {
            "error_x": {
             "color": "#2a3f5f"
            },
            "error_y": {
             "color": "#2a3f5f"
            },
            "marker": {
             "line": {
              "color": "#E5ECF6",
              "width": 0.5
             },
             "pattern": {
              "fillmode": "overlay",
              "size": 10,
              "solidity": 0.2
             }
            },
            "type": "bar"
           }
          ],
          "barpolar": [
           {
            "marker": {
             "line": {
              "color": "#E5ECF6",
              "width": 0.5
             },
             "pattern": {
              "fillmode": "overlay",
              "size": 10,
              "solidity": 0.2
             }
            },
            "type": "barpolar"
           }
          ],
          "carpet": [
           {
            "aaxis": {
             "endlinecolor": "#2a3f5f",
             "gridcolor": "white",
             "linecolor": "white",
             "minorgridcolor": "white",
             "startlinecolor": "#2a3f5f"
            },
            "baxis": {
             "endlinecolor": "#2a3f5f",
             "gridcolor": "white",
             "linecolor": "white",
             "minorgridcolor": "white",
             "startlinecolor": "#2a3f5f"
            },
            "type": "carpet"
           }
          ],
          "choropleth": [
           {
            "colorbar": {
             "outlinewidth": 0,
             "ticks": ""
            },
            "type": "choropleth"
           }
          ],
          "contour": [
           {
            "colorbar": {
             "outlinewidth": 0,
             "ticks": ""
            },
            "colorscale": [
             [
              0,
              "#0d0887"
             ],
             [
              0.1111111111111111,
              "#46039f"
             ],
             [
              0.2222222222222222,
              "#7201a8"
             ],
             [
              0.3333333333333333,
              "#9c179e"
             ],
             [
              0.4444444444444444,
              "#bd3786"
             ],
             [
              0.5555555555555556,
              "#d8576b"
             ],
             [
              0.6666666666666666,
              "#ed7953"
             ],
             [
              0.7777777777777778,
              "#fb9f3a"
             ],
             [
              0.8888888888888888,
              "#fdca26"
             ],
             [
              1,
              "#f0f921"
             ]
            ],
            "type": "contour"
           }
          ],
          "contourcarpet": [
           {
            "colorbar": {
             "outlinewidth": 0,
             "ticks": ""
            },
            "type": "contourcarpet"
           }
          ],
          "heatmap": [
           {
            "colorbar": {
             "outlinewidth": 0,
             "ticks": ""
            },
            "colorscale": [
             [
              0,
              "#0d0887"
             ],
             [
              0.1111111111111111,
              "#46039f"
             ],
             [
              0.2222222222222222,
              "#7201a8"
             ],
             [
              0.3333333333333333,
              "#9c179e"
             ],
             [
              0.4444444444444444,
              "#bd3786"
             ],
             [
              0.5555555555555556,
              "#d8576b"
             ],
             [
              0.6666666666666666,
              "#ed7953"
             ],
             [
              0.7777777777777778,
              "#fb9f3a"
             ],
             [
              0.8888888888888888,
              "#fdca26"
             ],
             [
              1,
              "#f0f921"
             ]
            ],
            "type": "heatmap"
           }
          ],
          "heatmapgl": [
           {
            "colorbar": {
             "outlinewidth": 0,
             "ticks": ""
            },
            "colorscale": [
             [
              0,
              "#0d0887"
             ],
             [
              0.1111111111111111,
              "#46039f"
             ],
             [
              0.2222222222222222,
              "#7201a8"
             ],
             [
              0.3333333333333333,
              "#9c179e"
             ],
             [
              0.4444444444444444,
              "#bd3786"
             ],
             [
              0.5555555555555556,
              "#d8576b"
             ],
             [
              0.6666666666666666,
              "#ed7953"
             ],
             [
              0.7777777777777778,
              "#fb9f3a"
             ],
             [
              0.8888888888888888,
              "#fdca26"
             ],
             [
              1,
              "#f0f921"
             ]
            ],
            "type": "heatmapgl"
           }
          ],
          "histogram": [
           {
            "marker": {
             "pattern": {
              "fillmode": "overlay",
              "size": 10,
              "solidity": 0.2
             }
            },
            "type": "histogram"
           }
          ],
          "histogram2d": [
           {
            "colorbar": {
             "outlinewidth": 0,
             "ticks": ""
            },
            "colorscale": [
             [
              0,
              "#0d0887"
             ],
             [
              0.1111111111111111,
              "#46039f"
             ],
             [
              0.2222222222222222,
              "#7201a8"
             ],
             [
              0.3333333333333333,
              "#9c179e"
             ],
             [
              0.4444444444444444,
              "#bd3786"
             ],
             [
              0.5555555555555556,
              "#d8576b"
             ],
             [
              0.6666666666666666,
              "#ed7953"
             ],
             [
              0.7777777777777778,
              "#fb9f3a"
             ],
             [
              0.8888888888888888,
              "#fdca26"
             ],
             [
              1,
              "#f0f921"
             ]
            ],
            "type": "histogram2d"
           }
          ],
          "histogram2dcontour": [
           {
            "colorbar": {
             "outlinewidth": 0,
             "ticks": ""
            },
            "colorscale": [
             [
              0,
              "#0d0887"
             ],
             [
              0.1111111111111111,
              "#46039f"
             ],
             [
              0.2222222222222222,
              "#7201a8"
             ],
             [
              0.3333333333333333,
              "#9c179e"
             ],
             [
              0.4444444444444444,
              "#bd3786"
             ],
             [
              0.5555555555555556,
              "#d8576b"
             ],
             [
              0.6666666666666666,
              "#ed7953"
             ],
             [
              0.7777777777777778,
              "#fb9f3a"
             ],
             [
              0.8888888888888888,
              "#fdca26"
             ],
             [
              1,
              "#f0f921"
             ]
            ],
            "type": "histogram2dcontour"
           }
          ],
          "mesh3d": [
           {
            "colorbar": {
             "outlinewidth": 0,
             "ticks": ""
            },
            "type": "mesh3d"
           }
          ],
          "parcoords": [
           {
            "line": {
             "colorbar": {
              "outlinewidth": 0,
              "ticks": ""
             }
            },
            "type": "parcoords"
           }
          ],
          "pie": [
           {
            "automargin": true,
            "type": "pie"
           }
          ],
          "scatter": [
           {
            "fillpattern": {
             "fillmode": "overlay",
             "size": 10,
             "solidity": 0.2
            },
            "type": "scatter"
           }
          ],
          "scatter3d": [
           {
            "line": {
             "colorbar": {
              "outlinewidth": 0,
              "ticks": ""
             }
            },
            "marker": {
             "colorbar": {
              "outlinewidth": 0,
              "ticks": ""
             }
            },
            "type": "scatter3d"
           }
          ],
          "scattercarpet": [
           {
            "marker": {
             "colorbar": {
              "outlinewidth": 0,
              "ticks": ""
             }
            },
            "type": "scattercarpet"
           }
          ],
          "scattergeo": [
           {
            "marker": {
             "colorbar": {
              "outlinewidth": 0,
              "ticks": ""
             }
            },
            "type": "scattergeo"
           }
          ],
          "scattergl": [
           {
            "marker": {
             "colorbar": {
              "outlinewidth": 0,
              "ticks": ""
             }
            },
            "type": "scattergl"
           }
          ],
          "scattermapbox": [
           {
            "marker": {
             "colorbar": {
              "outlinewidth": 0,
              "ticks": ""
             }
            },
            "type": "scattermapbox"
           }
          ],
          "scatterpolar": [
           {
            "marker": {
             "colorbar": {
              "outlinewidth": 0,
              "ticks": ""
             }
            },
            "type": "scatterpolar"
           }
          ],
          "scatterpolargl": [
           {
            "marker": {
             "colorbar": {
              "outlinewidth": 0,
              "ticks": ""
             }
            },
            "type": "scatterpolargl"
           }
          ],
          "scatterternary": [
           {
            "marker": {
             "colorbar": {
              "outlinewidth": 0,
              "ticks": ""
             }
            },
            "type": "scatterternary"
           }
          ],
          "surface": [
           {
            "colorbar": {
             "outlinewidth": 0,
             "ticks": ""
            },
            "colorscale": [
             [
              0,
              "#0d0887"
             ],
             [
              0.1111111111111111,
              "#46039f"
             ],
             [
              0.2222222222222222,
              "#7201a8"
             ],
             [
              0.3333333333333333,
              "#9c179e"
             ],
             [
              0.4444444444444444,
              "#bd3786"
             ],
             [
              0.5555555555555556,
              "#d8576b"
             ],
             [
              0.6666666666666666,
              "#ed7953"
             ],
             [
              0.7777777777777778,
              "#fb9f3a"
             ],
             [
              0.8888888888888888,
              "#fdca26"
             ],
             [
              1,
              "#f0f921"
             ]
            ],
            "type": "surface"
           }
          ],
          "table": [
           {
            "cells": {
             "fill": {
              "color": "#EBF0F8"
             },
             "line": {
              "color": "white"
             }
            },
            "header": {
             "fill": {
              "color": "#C8D4E3"
             },
             "line": {
              "color": "white"
             }
            },
            "type": "table"
           }
          ]
         },
         "layout": {
          "annotationdefaults": {
           "arrowcolor": "#2a3f5f",
           "arrowhead": 0,
           "arrowwidth": 1
          },
          "autotypenumbers": "strict",
          "coloraxis": {
           "colorbar": {
            "outlinewidth": 0,
            "ticks": ""
           }
          },
          "colorscale": {
           "diverging": [
            [
             0,
             "#8e0152"
            ],
            [
             0.1,
             "#c51b7d"
            ],
            [
             0.2,
             "#de77ae"
            ],
            [
             0.3,
             "#f1b6da"
            ],
            [
             0.4,
             "#fde0ef"
            ],
            [
             0.5,
             "#f7f7f7"
            ],
            [
             0.6,
             "#e6f5d0"
            ],
            [
             0.7,
             "#b8e186"
            ],
            [
             0.8,
             "#7fbc41"
            ],
            [
             0.9,
             "#4d9221"
            ],
            [
             1,
             "#276419"
            ]
           ],
           "sequential": [
            [
             0,
             "#0d0887"
            ],
            [
             0.1111111111111111,
             "#46039f"
            ],
            [
             0.2222222222222222,
             "#7201a8"
            ],
            [
             0.3333333333333333,
             "#9c179e"
            ],
            [
             0.4444444444444444,
             "#bd3786"
            ],
            [
             0.5555555555555556,
             "#d8576b"
            ],
            [
             0.6666666666666666,
             "#ed7953"
            ],
            [
             0.7777777777777778,
             "#fb9f3a"
            ],
            [
             0.8888888888888888,
             "#fdca26"
            ],
            [
             1,
             "#f0f921"
            ]
           ],
           "sequentialminus": [
            [
             0,
             "#0d0887"
            ],
            [
             0.1111111111111111,
             "#46039f"
            ],
            [
             0.2222222222222222,
             "#7201a8"
            ],
            [
             0.3333333333333333,
             "#9c179e"
            ],
            [
             0.4444444444444444,
             "#bd3786"
            ],
            [
             0.5555555555555556,
             "#d8576b"
            ],
            [
             0.6666666666666666,
             "#ed7953"
            ],
            [
             0.7777777777777778,
             "#fb9f3a"
            ],
            [
             0.8888888888888888,
             "#fdca26"
            ],
            [
             1,
             "#f0f921"
            ]
           ]
          },
          "colorway": [
           "#636efa",
           "#EF553B",
           "#00cc96",
           "#ab63fa",
           "#FFA15A",
           "#19d3f3",
           "#FF6692",
           "#B6E880",
           "#FF97FF",
           "#FECB52"
          ],
          "font": {
           "color": "#2a3f5f"
          },
          "geo": {
           "bgcolor": "white",
           "lakecolor": "white",
           "landcolor": "#E5ECF6",
           "showlakes": true,
           "showland": true,
           "subunitcolor": "white"
          },
          "hoverlabel": {
           "align": "left"
          },
          "hovermode": "closest",
          "mapbox": {
           "style": "light"
          },
          "paper_bgcolor": "white",
          "plot_bgcolor": "#E5ECF6",
          "polar": {
           "angularaxis": {
            "gridcolor": "white",
            "linecolor": "white",
            "ticks": ""
           },
           "bgcolor": "#E5ECF6",
           "radialaxis": {
            "gridcolor": "white",
            "linecolor": "white",
            "ticks": ""
           }
          },
          "scene": {
           "xaxis": {
            "backgroundcolor": "#E5ECF6",
            "gridcolor": "white",
            "gridwidth": 2,
            "linecolor": "white",
            "showbackground": true,
            "ticks": "",
            "zerolinecolor": "white"
           },
           "yaxis": {
            "backgroundcolor": "#E5ECF6",
            "gridcolor": "white",
            "gridwidth": 2,
            "linecolor": "white",
            "showbackground": true,
            "ticks": "",
            "zerolinecolor": "white"
           },
           "zaxis": {
            "backgroundcolor": "#E5ECF6",
            "gridcolor": "white",
            "gridwidth": 2,
            "linecolor": "white",
            "showbackground": true,
            "ticks": "",
            "zerolinecolor": "white"
           }
          },
          "shapedefaults": {
           "line": {
            "color": "#2a3f5f"
           }
          },
          "ternary": {
           "aaxis": {
            "gridcolor": "white",
            "linecolor": "white",
            "ticks": ""
           },
           "baxis": {
            "gridcolor": "white",
            "linecolor": "white",
            "ticks": ""
           },
           "bgcolor": "#E5ECF6",
           "caxis": {
            "gridcolor": "white",
            "linecolor": "white",
            "ticks": ""
           }
          },
          "title": {
           "x": 0.05
          },
          "xaxis": {
           "automargin": true,
           "gridcolor": "white",
           "linecolor": "white",
           "ticks": "",
           "title": {
            "standoff": 15
           },
           "zerolinecolor": "white",
           "zerolinewidth": 2
          },
          "yaxis": {
           "automargin": true,
           "gridcolor": "white",
           "linecolor": "white",
           "ticks": "",
           "title": {
            "standoff": 15
           },
           "zerolinecolor": "white",
           "zerolinewidth": 2
          }
         }
        },
        "xaxis": {
         "anchor": "y",
         "categoryarray": [
          "Anthropologie",
          "Aréale",
          "Autre interdisciplinaire",
          "Démographie",
          "Genre",
          "Géographie",
          "Histoire",
          "SIC",
          "Science politique",
          "Sociologie",
          "Économie"
         ],
         "categoryorder": "array",
         "domain": [
          0,
          0.49
         ],
         "title": {
          "text": "discipline"
         }
        },
        "xaxis2": {
         "anchor": "y2",
         "categoryarray": [
          "Anthropologie",
          "Aréale",
          "Autre interdisciplinaire",
          "Démographie",
          "Genre",
          "Géographie",
          "Histoire",
          "SIC",
          "Science politique",
          "Sociologie",
          "Économie"
         ],
         "categoryorder": "array",
         "domain": [
          0.51,
          1
         ],
         "matches": "x",
         "title": {
          "text": "discipline"
         }
        },
        "yaxis": {
         "anchor": "x",
         "domain": [
          0,
          1
         ],
         "title": {
          "text": "proportion_genre"
         }
        },
        "yaxis2": {
         "anchor": "x2",
         "domain": [
          0,
          1
         ],
         "matches": "y",
         "showticklabels": false
        }
       }
      }
     },
     "metadata": {},
     "output_type": "display_data"
    }
   ],
   "source": [
    "proportion_par_discipline_maj_feminine = []\n",
    "\n",
    "for (maj_fem, discipline), sub_df in df.groupby([\"maj_feminine\", \"discipline\"]):\n",
    "    proportion_par_discipline_maj_feminine.append({\n",
    "        \"maj_feminine\" : maj_fem,\n",
    "        \"discipline\" : discipline,\n",
    "        \"proportion_genre\" : 100 * sub_df[\"genre\"].mean()\n",
    "    })\n",
    "\n",
    "proportion_par_discipline_maj_feminine = pd.DataFrame(\n",
    "    proportion_par_discipline_maj_feminine)\n",
    "\n",
    "# Use px.bar() to indicate that we want to create bar charts\n",
    "fig = px.bar(\n",
    "    proportion_par_discipline_maj_feminine,\n",
    "    x=\"discipline\",\n",
    "    y=\"proportion_genre\",\n",
    "    facet_col=\"maj_feminine\",  # Use facet_col parameter to specify which field to split graph by\n",
    "    color=\"discipline\",\n",
    "    # title=\"Add a title here\",\n",
    ")\n",
    "fig.show()"
   ]
  },
  {
   "cell_type": "markdown",
   "metadata": {},
   "source": [
    "Notez que cette méthode ne nécessite pas de spécifier les dimensions de la grille puisque Plotly Express divise automatiquement la figure par le nombre de catégories disponibles (ici 2 puisque les 2 catégories disponibles sont majorité masculine / féminine). Cependant cette méthode ne peut fonctionner uniquement pour des figures ne représentant qu'un seul type de graphe (ici graphes bâton). Nous discutons plus bas de la manière des figures contenant des sous figures de dimensions particlulières en utilisant Graph Objects."
   ]
  },
  {
   "cell_type": "markdown",
   "metadata": {},
   "source": [
    "## Ajouter des animations : _Animation Frames_"
   ]
  },
  {
   "cell_type": "markdown",
   "metadata": {},
   "source": [
    "Comme nous l'avons vu, Plotly Express contient des fonctionnalités intéractives native. Et pourtant, il y a encore de nombreuses fonctionnalités qui peuvent être implémentées pour augmenter l'intéractivité comme les animations à travers les _animation frames_.\n",
    "\n",
    "Une _animation frame_ représente la manière dont les données changent en fonction d'un certain axe. Dans les recherches historiques, la mesure la plus utile est l'axe temporel bien que d'autres variables numérique avec une relation d'ordre (ex : _ordinal or interval data_) peut fonctionner. Une figure Plotly Express avec une animation contient une _toolbar_ intéractive permettant de jouer/arrêter l'animation mais aussi de se déplacer manuellement dans les données.\n",
    "\n",
    "Pour créer une figure avec une animation, il faut commencer par sélectionner la méthode que nous voulons utiliser comme dans les exemples précédents afin de sélectionner le type de graphe désiré. Puis, à l'intérieur de la fonction on utilise le paramètre `animation_frame` pour spécifier quel variable doit petre utilisée pour visualiser l'évolution. Dans notre exemple nous reprennons les données utilisées dans le _graphe à point_ permettant de montrer l'évolution de la mention de genre à travers les années."
   ]
  },
  {
   "cell_type": "code",
   "execution_count": 82,
   "metadata": {},
   "outputs": [
    {
     "data": {
      "application/vnd.plotly.v1+json": {
       "config": {
        "plotlyServerURL": "https://plot.ly"
       },
       "data": [
        {
         "alignmentgroup": "True",
         "hovertemplate": "discipline=%{x}<br>annee_publication=2001<br>Proportion des articles mentionnant le genre=%{y}<extra></extra>",
         "legendgroup": "Anthropologie",
         "marker": {
          "color": "#636efa",
          "pattern": {
           "shape": ""
          }
         },
         "name": "Anthropologie",
         "offsetgroup": "Anthropologie",
         "orientation": "v",
         "showlegend": true,
         "textposition": "auto",
         "type": "bar",
         "x": [
          "Anthropologie"
         ],
         "xaxis": "x",
         "y": [
          8.75
         ],
         "yaxis": "y"
        },
        {
         "alignmentgroup": "True",
         "hovertemplate": "discipline=%{x}<br>annee_publication=2001<br>Proportion des articles mentionnant le genre=%{y}<extra></extra>",
         "legendgroup": "Aréale",
         "marker": {
          "color": "#EF553B",
          "pattern": {
           "shape": ""
          }
         },
         "name": "Aréale",
         "offsetgroup": "Aréale",
         "orientation": "v",
         "showlegend": true,
         "textposition": "auto",
         "type": "bar",
         "x": [
          "Aréale"
         ],
         "xaxis": "x",
         "y": [
          3.571428571428571
         ],
         "yaxis": "y"
        },
        {
         "alignmentgroup": "True",
         "hovertemplate": "discipline=%{x}<br>annee_publication=2001<br>Proportion des articles mentionnant le genre=%{y}<extra></extra>",
         "legendgroup": "Autre interdisciplinaire",
         "marker": {
          "color": "#00cc96",
          "pattern": {
           "shape": ""
          }
         },
         "name": "Autre interdisciplinaire",
         "offsetgroup": "Autre interdisciplinaire",
         "orientation": "v",
         "showlegend": true,
         "textposition": "auto",
         "type": "bar",
         "x": [
          "Autre interdisciplinaire"
         ],
         "xaxis": "x",
         "y": [
          0.591715976331361
         ],
         "yaxis": "y"
        },
        {
         "alignmentgroup": "True",
         "hovertemplate": "discipline=%{x}<br>annee_publication=2001<br>Proportion des articles mentionnant le genre=%{y}<extra></extra>",
         "legendgroup": "Démographie",
         "marker": {
          "color": "#ab63fa",
          "pattern": {
           "shape": ""
          }
         },
         "name": "Démographie",
         "offsetgroup": "Démographie",
         "orientation": "v",
         "showlegend": true,
         "textposition": "auto",
         "type": "bar",
         "x": [
          "Démographie"
         ],
         "xaxis": "x",
         "y": [
          25
         ],
         "yaxis": "y"
        },
        {
         "alignmentgroup": "True",
         "hovertemplate": "discipline=%{x}<br>annee_publication=2001<br>Proportion des articles mentionnant le genre=%{y}<extra></extra>",
         "legendgroup": "Genre",
         "marker": {
          "color": "#FFA15A",
          "pattern": {
           "shape": ""
          }
         },
         "name": "Genre",
         "offsetgroup": "Genre",
         "orientation": "v",
         "showlegend": true,
         "textposition": "auto",
         "type": "bar",
         "x": [
          "Genre"
         ],
         "xaxis": "x",
         "y": [
          92.5925925925926
         ],
         "yaxis": "y"
        },
        {
         "alignmentgroup": "True",
         "hovertemplate": "discipline=%{x}<br>annee_publication=2001<br>Proportion des articles mentionnant le genre=%{y}<extra></extra>",
         "legendgroup": "Géographie",
         "marker": {
          "color": "#19d3f3",
          "pattern": {
           "shape": ""
          }
         },
         "name": "Géographie",
         "offsetgroup": "Géographie",
         "orientation": "v",
         "showlegend": true,
         "textposition": "auto",
         "type": "bar",
         "x": [
          "Géographie"
         ],
         "xaxis": "x",
         "y": [
          0
         ],
         "yaxis": "y"
        },
        {
         "alignmentgroup": "True",
         "hovertemplate": "discipline=%{x}<br>annee_publication=2001<br>Proportion des articles mentionnant le genre=%{y}<extra></extra>",
         "legendgroup": "Histoire",
         "marker": {
          "color": "#FF6692",
          "pattern": {
           "shape": ""
          }
         },
         "name": "Histoire",
         "offsetgroup": "Histoire",
         "orientation": "v",
         "showlegend": true,
         "textposition": "auto",
         "type": "bar",
         "x": [
          "Histoire"
         ],
         "xaxis": "x",
         "y": [
          2.6143790849673203
         ],
         "yaxis": "y"
        },
        {
         "alignmentgroup": "True",
         "hovertemplate": "discipline=%{x}<br>annee_publication=2001<br>Proportion des articles mentionnant le genre=%{y}<extra></extra>",
         "legendgroup": "SIC",
         "marker": {
          "color": "#B6E880",
          "pattern": {
           "shape": ""
          }
         },
         "name": "SIC",
         "offsetgroup": "SIC",
         "orientation": "v",
         "showlegend": true,
         "textposition": "auto",
         "type": "bar",
         "x": [
          "SIC"
         ],
         "xaxis": "x",
         "y": [
          3.5294117647058822
         ],
         "yaxis": "y"
        },
        {
         "alignmentgroup": "True",
         "hovertemplate": "discipline=%{x}<br>annee_publication=2001<br>Proportion des articles mentionnant le genre=%{y}<extra></extra>",
         "legendgroup": "Science politique",
         "marker": {
          "color": "#FF97FF",
          "pattern": {
           "shape": ""
          }
         },
         "name": "Science politique",
         "offsetgroup": "Science politique",
         "orientation": "v",
         "showlegend": true,
         "textposition": "auto",
         "type": "bar",
         "x": [
          "Science politique"
         ],
         "xaxis": "x",
         "y": [
          1
         ],
         "yaxis": "y"
        },
        {
         "alignmentgroup": "True",
         "hovertemplate": "discipline=%{x}<br>annee_publication=2001<br>Proportion des articles mentionnant le genre=%{y}<extra></extra>",
         "legendgroup": "Sociologie",
         "marker": {
          "color": "#FECB52",
          "pattern": {
           "shape": ""
          }
         },
         "name": "Sociologie",
         "offsetgroup": "Sociologie",
         "orientation": "v",
         "showlegend": true,
         "textposition": "auto",
         "type": "bar",
         "x": [
          "Sociologie"
         ],
         "xaxis": "x",
         "y": [
          4.242424242424243
         ],
         "yaxis": "y"
        },
        {
         "alignmentgroup": "True",
         "hovertemplate": "discipline=%{x}<br>annee_publication=2001<br>Proportion des articles mentionnant le genre=%{y}<extra></extra>",
         "legendgroup": "Économie",
         "marker": {
          "color": "#636efa",
          "pattern": {
           "shape": ""
          }
         },
         "name": "Économie",
         "offsetgroup": "Économie",
         "orientation": "v",
         "showlegend": true,
         "textposition": "auto",
         "type": "bar",
         "x": [
          "Économie"
         ],
         "xaxis": "x",
         "y": [
          0
         ],
         "yaxis": "y"
        }
       ],
       "frames": [
        {
         "data": [
          {
           "alignmentgroup": "True",
           "hovertemplate": "discipline=%{x}<br>annee_publication=2001<br>Proportion des articles mentionnant le genre=%{y}<extra></extra>",
           "legendgroup": "Anthropologie",
           "marker": {
            "color": "#636efa",
            "pattern": {
             "shape": ""
            }
           },
           "name": "Anthropologie",
           "offsetgroup": "Anthropologie",
           "orientation": "v",
           "showlegend": true,
           "textposition": "auto",
           "type": "bar",
           "x": [
            "Anthropologie"
           ],
           "xaxis": "x",
           "y": [
            8.75
           ],
           "yaxis": "y"
          },
          {
           "alignmentgroup": "True",
           "hovertemplate": "discipline=%{x}<br>annee_publication=2001<br>Proportion des articles mentionnant le genre=%{y}<extra></extra>",
           "legendgroup": "Aréale",
           "marker": {
            "color": "#EF553B",
            "pattern": {
             "shape": ""
            }
           },
           "name": "Aréale",
           "offsetgroup": "Aréale",
           "orientation": "v",
           "showlegend": true,
           "textposition": "auto",
           "type": "bar",
           "x": [
            "Aréale"
           ],
           "xaxis": "x",
           "y": [
            3.571428571428571
           ],
           "yaxis": "y"
          },
          {
           "alignmentgroup": "True",
           "hovertemplate": "discipline=%{x}<br>annee_publication=2001<br>Proportion des articles mentionnant le genre=%{y}<extra></extra>",
           "legendgroup": "Autre interdisciplinaire",
           "marker": {
            "color": "#00cc96",
            "pattern": {
             "shape": ""
            }
           },
           "name": "Autre interdisciplinaire",
           "offsetgroup": "Autre interdisciplinaire",
           "orientation": "v",
           "showlegend": true,
           "textposition": "auto",
           "type": "bar",
           "x": [
            "Autre interdisciplinaire"
           ],
           "xaxis": "x",
           "y": [
            0.591715976331361
           ],
           "yaxis": "y"
          },
          {
           "alignmentgroup": "True",
           "hovertemplate": "discipline=%{x}<br>annee_publication=2001<br>Proportion des articles mentionnant le genre=%{y}<extra></extra>",
           "legendgroup": "Démographie",
           "marker": {
            "color": "#ab63fa",
            "pattern": {
             "shape": ""
            }
           },
           "name": "Démographie",
           "offsetgroup": "Démographie",
           "orientation": "v",
           "showlegend": true,
           "textposition": "auto",
           "type": "bar",
           "x": [
            "Démographie"
           ],
           "xaxis": "x",
           "y": [
            25
           ],
           "yaxis": "y"
          },
          {
           "alignmentgroup": "True",
           "hovertemplate": "discipline=%{x}<br>annee_publication=2001<br>Proportion des articles mentionnant le genre=%{y}<extra></extra>",
           "legendgroup": "Genre",
           "marker": {
            "color": "#FFA15A",
            "pattern": {
             "shape": ""
            }
           },
           "name": "Genre",
           "offsetgroup": "Genre",
           "orientation": "v",
           "showlegend": true,
           "textposition": "auto",
           "type": "bar",
           "x": [
            "Genre"
           ],
           "xaxis": "x",
           "y": [
            92.5925925925926
           ],
           "yaxis": "y"
          },
          {
           "alignmentgroup": "True",
           "hovertemplate": "discipline=%{x}<br>annee_publication=2001<br>Proportion des articles mentionnant le genre=%{y}<extra></extra>",
           "legendgroup": "Géographie",
           "marker": {
            "color": "#19d3f3",
            "pattern": {
             "shape": ""
            }
           },
           "name": "Géographie",
           "offsetgroup": "Géographie",
           "orientation": "v",
           "showlegend": true,
           "textposition": "auto",
           "type": "bar",
           "x": [
            "Géographie"
           ],
           "xaxis": "x",
           "y": [
            0
           ],
           "yaxis": "y"
          },
          {
           "alignmentgroup": "True",
           "hovertemplate": "discipline=%{x}<br>annee_publication=2001<br>Proportion des articles mentionnant le genre=%{y}<extra></extra>",
           "legendgroup": "Histoire",
           "marker": {
            "color": "#FF6692",
            "pattern": {
             "shape": ""
            }
           },
           "name": "Histoire",
           "offsetgroup": "Histoire",
           "orientation": "v",
           "showlegend": true,
           "textposition": "auto",
           "type": "bar",
           "x": [
            "Histoire"
           ],
           "xaxis": "x",
           "y": [
            2.6143790849673203
           ],
           "yaxis": "y"
          },
          {
           "alignmentgroup": "True",
           "hovertemplate": "discipline=%{x}<br>annee_publication=2001<br>Proportion des articles mentionnant le genre=%{y}<extra></extra>",
           "legendgroup": "SIC",
           "marker": {
            "color": "#B6E880",
            "pattern": {
             "shape": ""
            }
           },
           "name": "SIC",
           "offsetgroup": "SIC",
           "orientation": "v",
           "showlegend": true,
           "textposition": "auto",
           "type": "bar",
           "x": [
            "SIC"
           ],
           "xaxis": "x",
           "y": [
            3.5294117647058822
           ],
           "yaxis": "y"
          },
          {
           "alignmentgroup": "True",
           "hovertemplate": "discipline=%{x}<br>annee_publication=2001<br>Proportion des articles mentionnant le genre=%{y}<extra></extra>",
           "legendgroup": "Science politique",
           "marker": {
            "color": "#FF97FF",
            "pattern": {
             "shape": ""
            }
           },
           "name": "Science politique",
           "offsetgroup": "Science politique",
           "orientation": "v",
           "showlegend": true,
           "textposition": "auto",
           "type": "bar",
           "x": [
            "Science politique"
           ],
           "xaxis": "x",
           "y": [
            1
           ],
           "yaxis": "y"
          },
          {
           "alignmentgroup": "True",
           "hovertemplate": "discipline=%{x}<br>annee_publication=2001<br>Proportion des articles mentionnant le genre=%{y}<extra></extra>",
           "legendgroup": "Sociologie",
           "marker": {
            "color": "#FECB52",
            "pattern": {
             "shape": ""
            }
           },
           "name": "Sociologie",
           "offsetgroup": "Sociologie",
           "orientation": "v",
           "showlegend": true,
           "textposition": "auto",
           "type": "bar",
           "x": [
            "Sociologie"
           ],
           "xaxis": "x",
           "y": [
            4.242424242424243
           ],
           "yaxis": "y"
          },
          {
           "alignmentgroup": "True",
           "hovertemplate": "discipline=%{x}<br>annee_publication=2001<br>Proportion des articles mentionnant le genre=%{y}<extra></extra>",
           "legendgroup": "Économie",
           "marker": {
            "color": "#636efa",
            "pattern": {
             "shape": ""
            }
           },
           "name": "Économie",
           "offsetgroup": "Économie",
           "orientation": "v",
           "showlegend": true,
           "textposition": "auto",
           "type": "bar",
           "x": [
            "Économie"
           ],
           "xaxis": "x",
           "y": [
            0
           ],
           "yaxis": "y"
          }
         ],
         "name": "2001"
        },
        {
         "data": [
          {
           "alignmentgroup": "True",
           "hovertemplate": "discipline=%{x}<br>annee_publication=2002<br>Proportion des articles mentionnant le genre=%{y}<extra></extra>",
           "legendgroup": "Anthropologie",
           "marker": {
            "color": "#636efa",
            "pattern": {
             "shape": ""
            }
           },
           "name": "Anthropologie",
           "offsetgroup": "Anthropologie",
           "orientation": "v",
           "showlegend": true,
           "textposition": "auto",
           "type": "bar",
           "x": [
            "Anthropologie"
           ],
           "xaxis": "x",
           "y": [
            7.317073170731707
           ],
           "yaxis": "y"
          },
          {
           "alignmentgroup": "True",
           "hovertemplate": "discipline=%{x}<br>annee_publication=2002<br>Proportion des articles mentionnant le genre=%{y}<extra></extra>",
           "legendgroup": "Aréale",
           "marker": {
            "color": "#EF553B",
            "pattern": {
             "shape": ""
            }
           },
           "name": "Aréale",
           "offsetgroup": "Aréale",
           "orientation": "v",
           "showlegend": true,
           "textposition": "auto",
           "type": "bar",
           "x": [
            "Aréale"
           ],
           "xaxis": "x",
           "y": [
            2.8169014084507045
           ],
           "yaxis": "y"
          },
          {
           "alignmentgroup": "True",
           "hovertemplate": "discipline=%{x}<br>annee_publication=2002<br>Proportion des articles mentionnant le genre=%{y}<extra></extra>",
           "legendgroup": "Autre interdisciplinaire",
           "marker": {
            "color": "#00cc96",
            "pattern": {
             "shape": ""
            }
           },
           "name": "Autre interdisciplinaire",
           "offsetgroup": "Autre interdisciplinaire",
           "orientation": "v",
           "showlegend": true,
           "textposition": "auto",
           "type": "bar",
           "x": [
            "Autre interdisciplinaire"
           ],
           "xaxis": "x",
           "y": [
            8.152173913043478
           ],
           "yaxis": "y"
          },
          {
           "alignmentgroup": "True",
           "hovertemplate": "discipline=%{x}<br>annee_publication=2002<br>Proportion des articles mentionnant le genre=%{y}<extra></extra>",
           "legendgroup": "Démographie",
           "marker": {
            "color": "#ab63fa",
            "pattern": {
             "shape": ""
            }
           },
           "name": "Démographie",
           "offsetgroup": "Démographie",
           "orientation": "v",
           "showlegend": true,
           "textposition": "auto",
           "type": "bar",
           "x": [
            "Démographie"
           ],
           "xaxis": "x",
           "y": [
            24
           ],
           "yaxis": "y"
          },
          {
           "alignmentgroup": "True",
           "hovertemplate": "discipline=%{x}<br>annee_publication=2002<br>Proportion des articles mentionnant le genre=%{y}<extra></extra>",
           "legendgroup": "Genre",
           "marker": {
            "color": "#FFA15A",
            "pattern": {
             "shape": ""
            }
           },
           "name": "Genre",
           "offsetgroup": "Genre",
           "orientation": "v",
           "showlegend": true,
           "textposition": "auto",
           "type": "bar",
           "x": [
            "Genre"
           ],
           "xaxis": "x",
           "y": [
            91.22807017543859
           ],
           "yaxis": "y"
          },
          {
           "alignmentgroup": "True",
           "hovertemplate": "discipline=%{x}<br>annee_publication=2002<br>Proportion des articles mentionnant le genre=%{y}<extra></extra>",
           "legendgroup": "Géographie",
           "marker": {
            "color": "#19d3f3",
            "pattern": {
             "shape": ""
            }
           },
           "name": "Géographie",
           "offsetgroup": "Géographie",
           "orientation": "v",
           "showlegend": true,
           "textposition": "auto",
           "type": "bar",
           "x": [
            "Géographie"
           ],
           "xaxis": "x",
           "y": [
            0
           ],
           "yaxis": "y"
          },
          {
           "alignmentgroup": "True",
           "hovertemplate": "discipline=%{x}<br>annee_publication=2002<br>Proportion des articles mentionnant le genre=%{y}<extra></extra>",
           "legendgroup": "Histoire",
           "marker": {
            "color": "#FF6692",
            "pattern": {
             "shape": ""
            }
           },
           "name": "Histoire",
           "offsetgroup": "Histoire",
           "orientation": "v",
           "showlegend": true,
           "textposition": "auto",
           "type": "bar",
           "x": [
            "Histoire"
           ],
           "xaxis": "x",
           "y": [
            11.41304347826087
           ],
           "yaxis": "y"
          },
          {
           "alignmentgroup": "True",
           "hovertemplate": "discipline=%{x}<br>annee_publication=2002<br>Proportion des articles mentionnant le genre=%{y}<extra></extra>",
           "legendgroup": "SIC",
           "marker": {
            "color": "#B6E880",
            "pattern": {
             "shape": ""
            }
           },
           "name": "SIC",
           "offsetgroup": "SIC",
           "orientation": "v",
           "showlegend": true,
           "textposition": "auto",
           "type": "bar",
           "x": [
            "SIC"
           ],
           "xaxis": "x",
           "y": [
            0
           ],
           "yaxis": "y"
          },
          {
           "alignmentgroup": "True",
           "hovertemplate": "discipline=%{x}<br>annee_publication=2002<br>Proportion des articles mentionnant le genre=%{y}<extra></extra>",
           "legendgroup": "Science politique",
           "marker": {
            "color": "#FF97FF",
            "pattern": {
             "shape": ""
            }
           },
           "name": "Science politique",
           "offsetgroup": "Science politique",
           "orientation": "v",
           "showlegend": true,
           "textposition": "auto",
           "type": "bar",
           "x": [
            "Science politique"
           ],
           "xaxis": "x",
           "y": [
            4.733727810650888
           ],
           "yaxis": "y"
          },
          {
           "alignmentgroup": "True",
           "hovertemplate": "discipline=%{x}<br>annee_publication=2002<br>Proportion des articles mentionnant le genre=%{y}<extra></extra>",
           "legendgroup": "Sociologie",
           "marker": {
            "color": "#FECB52",
            "pattern": {
             "shape": ""
            }
           },
           "name": "Sociologie",
           "offsetgroup": "Sociologie",
           "orientation": "v",
           "showlegend": true,
           "textposition": "auto",
           "type": "bar",
           "x": [
            "Sociologie"
           ],
           "xaxis": "x",
           "y": [
            3.1847133757961785
           ],
           "yaxis": "y"
          },
          {
           "alignmentgroup": "True",
           "hovertemplate": "discipline=%{x}<br>annee_publication=2002<br>Proportion des articles mentionnant le genre=%{y}<extra></extra>",
           "legendgroup": "Économie",
           "marker": {
            "color": "#636efa",
            "pattern": {
             "shape": ""
            }
           },
           "name": "Économie",
           "offsetgroup": "Économie",
           "orientation": "v",
           "showlegend": true,
           "textposition": "auto",
           "type": "bar",
           "x": [
            "Économie"
           ],
           "xaxis": "x",
           "y": [
            1.3157894736842104
           ],
           "yaxis": "y"
          }
         ],
         "name": "2002"
        },
        {
         "data": [
          {
           "alignmentgroup": "True",
           "hovertemplate": "discipline=%{x}<br>annee_publication=2003<br>Proportion des articles mentionnant le genre=%{y}<extra></extra>",
           "legendgroup": "Anthropologie",
           "marker": {
            "color": "#636efa",
            "pattern": {
             "shape": ""
            }
           },
           "name": "Anthropologie",
           "offsetgroup": "Anthropologie",
           "orientation": "v",
           "showlegend": true,
           "textposition": "auto",
           "type": "bar",
           "x": [
            "Anthropologie"
           ],
           "xaxis": "x",
           "y": [
            7.59493670886076
           ],
           "yaxis": "y"
          },
          {
           "alignmentgroup": "True",
           "hovertemplate": "discipline=%{x}<br>annee_publication=2003<br>Proportion des articles mentionnant le genre=%{y}<extra></extra>",
           "legendgroup": "Aréale",
           "marker": {
            "color": "#EF553B",
            "pattern": {
             "shape": ""
            }
           },
           "name": "Aréale",
           "offsetgroup": "Aréale",
           "orientation": "v",
           "showlegend": true,
           "textposition": "auto",
           "type": "bar",
           "x": [
            "Aréale"
           ],
           "xaxis": "x",
           "y": [
            2.73972602739726
           ],
           "yaxis": "y"
          },
          {
           "alignmentgroup": "True",
           "hovertemplate": "discipline=%{x}<br>annee_publication=2003<br>Proportion des articles mentionnant le genre=%{y}<extra></extra>",
           "legendgroup": "Autre interdisciplinaire",
           "marker": {
            "color": "#00cc96",
            "pattern": {
             "shape": ""
            }
           },
           "name": "Autre interdisciplinaire",
           "offsetgroup": "Autre interdisciplinaire",
           "orientation": "v",
           "showlegend": true,
           "textposition": "auto",
           "type": "bar",
           "x": [
            "Autre interdisciplinaire"
           ],
           "xaxis": "x",
           "y": [
            6.746031746031746
           ],
           "yaxis": "y"
          },
          {
           "alignmentgroup": "True",
           "hovertemplate": "discipline=%{x}<br>annee_publication=2003<br>Proportion des articles mentionnant le genre=%{y}<extra></extra>",
           "legendgroup": "Démographie",
           "marker": {
            "color": "#ab63fa",
            "pattern": {
             "shape": ""
            }
           },
           "name": "Démographie",
           "offsetgroup": "Démographie",
           "orientation": "v",
           "showlegend": true,
           "textposition": "auto",
           "type": "bar",
           "x": [
            "Démographie"
           ],
           "xaxis": "x",
           "y": [
            26.08695652173913
           ],
           "yaxis": "y"
          },
          {
           "alignmentgroup": "True",
           "hovertemplate": "discipline=%{x}<br>annee_publication=2003<br>Proportion des articles mentionnant le genre=%{y}<extra></extra>",
           "legendgroup": "Genre",
           "marker": {
            "color": "#FFA15A",
            "pattern": {
             "shape": ""
            }
           },
           "name": "Genre",
           "offsetgroup": "Genre",
           "orientation": "v",
           "showlegend": true,
           "textposition": "auto",
           "type": "bar",
           "x": [
            "Genre"
           ],
           "xaxis": "x",
           "y": [
            83.33333333333334
           ],
           "yaxis": "y"
          },
          {
           "alignmentgroup": "True",
           "hovertemplate": "discipline=%{x}<br>annee_publication=2003<br>Proportion des articles mentionnant le genre=%{y}<extra></extra>",
           "legendgroup": "Géographie",
           "marker": {
            "color": "#19d3f3",
            "pattern": {
             "shape": ""
            }
           },
           "name": "Géographie",
           "offsetgroup": "Géographie",
           "orientation": "v",
           "showlegend": true,
           "textposition": "auto",
           "type": "bar",
           "x": [
            "Géographie"
           ],
           "xaxis": "x",
           "y": [
            0
           ],
           "yaxis": "y"
          },
          {
           "alignmentgroup": "True",
           "hovertemplate": "discipline=%{x}<br>annee_publication=2003<br>Proportion des articles mentionnant le genre=%{y}<extra></extra>",
           "legendgroup": "Histoire",
           "marker": {
            "color": "#FF6692",
            "pattern": {
             "shape": ""
            }
           },
           "name": "Histoire",
           "offsetgroup": "Histoire",
           "orientation": "v",
           "showlegend": true,
           "textposition": "auto",
           "type": "bar",
           "x": [
            "Histoire"
           ],
           "xaxis": "x",
           "y": [
            1.7341040462427744
           ],
           "yaxis": "y"
          },
          {
           "alignmentgroup": "True",
           "hovertemplate": "discipline=%{x}<br>annee_publication=2003<br>Proportion des articles mentionnant le genre=%{y}<extra></extra>",
           "legendgroup": "SIC",
           "marker": {
            "color": "#B6E880",
            "pattern": {
             "shape": ""
            }
           },
           "name": "SIC",
           "offsetgroup": "SIC",
           "orientation": "v",
           "showlegend": true,
           "textposition": "auto",
           "type": "bar",
           "x": [
            "SIC"
           ],
           "xaxis": "x",
           "y": [
            7.746478873239436
           ],
           "yaxis": "y"
          },
          {
           "alignmentgroup": "True",
           "hovertemplate": "discipline=%{x}<br>annee_publication=2003<br>Proportion des articles mentionnant le genre=%{y}<extra></extra>",
           "legendgroup": "Science politique",
           "marker": {
            "color": "#FF97FF",
            "pattern": {
             "shape": ""
            }
           },
           "name": "Science politique",
           "offsetgroup": "Science politique",
           "orientation": "v",
           "showlegend": true,
           "textposition": "auto",
           "type": "bar",
           "x": [
            "Science politique"
           ],
           "xaxis": "x",
           "y": [
            3.1914893617021276
           ],
           "yaxis": "y"
          },
          {
           "alignmentgroup": "True",
           "hovertemplate": "discipline=%{x}<br>annee_publication=2003<br>Proportion des articles mentionnant le genre=%{y}<extra></extra>",
           "legendgroup": "Sociologie",
           "marker": {
            "color": "#FECB52",
            "pattern": {
             "shape": ""
            }
           },
           "name": "Sociologie",
           "offsetgroup": "Sociologie",
           "orientation": "v",
           "showlegend": true,
           "textposition": "auto",
           "type": "bar",
           "x": [
            "Sociologie"
           ],
           "xaxis": "x",
           "y": [
            8.542713567839195
           ],
           "yaxis": "y"
          },
          {
           "alignmentgroup": "True",
           "hovertemplate": "discipline=%{x}<br>annee_publication=2003<br>Proportion des articles mentionnant le genre=%{y}<extra></extra>",
           "legendgroup": "Économie",
           "marker": {
            "color": "#636efa",
            "pattern": {
             "shape": ""
            }
           },
           "name": "Économie",
           "offsetgroup": "Économie",
           "orientation": "v",
           "showlegend": true,
           "textposition": "auto",
           "type": "bar",
           "x": [
            "Économie"
           ],
           "xaxis": "x",
           "y": [
            0
           ],
           "yaxis": "y"
          }
         ],
         "name": "2003"
        },
        {
         "data": [
          {
           "alignmentgroup": "True",
           "hovertemplate": "discipline=%{x}<br>annee_publication=2004<br>Proportion des articles mentionnant le genre=%{y}<extra></extra>",
           "legendgroup": "Anthropologie",
           "marker": {
            "color": "#636efa",
            "pattern": {
             "shape": ""
            }
           },
           "name": "Anthropologie",
           "offsetgroup": "Anthropologie",
           "orientation": "v",
           "showlegend": true,
           "textposition": "auto",
           "type": "bar",
           "x": [
            "Anthropologie"
           ],
           "xaxis": "x",
           "y": [
            5.747126436781609
           ],
           "yaxis": "y"
          },
          {
           "alignmentgroup": "True",
           "hovertemplate": "discipline=%{x}<br>annee_publication=2004<br>Proportion des articles mentionnant le genre=%{y}<extra></extra>",
           "legendgroup": "Aréale",
           "marker": {
            "color": "#EF553B",
            "pattern": {
             "shape": ""
            }
           },
           "name": "Aréale",
           "offsetgroup": "Aréale",
           "orientation": "v",
           "showlegend": true,
           "textposition": "auto",
           "type": "bar",
           "x": [
            "Aréale"
           ],
           "xaxis": "x",
           "y": [
            7.627118644067797
           ],
           "yaxis": "y"
          },
          {
           "alignmentgroup": "True",
           "hovertemplate": "discipline=%{x}<br>annee_publication=2004<br>Proportion des articles mentionnant le genre=%{y}<extra></extra>",
           "legendgroup": "Autre interdisciplinaire",
           "marker": {
            "color": "#00cc96",
            "pattern": {
             "shape": ""
            }
           },
           "name": "Autre interdisciplinaire",
           "offsetgroup": "Autre interdisciplinaire",
           "orientation": "v",
           "showlegend": true,
           "textposition": "auto",
           "type": "bar",
           "x": [
            "Autre interdisciplinaire"
           ],
           "xaxis": "x",
           "y": [
            3.45821325648415
           ],
           "yaxis": "y"
          },
          {
           "alignmentgroup": "True",
           "hovertemplate": "discipline=%{x}<br>annee_publication=2004<br>Proportion des articles mentionnant le genre=%{y}<extra></extra>",
           "legendgroup": "Démographie",
           "marker": {
            "color": "#ab63fa",
            "pattern": {
             "shape": ""
            }
           },
           "name": "Démographie",
           "offsetgroup": "Démographie",
           "orientation": "v",
           "showlegend": true,
           "textposition": "auto",
           "type": "bar",
           "x": [
            "Démographie"
           ],
           "xaxis": "x",
           "y": [
            15
           ],
           "yaxis": "y"
          },
          {
           "alignmentgroup": "True",
           "hovertemplate": "discipline=%{x}<br>annee_publication=2004<br>Proportion des articles mentionnant le genre=%{y}<extra></extra>",
           "legendgroup": "Genre",
           "marker": {
            "color": "#FFA15A",
            "pattern": {
             "shape": ""
            }
           },
           "name": "Genre",
           "offsetgroup": "Genre",
           "orientation": "v",
           "showlegend": true,
           "textposition": "auto",
           "type": "bar",
           "x": [
            "Genre"
           ],
           "xaxis": "x",
           "y": [
            95.52238805970148
           ],
           "yaxis": "y"
          },
          {
           "alignmentgroup": "True",
           "hovertemplate": "discipline=%{x}<br>annee_publication=2004<br>Proportion des articles mentionnant le genre=%{y}<extra></extra>",
           "legendgroup": "Géographie",
           "marker": {
            "color": "#19d3f3",
            "pattern": {
             "shape": ""
            }
           },
           "name": "Géographie",
           "offsetgroup": "Géographie",
           "orientation": "v",
           "showlegend": true,
           "textposition": "auto",
           "type": "bar",
           "x": [
            "Géographie"
           ],
           "xaxis": "x",
           "y": [
            0
           ],
           "yaxis": "y"
          },
          {
           "alignmentgroup": "True",
           "hovertemplate": "discipline=%{x}<br>annee_publication=2004<br>Proportion des articles mentionnant le genre=%{y}<extra></extra>",
           "legendgroup": "Histoire",
           "marker": {
            "color": "#FF6692",
            "pattern": {
             "shape": ""
            }
           },
           "name": "Histoire",
           "offsetgroup": "Histoire",
           "orientation": "v",
           "showlegend": true,
           "textposition": "auto",
           "type": "bar",
           "x": [
            "Histoire"
           ],
           "xaxis": "x",
           "y": [
            3.1914893617021276
           ],
           "yaxis": "y"
          },
          {
           "alignmentgroup": "True",
           "hovertemplate": "discipline=%{x}<br>annee_publication=2004<br>Proportion des articles mentionnant le genre=%{y}<extra></extra>",
           "legendgroup": "SIC",
           "marker": {
            "color": "#B6E880",
            "pattern": {
             "shape": ""
            }
           },
           "name": "SIC",
           "offsetgroup": "SIC",
           "orientation": "v",
           "showlegend": true,
           "textposition": "auto",
           "type": "bar",
           "x": [
            "SIC"
           ],
           "xaxis": "x",
           "y": [
            2.4691358024691357
           ],
           "yaxis": "y"
          },
          {
           "alignmentgroup": "True",
           "hovertemplate": "discipline=%{x}<br>annee_publication=2004<br>Proportion des articles mentionnant le genre=%{y}<extra></extra>",
           "legendgroup": "Science politique",
           "marker": {
            "color": "#FF97FF",
            "pattern": {
             "shape": ""
            }
           },
           "name": "Science politique",
           "offsetgroup": "Science politique",
           "orientation": "v",
           "showlegend": true,
           "textposition": "auto",
           "type": "bar",
           "x": [
            "Science politique"
           ],
           "xaxis": "x",
           "y": [
            2.4271844660194173
           ],
           "yaxis": "y"
          },
          {
           "alignmentgroup": "True",
           "hovertemplate": "discipline=%{x}<br>annee_publication=2004<br>Proportion des articles mentionnant le genre=%{y}<extra></extra>",
           "legendgroup": "Sociologie",
           "marker": {
            "color": "#FECB52",
            "pattern": {
             "shape": ""
            }
           },
           "name": "Sociologie",
           "offsetgroup": "Sociologie",
           "orientation": "v",
           "showlegend": true,
           "textposition": "auto",
           "type": "bar",
           "x": [
            "Sociologie"
           ],
           "xaxis": "x",
           "y": [
            6.091370558375635
           ],
           "yaxis": "y"
          },
          {
           "alignmentgroup": "True",
           "hovertemplate": "discipline=%{x}<br>annee_publication=2004<br>Proportion des articles mentionnant le genre=%{y}<extra></extra>",
           "legendgroup": "Économie",
           "marker": {
            "color": "#636efa",
            "pattern": {
             "shape": ""
            }
           },
           "name": "Économie",
           "offsetgroup": "Économie",
           "orientation": "v",
           "showlegend": true,
           "textposition": "auto",
           "type": "bar",
           "x": [
            "Économie"
           ],
           "xaxis": "x",
           "y": [
            4.0650406504065035
           ],
           "yaxis": "y"
          }
         ],
         "name": "2004"
        },
        {
         "data": [
          {
           "alignmentgroup": "True",
           "hovertemplate": "discipline=%{x}<br>annee_publication=2005<br>Proportion des articles mentionnant le genre=%{y}<extra></extra>",
           "legendgroup": "Anthropologie",
           "marker": {
            "color": "#636efa",
            "pattern": {
             "shape": ""
            }
           },
           "name": "Anthropologie",
           "offsetgroup": "Anthropologie",
           "orientation": "v",
           "showlegend": true,
           "textposition": "auto",
           "type": "bar",
           "x": [
            "Anthropologie"
           ],
           "xaxis": "x",
           "y": [
            17.24137931034483
           ],
           "yaxis": "y"
          },
          {
           "alignmentgroup": "True",
           "hovertemplate": "discipline=%{x}<br>annee_publication=2005<br>Proportion des articles mentionnant le genre=%{y}<extra></extra>",
           "legendgroup": "Aréale",
           "marker": {
            "color": "#EF553B",
            "pattern": {
             "shape": ""
            }
           },
           "name": "Aréale",
           "offsetgroup": "Aréale",
           "orientation": "v",
           "showlegend": true,
           "textposition": "auto",
           "type": "bar",
           "x": [
            "Aréale"
           ],
           "xaxis": "x",
           "y": [
            2.2988505747126435
           ],
           "yaxis": "y"
          },
          {
           "alignmentgroup": "True",
           "hovertemplate": "discipline=%{x}<br>annee_publication=2005<br>Proportion des articles mentionnant le genre=%{y}<extra></extra>",
           "legendgroup": "Autre interdisciplinaire",
           "marker": {
            "color": "#00cc96",
            "pattern": {
             "shape": ""
            }
           },
           "name": "Autre interdisciplinaire",
           "offsetgroup": "Autre interdisciplinaire",
           "orientation": "v",
           "showlegend": true,
           "textposition": "auto",
           "type": "bar",
           "x": [
            "Autre interdisciplinaire"
           ],
           "xaxis": "x",
           "y": [
            9.382716049382717
           ],
           "yaxis": "y"
          },
          {
           "alignmentgroup": "True",
           "hovertemplate": "discipline=%{x}<br>annee_publication=2005<br>Proportion des articles mentionnant le genre=%{y}<extra></extra>",
           "legendgroup": "Démographie",
           "marker": {
            "color": "#ab63fa",
            "pattern": {
             "shape": ""
            }
           },
           "name": "Démographie",
           "offsetgroup": "Démographie",
           "orientation": "v",
           "showlegend": true,
           "textposition": "auto",
           "type": "bar",
           "x": [
            "Démographie"
           ],
           "xaxis": "x",
           "y": [
            29.411764705882355
           ],
           "yaxis": "y"
          },
          {
           "alignmentgroup": "True",
           "hovertemplate": "discipline=%{x}<br>annee_publication=2005<br>Proportion des articles mentionnant le genre=%{y}<extra></extra>",
           "legendgroup": "Genre",
           "marker": {
            "color": "#FFA15A",
            "pattern": {
             "shape": ""
            }
           },
           "name": "Genre",
           "offsetgroup": "Genre",
           "orientation": "v",
           "showlegend": true,
           "textposition": "auto",
           "type": "bar",
           "x": [
            "Genre"
           ],
           "xaxis": "x",
           "y": [
            89.70588235294117
           ],
           "yaxis": "y"
          },
          {
           "alignmentgroup": "True",
           "hovertemplate": "discipline=%{x}<br>annee_publication=2005<br>Proportion des articles mentionnant le genre=%{y}<extra></extra>",
           "legendgroup": "Géographie",
           "marker": {
            "color": "#19d3f3",
            "pattern": {
             "shape": ""
            }
           },
           "name": "Géographie",
           "offsetgroup": "Géographie",
           "orientation": "v",
           "showlegend": true,
           "textposition": "auto",
           "type": "bar",
           "x": [
            "Géographie"
           ],
           "xaxis": "x",
           "y": [
            1.4084507042253522
           ],
           "yaxis": "y"
          },
          {
           "alignmentgroup": "True",
           "hovertemplate": "discipline=%{x}<br>annee_publication=2005<br>Proportion des articles mentionnant le genre=%{y}<extra></extra>",
           "legendgroup": "Histoire",
           "marker": {
            "color": "#FF6692",
            "pattern": {
             "shape": ""
            }
           },
           "name": "Histoire",
           "offsetgroup": "Histoire",
           "orientation": "v",
           "showlegend": true,
           "textposition": "auto",
           "type": "bar",
           "x": [
            "Histoire"
           ],
           "xaxis": "x",
           "y": [
            4.232804232804233
           ],
           "yaxis": "y"
          },
          {
           "alignmentgroup": "True",
           "hovertemplate": "discipline=%{x}<br>annee_publication=2005<br>Proportion des articles mentionnant le genre=%{y}<extra></extra>",
           "legendgroup": "SIC",
           "marker": {
            "color": "#B6E880",
            "pattern": {
             "shape": ""
            }
           },
           "name": "SIC",
           "offsetgroup": "SIC",
           "orientation": "v",
           "showlegend": true,
           "textposition": "auto",
           "type": "bar",
           "x": [
            "SIC"
           ],
           "xaxis": "x",
           "y": [
            5.46875
           ],
           "yaxis": "y"
          },
          {
           "alignmentgroup": "True",
           "hovertemplate": "discipline=%{x}<br>annee_publication=2005<br>Proportion des articles mentionnant le genre=%{y}<extra></extra>",
           "legendgroup": "Science politique",
           "marker": {
            "color": "#FF97FF",
            "pattern": {
             "shape": ""
            }
           },
           "name": "Science politique",
           "offsetgroup": "Science politique",
           "orientation": "v",
           "showlegend": true,
           "textposition": "auto",
           "type": "bar",
           "x": [
            "Science politique"
           ],
           "xaxis": "x",
           "y": [
            2.5316455696202533
           ],
           "yaxis": "y"
          },
          {
           "alignmentgroup": "True",
           "hovertemplate": "discipline=%{x}<br>annee_publication=2005<br>Proportion des articles mentionnant le genre=%{y}<extra></extra>",
           "legendgroup": "Sociologie",
           "marker": {
            "color": "#FECB52",
            "pattern": {
             "shape": ""
            }
           },
           "name": "Sociologie",
           "offsetgroup": "Sociologie",
           "orientation": "v",
           "showlegend": true,
           "textposition": "auto",
           "type": "bar",
           "x": [
            "Sociologie"
           ],
           "xaxis": "x",
           "y": [
            3.153153153153153
           ],
           "yaxis": "y"
          },
          {
           "alignmentgroup": "True",
           "hovertemplate": "discipline=%{x}<br>annee_publication=2005<br>Proportion des articles mentionnant le genre=%{y}<extra></extra>",
           "legendgroup": "Économie",
           "marker": {
            "color": "#636efa",
            "pattern": {
             "shape": ""
            }
           },
           "name": "Économie",
           "offsetgroup": "Économie",
           "orientation": "v",
           "showlegend": true,
           "textposition": "auto",
           "type": "bar",
           "x": [
            "Économie"
           ],
           "xaxis": "x",
           "y": [
            1.0600706713780919
           ],
           "yaxis": "y"
          }
         ],
         "name": "2005"
        },
        {
         "data": [
          {
           "alignmentgroup": "True",
           "hovertemplate": "discipline=%{x}<br>annee_publication=2006<br>Proportion des articles mentionnant le genre=%{y}<extra></extra>",
           "legendgroup": "Anthropologie",
           "marker": {
            "color": "#636efa",
            "pattern": {
             "shape": ""
            }
           },
           "name": "Anthropologie",
           "offsetgroup": "Anthropologie",
           "orientation": "v",
           "showlegend": true,
           "textposition": "auto",
           "type": "bar",
           "x": [
            "Anthropologie"
           ],
           "xaxis": "x",
           "y": [
            8.60215053763441
           ],
           "yaxis": "y"
          },
          {
           "alignmentgroup": "True",
           "hovertemplate": "discipline=%{x}<br>annee_publication=2006<br>Proportion des articles mentionnant le genre=%{y}<extra></extra>",
           "legendgroup": "Aréale",
           "marker": {
            "color": "#EF553B",
            "pattern": {
             "shape": ""
            }
           },
           "name": "Aréale",
           "offsetgroup": "Aréale",
           "orientation": "v",
           "showlegend": true,
           "textposition": "auto",
           "type": "bar",
           "x": [
            "Aréale"
           ],
           "xaxis": "x",
           "y": [
            1.342281879194631
           ],
           "yaxis": "y"
          },
          {
           "alignmentgroup": "True",
           "hovertemplate": "discipline=%{x}<br>annee_publication=2006<br>Proportion des articles mentionnant le genre=%{y}<extra></extra>",
           "legendgroup": "Autre interdisciplinaire",
           "marker": {
            "color": "#00cc96",
            "pattern": {
             "shape": ""
            }
           },
           "name": "Autre interdisciplinaire",
           "offsetgroup": "Autre interdisciplinaire",
           "orientation": "v",
           "showlegend": true,
           "textposition": "auto",
           "type": "bar",
           "x": [
            "Autre interdisciplinaire"
           ],
           "xaxis": "x",
           "y": [
            5.942622950819672
           ],
           "yaxis": "y"
          },
          {
           "alignmentgroup": "True",
           "hovertemplate": "discipline=%{x}<br>annee_publication=2006<br>Proportion des articles mentionnant le genre=%{y}<extra></extra>",
           "legendgroup": "Démographie",
           "marker": {
            "color": "#ab63fa",
            "pattern": {
             "shape": ""
            }
           },
           "name": "Démographie",
           "offsetgroup": "Démographie",
           "orientation": "v",
           "showlegend": true,
           "textposition": "auto",
           "type": "bar",
           "x": [
            "Démographie"
           ],
           "xaxis": "x",
           "y": [
            23.809523809523807
           ],
           "yaxis": "y"
          },
          {
           "alignmentgroup": "True",
           "hovertemplate": "discipline=%{x}<br>annee_publication=2006<br>Proportion des articles mentionnant le genre=%{y}<extra></extra>",
           "legendgroup": "Genre",
           "marker": {
            "color": "#FFA15A",
            "pattern": {
             "shape": ""
            }
           },
           "name": "Genre",
           "offsetgroup": "Genre",
           "orientation": "v",
           "showlegend": true,
           "textposition": "auto",
           "type": "bar",
           "x": [
            "Genre"
           ],
           "xaxis": "x",
           "y": [
            93.82716049382715
           ],
           "yaxis": "y"
          },
          {
           "alignmentgroup": "True",
           "hovertemplate": "discipline=%{x}<br>annee_publication=2006<br>Proportion des articles mentionnant le genre=%{y}<extra></extra>",
           "legendgroup": "Géographie",
           "marker": {
            "color": "#19d3f3",
            "pattern": {
             "shape": ""
            }
           },
           "name": "Géographie",
           "offsetgroup": "Géographie",
           "orientation": "v",
           "showlegend": true,
           "textposition": "auto",
           "type": "bar",
           "x": [
            "Géographie"
           ],
           "xaxis": "x",
           "y": [
            0
           ],
           "yaxis": "y"
          },
          {
           "alignmentgroup": "True",
           "hovertemplate": "discipline=%{x}<br>annee_publication=2006<br>Proportion des articles mentionnant le genre=%{y}<extra></extra>",
           "legendgroup": "Histoire",
           "marker": {
            "color": "#FF6692",
            "pattern": {
             "shape": ""
            }
           },
           "name": "Histoire",
           "offsetgroup": "Histoire",
           "orientation": "v",
           "showlegend": true,
           "textposition": "auto",
           "type": "bar",
           "x": [
            "Histoire"
           ],
           "xaxis": "x",
           "y": [
            10.695187165775401
           ],
           "yaxis": "y"
          },
          {
           "alignmentgroup": "True",
           "hovertemplate": "discipline=%{x}<br>annee_publication=2006<br>Proportion des articles mentionnant le genre=%{y}<extra></extra>",
           "legendgroup": "SIC",
           "marker": {
            "color": "#B6E880",
            "pattern": {
             "shape": ""
            }
           },
           "name": "SIC",
           "offsetgroup": "SIC",
           "orientation": "v",
           "showlegend": true,
           "textposition": "auto",
           "type": "bar",
           "x": [
            "SIC"
           ],
           "xaxis": "x",
           "y": [
            1.3888888888888888
           ],
           "yaxis": "y"
          },
          {
           "alignmentgroup": "True",
           "hovertemplate": "discipline=%{x}<br>annee_publication=2006<br>Proportion des articles mentionnant le genre=%{y}<extra></extra>",
           "legendgroup": "Science politique",
           "marker": {
            "color": "#FF97FF",
            "pattern": {
             "shape": ""
            }
           },
           "name": "Science politique",
           "offsetgroup": "Science politique",
           "orientation": "v",
           "showlegend": true,
           "textposition": "auto",
           "type": "bar",
           "x": [
            "Science politique"
           ],
           "xaxis": "x",
           "y": [
            7.6923076923076925
           ],
           "yaxis": "y"
          },
          {
           "alignmentgroup": "True",
           "hovertemplate": "discipline=%{x}<br>annee_publication=2006<br>Proportion des articles mentionnant le genre=%{y}<extra></extra>",
           "legendgroup": "Sociologie",
           "marker": {
            "color": "#FECB52",
            "pattern": {
             "shape": ""
            }
           },
           "name": "Sociologie",
           "offsetgroup": "Sociologie",
           "orientation": "v",
           "showlegend": true,
           "textposition": "auto",
           "type": "bar",
           "x": [
            "Sociologie"
           ],
           "xaxis": "x",
           "y": [
            5.445544554455446
           ],
           "yaxis": "y"
          },
          {
           "alignmentgroup": "True",
           "hovertemplate": "discipline=%{x}<br>annee_publication=2006<br>Proportion des articles mentionnant le genre=%{y}<extra></extra>",
           "legendgroup": "Économie",
           "marker": {
            "color": "#636efa",
            "pattern": {
             "shape": ""
            }
           },
           "name": "Économie",
           "offsetgroup": "Économie",
           "orientation": "v",
           "showlegend": true,
           "textposition": "auto",
           "type": "bar",
           "x": [
            "Économie"
           ],
           "xaxis": "x",
           "y": [
            0.591715976331361
           ],
           "yaxis": "y"
          }
         ],
         "name": "2006"
        },
        {
         "data": [
          {
           "alignmentgroup": "True",
           "hovertemplate": "discipline=%{x}<br>annee_publication=2007<br>Proportion des articles mentionnant le genre=%{y}<extra></extra>",
           "legendgroup": "Anthropologie",
           "marker": {
            "color": "#636efa",
            "pattern": {
             "shape": ""
            }
           },
           "name": "Anthropologie",
           "offsetgroup": "Anthropologie",
           "orientation": "v",
           "showlegend": true,
           "textposition": "auto",
           "type": "bar",
           "x": [
            "Anthropologie"
           ],
           "xaxis": "x",
           "y": [
            4.62962962962963
           ],
           "yaxis": "y"
          },
          {
           "alignmentgroup": "True",
           "hovertemplate": "discipline=%{x}<br>annee_publication=2007<br>Proportion des articles mentionnant le genre=%{y}<extra></extra>",
           "legendgroup": "Aréale",
           "marker": {
            "color": "#EF553B",
            "pattern": {
             "shape": ""
            }
           },
           "name": "Aréale",
           "offsetgroup": "Aréale",
           "orientation": "v",
           "showlegend": true,
           "textposition": "auto",
           "type": "bar",
           "x": [
            "Aréale"
           ],
           "xaxis": "x",
           "y": [
            4.411764705882353
           ],
           "yaxis": "y"
          },
          {
           "alignmentgroup": "True",
           "hovertemplate": "discipline=%{x}<br>annee_publication=2007<br>Proportion des articles mentionnant le genre=%{y}<extra></extra>",
           "legendgroup": "Autre interdisciplinaire",
           "marker": {
            "color": "#00cc96",
            "pattern": {
             "shape": ""
            }
           },
           "name": "Autre interdisciplinaire",
           "offsetgroup": "Autre interdisciplinaire",
           "orientation": "v",
           "showlegend": true,
           "textposition": "auto",
           "type": "bar",
           "x": [
            "Autre interdisciplinaire"
           ],
           "xaxis": "x",
           "y": [
            6.551059730250482
           ],
           "yaxis": "y"
          },
          {
           "alignmentgroup": "True",
           "hovertemplate": "discipline=%{x}<br>annee_publication=2007<br>Proportion des articles mentionnant le genre=%{y}<extra></extra>",
           "legendgroup": "Démographie",
           "marker": {
            "color": "#ab63fa",
            "pattern": {
             "shape": ""
            }
           },
           "name": "Démographie",
           "offsetgroup": "Démographie",
           "orientation": "v",
           "showlegend": true,
           "textposition": "auto",
           "type": "bar",
           "x": [
            "Démographie"
           ],
           "xaxis": "x",
           "y": [
            30.555555555555557
           ],
           "yaxis": "y"
          },
          {
           "alignmentgroup": "True",
           "hovertemplate": "discipline=%{x}<br>annee_publication=2007<br>Proportion des articles mentionnant le genre=%{y}<extra></extra>",
           "legendgroup": "Genre",
           "marker": {
            "color": "#FFA15A",
            "pattern": {
             "shape": ""
            }
           },
           "name": "Genre",
           "offsetgroup": "Genre",
           "orientation": "v",
           "showlegend": true,
           "textposition": "auto",
           "type": "bar",
           "x": [
            "Genre"
           ],
           "xaxis": "x",
           "y": [
            90.625
           ],
           "yaxis": "y"
          },
          {
           "alignmentgroup": "True",
           "hovertemplate": "discipline=%{x}<br>annee_publication=2007<br>Proportion des articles mentionnant le genre=%{y}<extra></extra>",
           "legendgroup": "Géographie",
           "marker": {
            "color": "#19d3f3",
            "pattern": {
             "shape": ""
            }
           },
           "name": "Géographie",
           "offsetgroup": "Géographie",
           "orientation": "v",
           "showlegend": true,
           "textposition": "auto",
           "type": "bar",
           "x": [
            "Géographie"
           ],
           "xaxis": "x",
           "y": [
            1.5873015873015872
           ],
           "yaxis": "y"
          },
          {
           "alignmentgroup": "True",
           "hovertemplate": "discipline=%{x}<br>annee_publication=2007<br>Proportion des articles mentionnant le genre=%{y}<extra></extra>",
           "legendgroup": "Histoire",
           "marker": {
            "color": "#FF6692",
            "pattern": {
             "shape": ""
            }
           },
           "name": "Histoire",
           "offsetgroup": "Histoire",
           "orientation": "v",
           "showlegend": true,
           "textposition": "auto",
           "type": "bar",
           "x": [
            "Histoire"
           ],
           "xaxis": "x",
           "y": [
            3.79746835443038
           ],
           "yaxis": "y"
          },
          {
           "alignmentgroup": "True",
           "hovertemplate": "discipline=%{x}<br>annee_publication=2007<br>Proportion des articles mentionnant le genre=%{y}<extra></extra>",
           "legendgroup": "SIC",
           "marker": {
            "color": "#B6E880",
            "pattern": {
             "shape": ""
            }
           },
           "name": "SIC",
           "offsetgroup": "SIC",
           "orientation": "v",
           "showlegend": true,
           "textposition": "auto",
           "type": "bar",
           "x": [
            "SIC"
           ],
           "xaxis": "x",
           "y": [
            1.574803149606299
           ],
           "yaxis": "y"
          },
          {
           "alignmentgroup": "True",
           "hovertemplate": "discipline=%{x}<br>annee_publication=2007<br>Proportion des articles mentionnant le genre=%{y}<extra></extra>",
           "legendgroup": "Science politique",
           "marker": {
            "color": "#FF97FF",
            "pattern": {
             "shape": ""
            }
           },
           "name": "Science politique",
           "offsetgroup": "Science politique",
           "orientation": "v",
           "showlegend": true,
           "textposition": "auto",
           "type": "bar",
           "x": [
            "Science politique"
           ],
           "xaxis": "x",
           "y": [
            4.25531914893617
           ],
           "yaxis": "y"
          },
          {
           "alignmentgroup": "True",
           "hovertemplate": "discipline=%{x}<br>annee_publication=2007<br>Proportion des articles mentionnant le genre=%{y}<extra></extra>",
           "legendgroup": "Sociologie",
           "marker": {
            "color": "#FECB52",
            "pattern": {
             "shape": ""
            }
           },
           "name": "Sociologie",
           "offsetgroup": "Sociologie",
           "orientation": "v",
           "showlegend": true,
           "textposition": "auto",
           "type": "bar",
           "x": [
            "Sociologie"
           ],
           "xaxis": "x",
           "y": [
            15.140845070422534
           ],
           "yaxis": "y"
          },
          {
           "alignmentgroup": "True",
           "hovertemplate": "discipline=%{x}<br>annee_publication=2007<br>Proportion des articles mentionnant le genre=%{y}<extra></extra>",
           "legendgroup": "Économie",
           "marker": {
            "color": "#636efa",
            "pattern": {
             "shape": ""
            }
           },
           "name": "Économie",
           "offsetgroup": "Économie",
           "orientation": "v",
           "showlegend": true,
           "textposition": "auto",
           "type": "bar",
           "x": [
            "Économie"
           ],
           "xaxis": "x",
           "y": [
            0.8571428571428572
           ],
           "yaxis": "y"
          }
         ],
         "name": "2007"
        },
        {
         "data": [
          {
           "alignmentgroup": "True",
           "hovertemplate": "discipline=%{x}<br>annee_publication=2008<br>Proportion des articles mentionnant le genre=%{y}<extra></extra>",
           "legendgroup": "Anthropologie",
           "marker": {
            "color": "#636efa",
            "pattern": {
             "shape": ""
            }
           },
           "name": "Anthropologie",
           "offsetgroup": "Anthropologie",
           "orientation": "v",
           "showlegend": true,
           "textposition": "auto",
           "type": "bar",
           "x": [
            "Anthropologie"
           ],
           "xaxis": "x",
           "y": [
            3.7735849056603774
           ],
           "yaxis": "y"
          },
          {
           "alignmentgroup": "True",
           "hovertemplate": "discipline=%{x}<br>annee_publication=2008<br>Proportion des articles mentionnant le genre=%{y}<extra></extra>",
           "legendgroup": "Aréale",
           "marker": {
            "color": "#EF553B",
            "pattern": {
             "shape": ""
            }
           },
           "name": "Aréale",
           "offsetgroup": "Aréale",
           "orientation": "v",
           "showlegend": true,
           "textposition": "auto",
           "type": "bar",
           "x": [
            "Aréale"
           ],
           "xaxis": "x",
           "y": [
            2.73224043715847
           ],
           "yaxis": "y"
          },
          {
           "alignmentgroup": "True",
           "hovertemplate": "discipline=%{x}<br>annee_publication=2008<br>Proportion des articles mentionnant le genre=%{y}<extra></extra>",
           "legendgroup": "Autre interdisciplinaire",
           "marker": {
            "color": "#00cc96",
            "pattern": {
             "shape": ""
            }
           },
           "name": "Autre interdisciplinaire",
           "offsetgroup": "Autre interdisciplinaire",
           "orientation": "v",
           "showlegend": true,
           "textposition": "auto",
           "type": "bar",
           "x": [
            "Autre interdisciplinaire"
           ],
           "xaxis": "x",
           "y": [
            4.282655246252676
           ],
           "yaxis": "y"
          },
          {
           "alignmentgroup": "True",
           "hovertemplate": "discipline=%{x}<br>annee_publication=2008<br>Proportion des articles mentionnant le genre=%{y}<extra></extra>",
           "legendgroup": "Démographie",
           "marker": {
            "color": "#ab63fa",
            "pattern": {
             "shape": ""
            }
           },
           "name": "Démographie",
           "offsetgroup": "Démographie",
           "orientation": "v",
           "showlegend": true,
           "textposition": "auto",
           "type": "bar",
           "x": [
            "Démographie"
           ],
           "xaxis": "x",
           "y": [
            15.625
           ],
           "yaxis": "y"
          },
          {
           "alignmentgroup": "True",
           "hovertemplate": "discipline=%{x}<br>annee_publication=2008<br>Proportion des articles mentionnant le genre=%{y}<extra></extra>",
           "legendgroup": "Genre",
           "marker": {
            "color": "#FFA15A",
            "pattern": {
             "shape": ""
            }
           },
           "name": "Genre",
           "offsetgroup": "Genre",
           "orientation": "v",
           "showlegend": true,
           "textposition": "auto",
           "type": "bar",
           "x": [
            "Genre"
           ],
           "xaxis": "x",
           "y": [
            90.76923076923077
           ],
           "yaxis": "y"
          },
          {
           "alignmentgroup": "True",
           "hovertemplate": "discipline=%{x}<br>annee_publication=2008<br>Proportion des articles mentionnant le genre=%{y}<extra></extra>",
           "legendgroup": "Géographie",
           "marker": {
            "color": "#19d3f3",
            "pattern": {
             "shape": ""
            }
           },
           "name": "Géographie",
           "offsetgroup": "Géographie",
           "orientation": "v",
           "showlegend": true,
           "textposition": "auto",
           "type": "bar",
           "x": [
            "Géographie"
           ],
           "xaxis": "x",
           "y": [
            4.054054054054054
           ],
           "yaxis": "y"
          },
          {
           "alignmentgroup": "True",
           "hovertemplate": "discipline=%{x}<br>annee_publication=2008<br>Proportion des articles mentionnant le genre=%{y}<extra></extra>",
           "legendgroup": "Histoire",
           "marker": {
            "color": "#FF6692",
            "pattern": {
             "shape": ""
            }
           },
           "name": "Histoire",
           "offsetgroup": "Histoire",
           "orientation": "v",
           "showlegend": true,
           "textposition": "auto",
           "type": "bar",
           "x": [
            "Histoire"
           ],
           "xaxis": "x",
           "y": [
            3.4220532319391634
           ],
           "yaxis": "y"
          },
          {
           "alignmentgroup": "True",
           "hovertemplate": "discipline=%{x}<br>annee_publication=2008<br>Proportion des articles mentionnant le genre=%{y}<extra></extra>",
           "legendgroup": "SIC",
           "marker": {
            "color": "#B6E880",
            "pattern": {
             "shape": ""
            }
           },
           "name": "SIC",
           "offsetgroup": "SIC",
           "orientation": "v",
           "showlegend": true,
           "textposition": "auto",
           "type": "bar",
           "x": [
            "SIC"
           ],
           "xaxis": "x",
           "y": [
            2.366863905325444
           ],
           "yaxis": "y"
          },
          {
           "alignmentgroup": "True",
           "hovertemplate": "discipline=%{x}<br>annee_publication=2008<br>Proportion des articles mentionnant le genre=%{y}<extra></extra>",
           "legendgroup": "Science politique",
           "marker": {
            "color": "#FF97FF",
            "pattern": {
             "shape": ""
            }
           },
           "name": "Science politique",
           "offsetgroup": "Science politique",
           "orientation": "v",
           "showlegend": true,
           "textposition": "auto",
           "type": "bar",
           "x": [
            "Science politique"
           ],
           "xaxis": "x",
           "y": [
            1.9762845849802373
           ],
           "yaxis": "y"
          },
          {
           "alignmentgroup": "True",
           "hovertemplate": "discipline=%{x}<br>annee_publication=2008<br>Proportion des articles mentionnant le genre=%{y}<extra></extra>",
           "legendgroup": "Sociologie",
           "marker": {
            "color": "#FECB52",
            "pattern": {
             "shape": ""
            }
           },
           "name": "Sociologie",
           "offsetgroup": "Sociologie",
           "orientation": "v",
           "showlegend": true,
           "textposition": "auto",
           "type": "bar",
           "x": [
            "Sociologie"
           ],
           "xaxis": "x",
           "y": [
            6.363636363636363
           ],
           "yaxis": "y"
          },
          {
           "alignmentgroup": "True",
           "hovertemplate": "discipline=%{x}<br>annee_publication=2008<br>Proportion des articles mentionnant le genre=%{y}<extra></extra>",
           "legendgroup": "Économie",
           "marker": {
            "color": "#636efa",
            "pattern": {
             "shape": ""
            }
           },
           "name": "Économie",
           "offsetgroup": "Économie",
           "orientation": "v",
           "showlegend": true,
           "textposition": "auto",
           "type": "bar",
           "x": [
            "Économie"
           ],
           "xaxis": "x",
           "y": [
            0
           ],
           "yaxis": "y"
          }
         ],
         "name": "2008"
        },
        {
         "data": [
          {
           "alignmentgroup": "True",
           "hovertemplate": "discipline=%{x}<br>annee_publication=2009<br>Proportion des articles mentionnant le genre=%{y}<extra></extra>",
           "legendgroup": "Anthropologie",
           "marker": {
            "color": "#636efa",
            "pattern": {
             "shape": ""
            }
           },
           "name": "Anthropologie",
           "offsetgroup": "Anthropologie",
           "orientation": "v",
           "showlegend": true,
           "textposition": "auto",
           "type": "bar",
           "x": [
            "Anthropologie"
           ],
           "xaxis": "x",
           "y": [
            6.593406593406594
           ],
           "yaxis": "y"
          },
          {
           "alignmentgroup": "True",
           "hovertemplate": "discipline=%{x}<br>annee_publication=2009<br>Proportion des articles mentionnant le genre=%{y}<extra></extra>",
           "legendgroup": "Aréale",
           "marker": {
            "color": "#EF553B",
            "pattern": {
             "shape": ""
            }
           },
           "name": "Aréale",
           "offsetgroup": "Aréale",
           "orientation": "v",
           "showlegend": true,
           "textposition": "auto",
           "type": "bar",
           "x": [
            "Aréale"
           ],
           "xaxis": "x",
           "y": [
            5.042016806722689
           ],
           "yaxis": "y"
          },
          {
           "alignmentgroup": "True",
           "hovertemplate": "discipline=%{x}<br>annee_publication=2009<br>Proportion des articles mentionnant le genre=%{y}<extra></extra>",
           "legendgroup": "Autre interdisciplinaire",
           "marker": {
            "color": "#00cc96",
            "pattern": {
             "shape": ""
            }
           },
           "name": "Autre interdisciplinaire",
           "offsetgroup": "Autre interdisciplinaire",
           "orientation": "v",
           "showlegend": true,
           "textposition": "auto",
           "type": "bar",
           "x": [
            "Autre interdisciplinaire"
           ],
           "xaxis": "x",
           "y": [
            11.923076923076923
           ],
           "yaxis": "y"
          },
          {
           "alignmentgroup": "True",
           "hovertemplate": "discipline=%{x}<br>annee_publication=2009<br>Proportion des articles mentionnant le genre=%{y}<extra></extra>",
           "legendgroup": "Démographie",
           "marker": {
            "color": "#ab63fa",
            "pattern": {
             "shape": ""
            }
           },
           "name": "Démographie",
           "offsetgroup": "Démographie",
           "orientation": "v",
           "showlegend": true,
           "textposition": "auto",
           "type": "bar",
           "x": [
            "Démographie"
           ],
           "xaxis": "x",
           "y": [
            11.538461538461538
           ],
           "yaxis": "y"
          },
          {
           "alignmentgroup": "True",
           "hovertemplate": "discipline=%{x}<br>annee_publication=2009<br>Proportion des articles mentionnant le genre=%{y}<extra></extra>",
           "legendgroup": "Genre",
           "marker": {
            "color": "#FFA15A",
            "pattern": {
             "shape": ""
            }
           },
           "name": "Genre",
           "offsetgroup": "Genre",
           "orientation": "v",
           "showlegend": true,
           "textposition": "auto",
           "type": "bar",
           "x": [
            "Genre"
           ],
           "xaxis": "x",
           "y": [
            82.95454545454545
           ],
           "yaxis": "y"
          },
          {
           "alignmentgroup": "True",
           "hovertemplate": "discipline=%{x}<br>annee_publication=2009<br>Proportion des articles mentionnant le genre=%{y}<extra></extra>",
           "legendgroup": "Géographie",
           "marker": {
            "color": "#19d3f3",
            "pattern": {
             "shape": ""
            }
           },
           "name": "Géographie",
           "offsetgroup": "Géographie",
           "orientation": "v",
           "showlegend": true,
           "textposition": "auto",
           "type": "bar",
           "x": [
            "Géographie"
           ],
           "xaxis": "x",
           "y": [
            2.9850746268656714
           ],
           "yaxis": "y"
          },
          {
           "alignmentgroup": "True",
           "hovertemplate": "discipline=%{x}<br>annee_publication=2009<br>Proportion des articles mentionnant le genre=%{y}<extra></extra>",
           "legendgroup": "Histoire",
           "marker": {
            "color": "#FF6692",
            "pattern": {
             "shape": ""
            }
           },
           "name": "Histoire",
           "offsetgroup": "Histoire",
           "orientation": "v",
           "showlegend": true,
           "textposition": "auto",
           "type": "bar",
           "x": [
            "Histoire"
           ],
           "xaxis": "x",
           "y": [
            5.415162454873646
           ],
           "yaxis": "y"
          },
          {
           "alignmentgroup": "True",
           "hovertemplate": "discipline=%{x}<br>annee_publication=2009<br>Proportion des articles mentionnant le genre=%{y}<extra></extra>",
           "legendgroup": "SIC",
           "marker": {
            "color": "#B6E880",
            "pattern": {
             "shape": ""
            }
           },
           "name": "SIC",
           "offsetgroup": "SIC",
           "orientation": "v",
           "showlegend": true,
           "textposition": "auto",
           "type": "bar",
           "x": [
            "SIC"
           ],
           "xaxis": "x",
           "y": [
            7.142857142857142
           ],
           "yaxis": "y"
          },
          {
           "alignmentgroup": "True",
           "hovertemplate": "discipline=%{x}<br>annee_publication=2009<br>Proportion des articles mentionnant le genre=%{y}<extra></extra>",
           "legendgroup": "Science politique",
           "marker": {
            "color": "#FF97FF",
            "pattern": {
             "shape": ""
            }
           },
           "name": "Science politique",
           "offsetgroup": "Science politique",
           "orientation": "v",
           "showlegend": true,
           "textposition": "auto",
           "type": "bar",
           "x": [
            "Science politique"
           ],
           "xaxis": "x",
           "y": [
            5.128205128205128
           ],
           "yaxis": "y"
          },
          {
           "alignmentgroup": "True",
           "hovertemplate": "discipline=%{x}<br>annee_publication=2009<br>Proportion des articles mentionnant le genre=%{y}<extra></extra>",
           "legendgroup": "Sociologie",
           "marker": {
            "color": "#FECB52",
            "pattern": {
             "shape": ""
            }
           },
           "name": "Sociologie",
           "offsetgroup": "Sociologie",
           "orientation": "v",
           "showlegend": true,
           "textposition": "auto",
           "type": "bar",
           "x": [
            "Sociologie"
           ],
           "xaxis": "x",
           "y": [
            5.5045871559633035
           ],
           "yaxis": "y"
          },
          {
           "alignmentgroup": "True",
           "hovertemplate": "discipline=%{x}<br>annee_publication=2009<br>Proportion des articles mentionnant le genre=%{y}<extra></extra>",
           "legendgroup": "Économie",
           "marker": {
            "color": "#636efa",
            "pattern": {
             "shape": ""
            }
           },
           "name": "Économie",
           "offsetgroup": "Économie",
           "orientation": "v",
           "showlegend": true,
           "textposition": "auto",
           "type": "bar",
           "x": [
            "Économie"
           ],
           "xaxis": "x",
           "y": [
            0.6644518272425249
           ],
           "yaxis": "y"
          }
         ],
         "name": "2009"
        },
        {
         "data": [
          {
           "alignmentgroup": "True",
           "hovertemplate": "discipline=%{x}<br>annee_publication=2010<br>Proportion des articles mentionnant le genre=%{y}<extra></extra>",
           "legendgroup": "Anthropologie",
           "marker": {
            "color": "#636efa",
            "pattern": {
             "shape": ""
            }
           },
           "name": "Anthropologie",
           "offsetgroup": "Anthropologie",
           "orientation": "v",
           "showlegend": true,
           "textposition": "auto",
           "type": "bar",
           "x": [
            "Anthropologie"
           ],
           "xaxis": "x",
           "y": [
            15.74074074074074
           ],
           "yaxis": "y"
          },
          {
           "alignmentgroup": "True",
           "hovertemplate": "discipline=%{x}<br>annee_publication=2010<br>Proportion des articles mentionnant le genre=%{y}<extra></extra>",
           "legendgroup": "Aréale",
           "marker": {
            "color": "#EF553B",
            "pattern": {
             "shape": ""
            }
           },
           "name": "Aréale",
           "offsetgroup": "Aréale",
           "orientation": "v",
           "showlegend": true,
           "textposition": "auto",
           "type": "bar",
           "x": [
            "Aréale"
           ],
           "xaxis": "x",
           "y": [
            4.385964912280701
           ],
           "yaxis": "y"
          },
          {
           "alignmentgroup": "True",
           "hovertemplate": "discipline=%{x}<br>annee_publication=2010<br>Proportion des articles mentionnant le genre=%{y}<extra></extra>",
           "legendgroup": "Autre interdisciplinaire",
           "marker": {
            "color": "#00cc96",
            "pattern": {
             "shape": ""
            }
           },
           "name": "Autre interdisciplinaire",
           "offsetgroup": "Autre interdisciplinaire",
           "orientation": "v",
           "showlegend": true,
           "textposition": "auto",
           "type": "bar",
           "x": [
            "Autre interdisciplinaire"
           ],
           "xaxis": "x",
           "y": [
            5.851063829787234
           ],
           "yaxis": "y"
          },
          {
           "alignmentgroup": "True",
           "hovertemplate": "discipline=%{x}<br>annee_publication=2010<br>Proportion des articles mentionnant le genre=%{y}<extra></extra>",
           "legendgroup": "Démographie",
           "marker": {
            "color": "#ab63fa",
            "pattern": {
             "shape": ""
            }
           },
           "name": "Démographie",
           "offsetgroup": "Démographie",
           "orientation": "v",
           "showlegend": true,
           "textposition": "auto",
           "type": "bar",
           "x": [
            "Démographie"
           ],
           "xaxis": "x",
           "y": [
            26
           ],
           "yaxis": "y"
          },
          {
           "alignmentgroup": "True",
           "hovertemplate": "discipline=%{x}<br>annee_publication=2010<br>Proportion des articles mentionnant le genre=%{y}<extra></extra>",
           "legendgroup": "Genre",
           "marker": {
            "color": "#FFA15A",
            "pattern": {
             "shape": ""
            }
           },
           "name": "Genre",
           "offsetgroup": "Genre",
           "orientation": "v",
           "showlegend": true,
           "textposition": "auto",
           "type": "bar",
           "x": [
            "Genre"
           ],
           "xaxis": "x",
           "y": [
            95.18072289156626
           ],
           "yaxis": "y"
          },
          {
           "alignmentgroup": "True",
           "hovertemplate": "discipline=%{x}<br>annee_publication=2010<br>Proportion des articles mentionnant le genre=%{y}<extra></extra>",
           "legendgroup": "Géographie",
           "marker": {
            "color": "#19d3f3",
            "pattern": {
             "shape": ""
            }
           },
           "name": "Géographie",
           "offsetgroup": "Géographie",
           "orientation": "v",
           "showlegend": true,
           "textposition": "auto",
           "type": "bar",
           "x": [
            "Géographie"
           ],
           "xaxis": "x",
           "y": [
            1.4084507042253522
           ],
           "yaxis": "y"
          },
          {
           "alignmentgroup": "True",
           "hovertemplate": "discipline=%{x}<br>annee_publication=2010<br>Proportion des articles mentionnant le genre=%{y}<extra></extra>",
           "legendgroup": "Histoire",
           "marker": {
            "color": "#FF6692",
            "pattern": {
             "shape": ""
            }
           },
           "name": "Histoire",
           "offsetgroup": "Histoire",
           "orientation": "v",
           "showlegend": true,
           "textposition": "auto",
           "type": "bar",
           "x": [
            "Histoire"
           ],
           "xaxis": "x",
           "y": [
            1.4388489208633095
           ],
           "yaxis": "y"
          },
          {
           "alignmentgroup": "True",
           "hovertemplate": "discipline=%{x}<br>annee_publication=2010<br>Proportion des articles mentionnant le genre=%{y}<extra></extra>",
           "legendgroup": "SIC",
           "marker": {
            "color": "#B6E880",
            "pattern": {
             "shape": ""
            }
           },
           "name": "SIC",
           "offsetgroup": "SIC",
           "orientation": "v",
           "showlegend": true,
           "textposition": "auto",
           "type": "bar",
           "x": [
            "SIC"
           ],
           "xaxis": "x",
           "y": [
            2.7624309392265194
           ],
           "yaxis": "y"
          },
          {
           "alignmentgroup": "True",
           "hovertemplate": "discipline=%{x}<br>annee_publication=2010<br>Proportion des articles mentionnant le genre=%{y}<extra></extra>",
           "legendgroup": "Science politique",
           "marker": {
            "color": "#FF97FF",
            "pattern": {
             "shape": ""
            }
           },
           "name": "Science politique",
           "offsetgroup": "Science politique",
           "orientation": "v",
           "showlegend": true,
           "textposition": "auto",
           "type": "bar",
           "x": [
            "Science politique"
           ],
           "xaxis": "x",
           "y": [
            1.1111111111111112
           ],
           "yaxis": "y"
          },
          {
           "alignmentgroup": "True",
           "hovertemplate": "discipline=%{x}<br>annee_publication=2010<br>Proportion des articles mentionnant le genre=%{y}<extra></extra>",
           "legendgroup": "Sociologie",
           "marker": {
            "color": "#FECB52",
            "pattern": {
             "shape": ""
            }
           },
           "name": "Sociologie",
           "offsetgroup": "Sociologie",
           "orientation": "v",
           "showlegend": true,
           "textposition": "auto",
           "type": "bar",
           "x": [
            "Sociologie"
           ],
           "xaxis": "x",
           "y": [
            5.571847507331378
           ],
           "yaxis": "y"
          },
          {
           "alignmentgroup": "True",
           "hovertemplate": "discipline=%{x}<br>annee_publication=2010<br>Proportion des articles mentionnant le genre=%{y}<extra></extra>",
           "legendgroup": "Économie",
           "marker": {
            "color": "#636efa",
            "pattern": {
             "shape": ""
            }
           },
           "name": "Économie",
           "offsetgroup": "Économie",
           "orientation": "v",
           "showlegend": true,
           "textposition": "auto",
           "type": "bar",
           "x": [
            "Économie"
           ],
           "xaxis": "x",
           "y": [
            1.694915254237288
           ],
           "yaxis": "y"
          }
         ],
         "name": "2010"
        },
        {
         "data": [
          {
           "alignmentgroup": "True",
           "hovertemplate": "discipline=%{x}<br>annee_publication=2011<br>Proportion des articles mentionnant le genre=%{y}<extra></extra>",
           "legendgroup": "Anthropologie",
           "marker": {
            "color": "#636efa",
            "pattern": {
             "shape": ""
            }
           },
           "name": "Anthropologie",
           "offsetgroup": "Anthropologie",
           "orientation": "v",
           "showlegend": true,
           "textposition": "auto",
           "type": "bar",
           "x": [
            "Anthropologie"
           ],
           "xaxis": "x",
           "y": [
            26.356589147286826
           ],
           "yaxis": "y"
          },
          {
           "alignmentgroup": "True",
           "hovertemplate": "discipline=%{x}<br>annee_publication=2011<br>Proportion des articles mentionnant le genre=%{y}<extra></extra>",
           "legendgroup": "Aréale",
           "marker": {
            "color": "#EF553B",
            "pattern": {
             "shape": ""
            }
           },
           "name": "Aréale",
           "offsetgroup": "Aréale",
           "orientation": "v",
           "showlegend": true,
           "textposition": "auto",
           "type": "bar",
           "x": [
            "Aréale"
           ],
           "xaxis": "x",
           "y": [
            1.3513513513513513
           ],
           "yaxis": "y"
          },
          {
           "alignmentgroup": "True",
           "hovertemplate": "discipline=%{x}<br>annee_publication=2011<br>Proportion des articles mentionnant le genre=%{y}<extra></extra>",
           "legendgroup": "Autre interdisciplinaire",
           "marker": {
            "color": "#00cc96",
            "pattern": {
             "shape": ""
            }
           },
           "name": "Autre interdisciplinaire",
           "offsetgroup": "Autre interdisciplinaire",
           "orientation": "v",
           "showlegend": true,
           "textposition": "auto",
           "type": "bar",
           "x": [
            "Autre interdisciplinaire"
           ],
           "xaxis": "x",
           "y": [
            3.5580524344569286
           ],
           "yaxis": "y"
          },
          {
           "alignmentgroup": "True",
           "hovertemplate": "discipline=%{x}<br>annee_publication=2011<br>Proportion des articles mentionnant le genre=%{y}<extra></extra>",
           "legendgroup": "Démographie",
           "marker": {
            "color": "#ab63fa",
            "pattern": {
             "shape": ""
            }
           },
           "name": "Démographie",
           "offsetgroup": "Démographie",
           "orientation": "v",
           "showlegend": true,
           "textposition": "auto",
           "type": "bar",
           "x": [
            "Démographie"
           ],
           "xaxis": "x",
           "y": [
            29.411764705882355
           ],
           "yaxis": "y"
          },
          {
           "alignmentgroup": "True",
           "hovertemplate": "discipline=%{x}<br>annee_publication=2011<br>Proportion des articles mentionnant le genre=%{y}<extra></extra>",
           "legendgroup": "Genre",
           "marker": {
            "color": "#FFA15A",
            "pattern": {
             "shape": ""
            }
           },
           "name": "Genre",
           "offsetgroup": "Genre",
           "orientation": "v",
           "showlegend": true,
           "textposition": "auto",
           "type": "bar",
           "x": [
            "Genre"
           ],
           "xaxis": "x",
           "y": [
            87.2340425531915
           ],
           "yaxis": "y"
          },
          {
           "alignmentgroup": "True",
           "hovertemplate": "discipline=%{x}<br>annee_publication=2011<br>Proportion des articles mentionnant le genre=%{y}<extra></extra>",
           "legendgroup": "Géographie",
           "marker": {
            "color": "#19d3f3",
            "pattern": {
             "shape": ""
            }
           },
           "name": "Géographie",
           "offsetgroup": "Géographie",
           "orientation": "v",
           "showlegend": true,
           "textposition": "auto",
           "type": "bar",
           "x": [
            "Géographie"
           ],
           "xaxis": "x",
           "y": [
            1.4492753623188406
           ],
           "yaxis": "y"
          },
          {
           "alignmentgroup": "True",
           "hovertemplate": "discipline=%{x}<br>annee_publication=2011<br>Proportion des articles mentionnant le genre=%{y}<extra></extra>",
           "legendgroup": "Histoire",
           "marker": {
            "color": "#FF6692",
            "pattern": {
             "shape": ""
            }
           },
           "name": "Histoire",
           "offsetgroup": "Histoire",
           "orientation": "v",
           "showlegend": true,
           "textposition": "auto",
           "type": "bar",
           "x": [
            "Histoire"
           ],
           "xaxis": "x",
           "y": [
            1.7482517482517483
           ],
           "yaxis": "y"
          },
          {
           "alignmentgroup": "True",
           "hovertemplate": "discipline=%{x}<br>annee_publication=2011<br>Proportion des articles mentionnant le genre=%{y}<extra></extra>",
           "legendgroup": "SIC",
           "marker": {
            "color": "#B6E880",
            "pattern": {
             "shape": ""
            }
           },
           "name": "SIC",
           "offsetgroup": "SIC",
           "orientation": "v",
           "showlegend": true,
           "textposition": "auto",
           "type": "bar",
           "x": [
            "SIC"
           ],
           "xaxis": "x",
           "y": [
            4.81283422459893
           ],
           "yaxis": "y"
          },
          {
           "alignmentgroup": "True",
           "hovertemplate": "discipline=%{x}<br>annee_publication=2011<br>Proportion des articles mentionnant le genre=%{y}<extra></extra>",
           "legendgroup": "Science politique",
           "marker": {
            "color": "#FF97FF",
            "pattern": {
             "shape": ""
            }
           },
           "name": "Science politique",
           "offsetgroup": "Science politique",
           "orientation": "v",
           "showlegend": true,
           "textposition": "auto",
           "type": "bar",
           "x": [
            "Science politique"
           ],
           "xaxis": "x",
           "y": [
            2.380952380952381
           ],
           "yaxis": "y"
          },
          {
           "alignmentgroup": "True",
           "hovertemplate": "discipline=%{x}<br>annee_publication=2011<br>Proportion des articles mentionnant le genre=%{y}<extra></extra>",
           "legendgroup": "Sociologie",
           "marker": {
            "color": "#FECB52",
            "pattern": {
             "shape": ""
            }
           },
           "name": "Sociologie",
           "offsetgroup": "Sociologie",
           "orientation": "v",
           "showlegend": true,
           "textposition": "auto",
           "type": "bar",
           "x": [
            "Sociologie"
           ],
           "xaxis": "x",
           "y": [
            6.308411214953271
           ],
           "yaxis": "y"
          },
          {
           "alignmentgroup": "True",
           "hovertemplate": "discipline=%{x}<br>annee_publication=2011<br>Proportion des articles mentionnant le genre=%{y}<extra></extra>",
           "legendgroup": "Économie",
           "marker": {
            "color": "#636efa",
            "pattern": {
             "shape": ""
            }
           },
           "name": "Économie",
           "offsetgroup": "Économie",
           "orientation": "v",
           "showlegend": true,
           "textposition": "auto",
           "type": "bar",
           "x": [
            "Économie"
           ],
           "xaxis": "x",
           "y": [
            1.0526315789473684
           ],
           "yaxis": "y"
          }
         ],
         "name": "2011"
        },
        {
         "data": [
          {
           "alignmentgroup": "True",
           "hovertemplate": "discipline=%{x}<br>annee_publication=2012<br>Proportion des articles mentionnant le genre=%{y}<extra></extra>",
           "legendgroup": "Anthropologie",
           "marker": {
            "color": "#636efa",
            "pattern": {
             "shape": ""
            }
           },
           "name": "Anthropologie",
           "offsetgroup": "Anthropologie",
           "orientation": "v",
           "showlegend": true,
           "textposition": "auto",
           "type": "bar",
           "x": [
            "Anthropologie"
           ],
           "xaxis": "x",
           "y": [
            7.4074074074074066
           ],
           "yaxis": "y"
          },
          {
           "alignmentgroup": "True",
           "hovertemplate": "discipline=%{x}<br>annee_publication=2012<br>Proportion des articles mentionnant le genre=%{y}<extra></extra>",
           "legendgroup": "Aréale",
           "marker": {
            "color": "#EF553B",
            "pattern": {
             "shape": ""
            }
           },
           "name": "Aréale",
           "offsetgroup": "Aréale",
           "orientation": "v",
           "showlegend": true,
           "textposition": "auto",
           "type": "bar",
           "x": [
            "Aréale"
           ],
           "xaxis": "x",
           "y": [
            3.6036036036036037
           ],
           "yaxis": "y"
          },
          {
           "alignmentgroup": "True",
           "hovertemplate": "discipline=%{x}<br>annee_publication=2012<br>Proportion des articles mentionnant le genre=%{y}<extra></extra>",
           "legendgroup": "Autre interdisciplinaire",
           "marker": {
            "color": "#00cc96",
            "pattern": {
             "shape": ""
            }
           },
           "name": "Autre interdisciplinaire",
           "offsetgroup": "Autre interdisciplinaire",
           "orientation": "v",
           "showlegend": true,
           "textposition": "auto",
           "type": "bar",
           "x": [
            "Autre interdisciplinaire"
           ],
           "xaxis": "x",
           "y": [
            10.564663023679417
           ],
           "yaxis": "y"
          },
          {
           "alignmentgroup": "True",
           "hovertemplate": "discipline=%{x}<br>annee_publication=2012<br>Proportion des articles mentionnant le genre=%{y}<extra></extra>",
           "legendgroup": "Démographie",
           "marker": {
            "color": "#ab63fa",
            "pattern": {
             "shape": ""
            }
           },
           "name": "Démographie",
           "offsetgroup": "Démographie",
           "orientation": "v",
           "showlegend": true,
           "textposition": "auto",
           "type": "bar",
           "x": [
            "Démographie"
           ],
           "xaxis": "x",
           "y": [
            37.83783783783784
           ],
           "yaxis": "y"
          },
          {
           "alignmentgroup": "True",
           "hovertemplate": "discipline=%{x}<br>annee_publication=2012<br>Proportion des articles mentionnant le genre=%{y}<extra></extra>",
           "legendgroup": "Genre",
           "marker": {
            "color": "#FFA15A",
            "pattern": {
             "shape": ""
            }
           },
           "name": "Genre",
           "offsetgroup": "Genre",
           "orientation": "v",
           "showlegend": true,
           "textposition": "auto",
           "type": "bar",
           "x": [
            "Genre"
           ],
           "xaxis": "x",
           "y": [
            92.5
           ],
           "yaxis": "y"
          },
          {
           "alignmentgroup": "True",
           "hovertemplate": "discipline=%{x}<br>annee_publication=2012<br>Proportion des articles mentionnant le genre=%{y}<extra></extra>",
           "legendgroup": "Géographie",
           "marker": {
            "color": "#19d3f3",
            "pattern": {
             "shape": ""
            }
           },
           "name": "Géographie",
           "offsetgroup": "Géographie",
           "orientation": "v",
           "showlegend": true,
           "textposition": "auto",
           "type": "bar",
           "x": [
            "Géographie"
           ],
           "xaxis": "x",
           "y": [
            6.153846153846154
           ],
           "yaxis": "y"
          },
          {
           "alignmentgroup": "True",
           "hovertemplate": "discipline=%{x}<br>annee_publication=2012<br>Proportion des articles mentionnant le genre=%{y}<extra></extra>",
           "legendgroup": "Histoire",
           "marker": {
            "color": "#FF6692",
            "pattern": {
             "shape": ""
            }
           },
           "name": "Histoire",
           "offsetgroup": "Histoire",
           "orientation": "v",
           "showlegend": true,
           "textposition": "auto",
           "type": "bar",
           "x": [
            "Histoire"
           ],
           "xaxis": "x",
           "y": [
            6.779661016949152
           ],
           "yaxis": "y"
          },
          {
           "alignmentgroup": "True",
           "hovertemplate": "discipline=%{x}<br>annee_publication=2012<br>Proportion des articles mentionnant le genre=%{y}<extra></extra>",
           "legendgroup": "SIC",
           "marker": {
            "color": "#B6E880",
            "pattern": {
             "shape": ""
            }
           },
           "name": "SIC",
           "offsetgroup": "SIC",
           "orientation": "v",
           "showlegend": true,
           "textposition": "auto",
           "type": "bar",
           "x": [
            "SIC"
           ],
           "xaxis": "x",
           "y": [
            1.6574585635359116
           ],
           "yaxis": "y"
          },
          {
           "alignmentgroup": "True",
           "hovertemplate": "discipline=%{x}<br>annee_publication=2012<br>Proportion des articles mentionnant le genre=%{y}<extra></extra>",
           "legendgroup": "Science politique",
           "marker": {
            "color": "#FF97FF",
            "pattern": {
             "shape": ""
            }
           },
           "name": "Science politique",
           "offsetgroup": "Science politique",
           "orientation": "v",
           "showlegend": true,
           "textposition": "auto",
           "type": "bar",
           "x": [
            "Science politique"
           ],
           "xaxis": "x",
           "y": [
            1.4285714285714286
           ],
           "yaxis": "y"
          },
          {
           "alignmentgroup": "True",
           "hovertemplate": "discipline=%{x}<br>annee_publication=2012<br>Proportion des articles mentionnant le genre=%{y}<extra></extra>",
           "legendgroup": "Sociologie",
           "marker": {
            "color": "#FECB52",
            "pattern": {
             "shape": ""
            }
           },
           "name": "Sociologie",
           "offsetgroup": "Sociologie",
           "orientation": "v",
           "showlegend": true,
           "textposition": "auto",
           "type": "bar",
           "x": [
            "Sociologie"
           ],
           "xaxis": "x",
           "y": [
            17.647058823529413
           ],
           "yaxis": "y"
          },
          {
           "alignmentgroup": "True",
           "hovertemplate": "discipline=%{x}<br>annee_publication=2012<br>Proportion des articles mentionnant le genre=%{y}<extra></extra>",
           "legendgroup": "Économie",
           "marker": {
            "color": "#636efa",
            "pattern": {
             "shape": ""
            }
           },
           "name": "Économie",
           "offsetgroup": "Économie",
           "orientation": "v",
           "showlegend": true,
           "textposition": "auto",
           "type": "bar",
           "x": [
            "Économie"
           ],
           "xaxis": "x",
           "y": [
            2.1052631578947367
           ],
           "yaxis": "y"
          }
         ],
         "name": "2012"
        },
        {
         "data": [
          {
           "alignmentgroup": "True",
           "hovertemplate": "discipline=%{x}<br>annee_publication=2013<br>Proportion des articles mentionnant le genre=%{y}<extra></extra>",
           "legendgroup": "Anthropologie",
           "marker": {
            "color": "#636efa",
            "pattern": {
             "shape": ""
            }
           },
           "name": "Anthropologie",
           "offsetgroup": "Anthropologie",
           "orientation": "v",
           "showlegend": true,
           "textposition": "auto",
           "type": "bar",
           "x": [
            "Anthropologie"
           ],
           "xaxis": "x",
           "y": [
            16.822429906542055
           ],
           "yaxis": "y"
          },
          {
           "alignmentgroup": "True",
           "hovertemplate": "discipline=%{x}<br>annee_publication=2013<br>Proportion des articles mentionnant le genre=%{y}<extra></extra>",
           "legendgroup": "Aréale",
           "marker": {
            "color": "#EF553B",
            "pattern": {
             "shape": ""
            }
           },
           "name": "Aréale",
           "offsetgroup": "Aréale",
           "orientation": "v",
           "showlegend": true,
           "textposition": "auto",
           "type": "bar",
           "x": [
            "Aréale"
           ],
           "xaxis": "x",
           "y": [
            3.278688524590164
           ],
           "yaxis": "y"
          },
          {
           "alignmentgroup": "True",
           "hovertemplate": "discipline=%{x}<br>annee_publication=2013<br>Proportion des articles mentionnant le genre=%{y}<extra></extra>",
           "legendgroup": "Autre interdisciplinaire",
           "marker": {
            "color": "#00cc96",
            "pattern": {
             "shape": ""
            }
           },
           "name": "Autre interdisciplinaire",
           "offsetgroup": "Autre interdisciplinaire",
           "orientation": "v",
           "showlegend": true,
           "textposition": "auto",
           "type": "bar",
           "x": [
            "Autre interdisciplinaire"
           ],
           "xaxis": "x",
           "y": [
            5.33596837944664
           ],
           "yaxis": "y"
          },
          {
           "alignmentgroup": "True",
           "hovertemplate": "discipline=%{x}<br>annee_publication=2013<br>Proportion des articles mentionnant le genre=%{y}<extra></extra>",
           "legendgroup": "Démographie",
           "marker": {
            "color": "#ab63fa",
            "pattern": {
             "shape": ""
            }
           },
           "name": "Démographie",
           "offsetgroup": "Démographie",
           "orientation": "v",
           "showlegend": true,
           "textposition": "auto",
           "type": "bar",
           "x": [
            "Démographie"
           ],
           "xaxis": "x",
           "y": [
            27.77777777777778
           ],
           "yaxis": "y"
          },
          {
           "alignmentgroup": "True",
           "hovertemplate": "discipline=%{x}<br>annee_publication=2013<br>Proportion des articles mentionnant le genre=%{y}<extra></extra>",
           "legendgroup": "Genre",
           "marker": {
            "color": "#FFA15A",
            "pattern": {
             "shape": ""
            }
           },
           "name": "Genre",
           "offsetgroup": "Genre",
           "orientation": "v",
           "showlegend": true,
           "textposition": "auto",
           "type": "bar",
           "x": [
            "Genre"
           ],
           "xaxis": "x",
           "y": [
            81.48148148148148
           ],
           "yaxis": "y"
          },
          {
           "alignmentgroup": "True",
           "hovertemplate": "discipline=%{x}<br>annee_publication=2013<br>Proportion des articles mentionnant le genre=%{y}<extra></extra>",
           "legendgroup": "Géographie",
           "marker": {
            "color": "#19d3f3",
            "pattern": {
             "shape": ""
            }
           },
           "name": "Géographie",
           "offsetgroup": "Géographie",
           "orientation": "v",
           "showlegend": true,
           "textposition": "auto",
           "type": "bar",
           "x": [
            "Géographie"
           ],
           "xaxis": "x",
           "y": [
            2.857142857142857
           ],
           "yaxis": "y"
          },
          {
           "alignmentgroup": "True",
           "hovertemplate": "discipline=%{x}<br>annee_publication=2013<br>Proportion des articles mentionnant le genre=%{y}<extra></extra>",
           "legendgroup": "Histoire",
           "marker": {
            "color": "#FF6692",
            "pattern": {
             "shape": ""
            }
           },
           "name": "Histoire",
           "offsetgroup": "Histoire",
           "orientation": "v",
           "showlegend": true,
           "textposition": "auto",
           "type": "bar",
           "x": [
            "Histoire"
           ],
           "xaxis": "x",
           "y": [
            5.447470817120623
           ],
           "yaxis": "y"
          },
          {
           "alignmentgroup": "True",
           "hovertemplate": "discipline=%{x}<br>annee_publication=2013<br>Proportion des articles mentionnant le genre=%{y}<extra></extra>",
           "legendgroup": "SIC",
           "marker": {
            "color": "#B6E880",
            "pattern": {
             "shape": ""
            }
           },
           "name": "SIC",
           "offsetgroup": "SIC",
           "orientation": "v",
           "showlegend": true,
           "textposition": "auto",
           "type": "bar",
           "x": [
            "SIC"
           ],
           "xaxis": "x",
           "y": [
            1.935483870967742
           ],
           "yaxis": "y"
          },
          {
           "alignmentgroup": "True",
           "hovertemplate": "discipline=%{x}<br>annee_publication=2013<br>Proportion des articles mentionnant le genre=%{y}<extra></extra>",
           "legendgroup": "Science politique",
           "marker": {
            "color": "#FF97FF",
            "pattern": {
             "shape": ""
            }
           },
           "name": "Science politique",
           "offsetgroup": "Science politique",
           "orientation": "v",
           "showlegend": true,
           "textposition": "auto",
           "type": "bar",
           "x": [
            "Science politique"
           ],
           "xaxis": "x",
           "y": [
            6.428571428571428
           ],
           "yaxis": "y"
          },
          {
           "alignmentgroup": "True",
           "hovertemplate": "discipline=%{x}<br>annee_publication=2013<br>Proportion des articles mentionnant le genre=%{y}<extra></extra>",
           "legendgroup": "Sociologie",
           "marker": {
            "color": "#FECB52",
            "pattern": {
             "shape": ""
            }
           },
           "name": "Sociologie",
           "offsetgroup": "Sociologie",
           "orientation": "v",
           "showlegend": true,
           "textposition": "auto",
           "type": "bar",
           "x": [
            "Sociologie"
           ],
           "xaxis": "x",
           "y": [
            7.122507122507122
           ],
           "yaxis": "y"
          },
          {
           "alignmentgroup": "True",
           "hovertemplate": "discipline=%{x}<br>annee_publication=2013<br>Proportion des articles mentionnant le genre=%{y}<extra></extra>",
           "legendgroup": "Économie",
           "marker": {
            "color": "#636efa",
            "pattern": {
             "shape": ""
            }
           },
           "name": "Économie",
           "offsetgroup": "Économie",
           "orientation": "v",
           "showlegend": true,
           "textposition": "auto",
           "type": "bar",
           "x": [
            "Économie"
           ],
           "xaxis": "x",
           "y": [
            2.405498281786942
           ],
           "yaxis": "y"
          }
         ],
         "name": "2013"
        },
        {
         "data": [
          {
           "alignmentgroup": "True",
           "hovertemplate": "discipline=%{x}<br>annee_publication=2014<br>Proportion des articles mentionnant le genre=%{y}<extra></extra>",
           "legendgroup": "Anthropologie",
           "marker": {
            "color": "#636efa",
            "pattern": {
             "shape": ""
            }
           },
           "name": "Anthropologie",
           "offsetgroup": "Anthropologie",
           "orientation": "v",
           "showlegend": true,
           "textposition": "auto",
           "type": "bar",
           "x": [
            "Anthropologie"
           ],
           "xaxis": "x",
           "y": [
            13.821138211382115
           ],
           "yaxis": "y"
          },
          {
           "alignmentgroup": "True",
           "hovertemplate": "discipline=%{x}<br>annee_publication=2014<br>Proportion des articles mentionnant le genre=%{y}<extra></extra>",
           "legendgroup": "Aréale",
           "marker": {
            "color": "#EF553B",
            "pattern": {
             "shape": ""
            }
           },
           "name": "Aréale",
           "offsetgroup": "Aréale",
           "orientation": "v",
           "showlegend": true,
           "textposition": "auto",
           "type": "bar",
           "x": [
            "Aréale"
           ],
           "xaxis": "x",
           "y": [
            1.4851485148514851
           ],
           "yaxis": "y"
          },
          {
           "alignmentgroup": "True",
           "hovertemplate": "discipline=%{x}<br>annee_publication=2014<br>Proportion des articles mentionnant le genre=%{y}<extra></extra>",
           "legendgroup": "Autre interdisciplinaire",
           "marker": {
            "color": "#00cc96",
            "pattern": {
             "shape": ""
            }
           },
           "name": "Autre interdisciplinaire",
           "offsetgroup": "Autre interdisciplinaire",
           "orientation": "v",
           "showlegend": true,
           "textposition": "auto",
           "type": "bar",
           "x": [
            "Autre interdisciplinaire"
           ],
           "xaxis": "x",
           "y": [
            7.482993197278912
           ],
           "yaxis": "y"
          },
          {
           "alignmentgroup": "True",
           "hovertemplate": "discipline=%{x}<br>annee_publication=2014<br>Proportion des articles mentionnant le genre=%{y}<extra></extra>",
           "legendgroup": "Démographie",
           "marker": {
            "color": "#ab63fa",
            "pattern": {
             "shape": ""
            }
           },
           "name": "Démographie",
           "offsetgroup": "Démographie",
           "orientation": "v",
           "showlegend": true,
           "textposition": "auto",
           "type": "bar",
           "x": [
            "Démographie"
           ],
           "xaxis": "x",
           "y": [
            26.666666666666668
           ],
           "yaxis": "y"
          },
          {
           "alignmentgroup": "True",
           "hovertemplate": "discipline=%{x}<br>annee_publication=2014<br>Proportion des articles mentionnant le genre=%{y}<extra></extra>",
           "legendgroup": "Genre",
           "marker": {
            "color": "#FFA15A",
            "pattern": {
             "shape": ""
            }
           },
           "name": "Genre",
           "offsetgroup": "Genre",
           "orientation": "v",
           "showlegend": true,
           "textposition": "auto",
           "type": "bar",
           "x": [
            "Genre"
           ],
           "xaxis": "x",
           "y": [
            88.73239436619718
           ],
           "yaxis": "y"
          },
          {
           "alignmentgroup": "True",
           "hovertemplate": "discipline=%{x}<br>annee_publication=2014<br>Proportion des articles mentionnant le genre=%{y}<extra></extra>",
           "legendgroup": "Géographie",
           "marker": {
            "color": "#19d3f3",
            "pattern": {
             "shape": ""
            }
           },
           "name": "Géographie",
           "offsetgroup": "Géographie",
           "orientation": "v",
           "showlegend": true,
           "textposition": "auto",
           "type": "bar",
           "x": [
            "Géographie"
           ],
           "xaxis": "x",
           "y": [
            1.282051282051282
           ],
           "yaxis": "y"
          },
          {
           "alignmentgroup": "True",
           "hovertemplate": "discipline=%{x}<br>annee_publication=2014<br>Proportion des articles mentionnant le genre=%{y}<extra></extra>",
           "legendgroup": "Histoire",
           "marker": {
            "color": "#FF6692",
            "pattern": {
             "shape": ""
            }
           },
           "name": "Histoire",
           "offsetgroup": "Histoire",
           "orientation": "v",
           "showlegend": true,
           "textposition": "auto",
           "type": "bar",
           "x": [
            "Histoire"
           ],
           "xaxis": "x",
           "y": [
            2.5547445255474455
           ],
           "yaxis": "y"
          },
          {
           "alignmentgroup": "True",
           "hovertemplate": "discipline=%{x}<br>annee_publication=2014<br>Proportion des articles mentionnant le genre=%{y}<extra></extra>",
           "legendgroup": "SIC",
           "marker": {
            "color": "#B6E880",
            "pattern": {
             "shape": ""
            }
           },
           "name": "SIC",
           "offsetgroup": "SIC",
           "orientation": "v",
           "showlegend": true,
           "textposition": "auto",
           "type": "bar",
           "x": [
            "SIC"
           ],
           "xaxis": "x",
           "y": [
            7.216494845360824
           ],
           "yaxis": "y"
          },
          {
           "alignmentgroup": "True",
           "hovertemplate": "discipline=%{x}<br>annee_publication=2014<br>Proportion des articles mentionnant le genre=%{y}<extra></extra>",
           "legendgroup": "Science politique",
           "marker": {
            "color": "#FF97FF",
            "pattern": {
             "shape": ""
            }
           },
           "name": "Science politique",
           "offsetgroup": "Science politique",
           "orientation": "v",
           "showlegend": true,
           "textposition": "auto",
           "type": "bar",
           "x": [
            "Science politique"
           ],
           "xaxis": "x",
           "y": [
            1.9933554817275747
           ],
           "yaxis": "y"
          },
          {
           "alignmentgroup": "True",
           "hovertemplate": "discipline=%{x}<br>annee_publication=2014<br>Proportion des articles mentionnant le genre=%{y}<extra></extra>",
           "legendgroup": "Sociologie",
           "marker": {
            "color": "#FECB52",
            "pattern": {
             "shape": ""
            }
           },
           "name": "Sociologie",
           "offsetgroup": "Sociologie",
           "orientation": "v",
           "showlegend": true,
           "textposition": "auto",
           "type": "bar",
           "x": [
            "Sociologie"
           ],
           "xaxis": "x",
           "y": [
            5.989583333333334
           ],
           "yaxis": "y"
          },
          {
           "alignmentgroup": "True",
           "hovertemplate": "discipline=%{x}<br>annee_publication=2014<br>Proportion des articles mentionnant le genre=%{y}<extra></extra>",
           "legendgroup": "Économie",
           "marker": {
            "color": "#636efa",
            "pattern": {
             "shape": ""
            }
           },
           "name": "Économie",
           "offsetgroup": "Économie",
           "orientation": "v",
           "showlegend": true,
           "textposition": "auto",
           "type": "bar",
           "x": [
            "Économie"
           ],
           "xaxis": "x",
           "y": [
            8.363636363636363
           ],
           "yaxis": "y"
          }
         ],
         "name": "2014"
        },
        {
         "data": [
          {
           "alignmentgroup": "True",
           "hovertemplate": "discipline=%{x}<br>annee_publication=2015<br>Proportion des articles mentionnant le genre=%{y}<extra></extra>",
           "legendgroup": "Anthropologie",
           "marker": {
            "color": "#636efa",
            "pattern": {
             "shape": ""
            }
           },
           "name": "Anthropologie",
           "offsetgroup": "Anthropologie",
           "orientation": "v",
           "showlegend": true,
           "textposition": "auto",
           "type": "bar",
           "x": [
            "Anthropologie"
           ],
           "xaxis": "x",
           "y": [
            13.636363636363635
           ],
           "yaxis": "y"
          },
          {
           "alignmentgroup": "True",
           "hovertemplate": "discipline=%{x}<br>annee_publication=2015<br>Proportion des articles mentionnant le genre=%{y}<extra></extra>",
           "legendgroup": "Aréale",
           "marker": {
            "color": "#EF553B",
            "pattern": {
             "shape": ""
            }
           },
           "name": "Aréale",
           "offsetgroup": "Aréale",
           "orientation": "v",
           "showlegend": true,
           "textposition": "auto",
           "type": "bar",
           "x": [
            "Aréale"
           ],
           "xaxis": "x",
           "y": [
            2.6717557251908395
           ],
           "yaxis": "y"
          },
          {
           "alignmentgroup": "True",
           "hovertemplate": "discipline=%{x}<br>annee_publication=2015<br>Proportion des articles mentionnant le genre=%{y}<extra></extra>",
           "legendgroup": "Autre interdisciplinaire",
           "marker": {
            "color": "#00cc96",
            "pattern": {
             "shape": ""
            }
           },
           "name": "Autre interdisciplinaire",
           "offsetgroup": "Autre interdisciplinaire",
           "orientation": "v",
           "showlegend": true,
           "textposition": "auto",
           "type": "bar",
           "x": [
            "Autre interdisciplinaire"
           ],
           "xaxis": "x",
           "y": [
            7.782101167315175
           ],
           "yaxis": "y"
          },
          {
           "alignmentgroup": "True",
           "hovertemplate": "discipline=%{x}<br>annee_publication=2015<br>Proportion des articles mentionnant le genre=%{y}<extra></extra>",
           "legendgroup": "Démographie",
           "marker": {
            "color": "#ab63fa",
            "pattern": {
             "shape": ""
            }
           },
           "name": "Démographie",
           "offsetgroup": "Démographie",
           "orientation": "v",
           "showlegend": true,
           "textposition": "auto",
           "type": "bar",
           "x": [
            "Démographie"
           ],
           "xaxis": "x",
           "y": [
            19.35483870967742
           ],
           "yaxis": "y"
          },
          {
           "alignmentgroup": "True",
           "hovertemplate": "discipline=%{x}<br>annee_publication=2015<br>Proportion des articles mentionnant le genre=%{y}<extra></extra>",
           "legendgroup": "Genre",
           "marker": {
            "color": "#FFA15A",
            "pattern": {
             "shape": ""
            }
           },
           "name": "Genre",
           "offsetgroup": "Genre",
           "orientation": "v",
           "showlegend": true,
           "textposition": "auto",
           "type": "bar",
           "x": [
            "Genre"
           ],
           "xaxis": "x",
           "y": [
            93.93939393939394
           ],
           "yaxis": "y"
          },
          {
           "alignmentgroup": "True",
           "hovertemplate": "discipline=%{x}<br>annee_publication=2015<br>Proportion des articles mentionnant le genre=%{y}<extra></extra>",
           "legendgroup": "Géographie",
           "marker": {
            "color": "#19d3f3",
            "pattern": {
             "shape": ""
            }
           },
           "name": "Géographie",
           "offsetgroup": "Géographie",
           "orientation": "v",
           "showlegend": true,
           "textposition": "auto",
           "type": "bar",
           "x": [
            "Géographie"
           ],
           "xaxis": "x",
           "y": [
            1.3157894736842104
           ],
           "yaxis": "y"
          },
          {
           "alignmentgroup": "True",
           "hovertemplate": "discipline=%{x}<br>annee_publication=2015<br>Proportion des articles mentionnant le genre=%{y}<extra></extra>",
           "legendgroup": "Histoire",
           "marker": {
            "color": "#FF6692",
            "pattern": {
             "shape": ""
            }
           },
           "name": "Histoire",
           "offsetgroup": "Histoire",
           "orientation": "v",
           "showlegend": true,
           "textposition": "auto",
           "type": "bar",
           "x": [
            "Histoire"
           ],
           "xaxis": "x",
           "y": [
            4.761904761904762
           ],
           "yaxis": "y"
          },
          {
           "alignmentgroup": "True",
           "hovertemplate": "discipline=%{x}<br>annee_publication=2015<br>Proportion des articles mentionnant le genre=%{y}<extra></extra>",
           "legendgroup": "SIC",
           "marker": {
            "color": "#B6E880",
            "pattern": {
             "shape": ""
            }
           },
           "name": "SIC",
           "offsetgroup": "SIC",
           "orientation": "v",
           "showlegend": true,
           "textposition": "auto",
           "type": "bar",
           "x": [
            "SIC"
           ],
           "xaxis": "x",
           "y": [
            4.166666666666666
           ],
           "yaxis": "y"
          },
          {
           "alignmentgroup": "True",
           "hovertemplate": "discipline=%{x}<br>annee_publication=2015<br>Proportion des articles mentionnant le genre=%{y}<extra></extra>",
           "legendgroup": "Science politique",
           "marker": {
            "color": "#FF97FF",
            "pattern": {
             "shape": ""
            }
           },
           "name": "Science politique",
           "offsetgroup": "Science politique",
           "orientation": "v",
           "showlegend": true,
           "textposition": "auto",
           "type": "bar",
           "x": [
            "Science politique"
           ],
           "xaxis": "x",
           "y": [
            12.4031007751938
           ],
           "yaxis": "y"
          },
          {
           "alignmentgroup": "True",
           "hovertemplate": "discipline=%{x}<br>annee_publication=2015<br>Proportion des articles mentionnant le genre=%{y}<extra></extra>",
           "legendgroup": "Sociologie",
           "marker": {
            "color": "#FECB52",
            "pattern": {
             "shape": ""
            }
           },
           "name": "Sociologie",
           "offsetgroup": "Sociologie",
           "orientation": "v",
           "showlegend": true,
           "textposition": "auto",
           "type": "bar",
           "x": [
            "Sociologie"
           ],
           "xaxis": "x",
           "y": [
            8.395061728395062
           ],
           "yaxis": "y"
          },
          {
           "alignmentgroup": "True",
           "hovertemplate": "discipline=%{x}<br>annee_publication=2015<br>Proportion des articles mentionnant le genre=%{y}<extra></extra>",
           "legendgroup": "Économie",
           "marker": {
            "color": "#636efa",
            "pattern": {
             "shape": ""
            }
           },
           "name": "Économie",
           "offsetgroup": "Économie",
           "orientation": "v",
           "showlegend": true,
           "textposition": "auto",
           "type": "bar",
           "x": [
            "Économie"
           ],
           "xaxis": "x",
           "y": [
            1.006711409395973
           ],
           "yaxis": "y"
          }
         ],
         "name": "2015"
        },
        {
         "data": [
          {
           "alignmentgroup": "True",
           "hovertemplate": "discipline=%{x}<br>annee_publication=2016<br>Proportion des articles mentionnant le genre=%{y}<extra></extra>",
           "legendgroup": "Anthropologie",
           "marker": {
            "color": "#636efa",
            "pattern": {
             "shape": ""
            }
           },
           "name": "Anthropologie",
           "offsetgroup": "Anthropologie",
           "orientation": "v",
           "showlegend": true,
           "textposition": "auto",
           "type": "bar",
           "x": [
            "Anthropologie"
           ],
           "xaxis": "x",
           "y": [
            20
           ],
           "yaxis": "y"
          },
          {
           "alignmentgroup": "True",
           "hovertemplate": "discipline=%{x}<br>annee_publication=2016<br>Proportion des articles mentionnant le genre=%{y}<extra></extra>",
           "legendgroup": "Aréale",
           "marker": {
            "color": "#EF553B",
            "pattern": {
             "shape": ""
            }
           },
           "name": "Aréale",
           "offsetgroup": "Aréale",
           "orientation": "v",
           "showlegend": true,
           "textposition": "auto",
           "type": "bar",
           "x": [
            "Aréale"
           ],
           "xaxis": "x",
           "y": [
            5.185185185185185
           ],
           "yaxis": "y"
          },
          {
           "alignmentgroup": "True",
           "hovertemplate": "discipline=%{x}<br>annee_publication=2016<br>Proportion des articles mentionnant le genre=%{y}<extra></extra>",
           "legendgroup": "Autre interdisciplinaire",
           "marker": {
            "color": "#00cc96",
            "pattern": {
             "shape": ""
            }
           },
           "name": "Autre interdisciplinaire",
           "offsetgroup": "Autre interdisciplinaire",
           "orientation": "v",
           "showlegend": true,
           "textposition": "auto",
           "type": "bar",
           "x": [
            "Autre interdisciplinaire"
           ],
           "xaxis": "x",
           "y": [
            5.84070796460177
           ],
           "yaxis": "y"
          },
          {
           "alignmentgroup": "True",
           "hovertemplate": "discipline=%{x}<br>annee_publication=2016<br>Proportion des articles mentionnant le genre=%{y}<extra></extra>",
           "legendgroup": "Démographie",
           "marker": {
            "color": "#ab63fa",
            "pattern": {
             "shape": ""
            }
           },
           "name": "Démographie",
           "offsetgroup": "Démographie",
           "orientation": "v",
           "showlegend": true,
           "textposition": "auto",
           "type": "bar",
           "x": [
            "Démographie"
           ],
           "xaxis": "x",
           "y": [
            23.684210526315788
           ],
           "yaxis": "y"
          },
          {
           "alignmentgroup": "True",
           "hovertemplate": "discipline=%{x}<br>annee_publication=2016<br>Proportion des articles mentionnant le genre=%{y}<extra></extra>",
           "legendgroup": "Genre",
           "marker": {
            "color": "#FFA15A",
            "pattern": {
             "shape": ""
            }
           },
           "name": "Genre",
           "offsetgroup": "Genre",
           "orientation": "v",
           "showlegend": true,
           "textposition": "auto",
           "type": "bar",
           "x": [
            "Genre"
           ],
           "xaxis": "x",
           "y": [
            96
           ],
           "yaxis": "y"
          },
          {
           "alignmentgroup": "True",
           "hovertemplate": "discipline=%{x}<br>annee_publication=2016<br>Proportion des articles mentionnant le genre=%{y}<extra></extra>",
           "legendgroup": "Géographie",
           "marker": {
            "color": "#19d3f3",
            "pattern": {
             "shape": ""
            }
           },
           "name": "Géographie",
           "offsetgroup": "Géographie",
           "orientation": "v",
           "showlegend": true,
           "textposition": "auto",
           "type": "bar",
           "x": [
            "Géographie"
           ],
           "xaxis": "x",
           "y": [
            1.4492753623188406
           ],
           "yaxis": "y"
          },
          {
           "alignmentgroup": "True",
           "hovertemplate": "discipline=%{x}<br>annee_publication=2016<br>Proportion des articles mentionnant le genre=%{y}<extra></extra>",
           "legendgroup": "Histoire",
           "marker": {
            "color": "#FF6692",
            "pattern": {
             "shape": ""
            }
           },
           "name": "Histoire",
           "offsetgroup": "Histoire",
           "orientation": "v",
           "showlegend": true,
           "textposition": "auto",
           "type": "bar",
           "x": [
            "Histoire"
           ],
           "xaxis": "x",
           "y": [
            3.041825095057034
           ],
           "yaxis": "y"
          },
          {
           "alignmentgroup": "True",
           "hovertemplate": "discipline=%{x}<br>annee_publication=2016<br>Proportion des articles mentionnant le genre=%{y}<extra></extra>",
           "legendgroup": "SIC",
           "marker": {
            "color": "#B6E880",
            "pattern": {
             "shape": ""
            }
           },
           "name": "SIC",
           "offsetgroup": "SIC",
           "orientation": "v",
           "showlegend": true,
           "textposition": "auto",
           "type": "bar",
           "x": [
            "SIC"
           ],
           "xaxis": "x",
           "y": [
            0
           ],
           "yaxis": "y"
          },
          {
           "alignmentgroup": "True",
           "hovertemplate": "discipline=%{x}<br>annee_publication=2016<br>Proportion des articles mentionnant le genre=%{y}<extra></extra>",
           "legendgroup": "Science politique",
           "marker": {
            "color": "#FF97FF",
            "pattern": {
             "shape": ""
            }
           },
           "name": "Science politique",
           "offsetgroup": "Science politique",
           "orientation": "v",
           "showlegend": true,
           "textposition": "auto",
           "type": "bar",
           "x": [
            "Science politique"
           ],
           "xaxis": "x",
           "y": [
            5.637982195845697
           ],
           "yaxis": "y"
          },
          {
           "alignmentgroup": "True",
           "hovertemplate": "discipline=%{x}<br>annee_publication=2016<br>Proportion des articles mentionnant le genre=%{y}<extra></extra>",
           "legendgroup": "Sociologie",
           "marker": {
            "color": "#FECB52",
            "pattern": {
             "shape": ""
            }
           },
           "name": "Sociologie",
           "offsetgroup": "Sociologie",
           "orientation": "v",
           "showlegend": true,
           "textposition": "auto",
           "type": "bar",
           "x": [
            "Sociologie"
           ],
           "xaxis": "x",
           "y": [
            8.808290155440414
           ],
           "yaxis": "y"
          },
          {
           "alignmentgroup": "True",
           "hovertemplate": "discipline=%{x}<br>annee_publication=2016<br>Proportion des articles mentionnant le genre=%{y}<extra></extra>",
           "legendgroup": "Économie",
           "marker": {
            "color": "#636efa",
            "pattern": {
             "shape": ""
            }
           },
           "name": "Économie",
           "offsetgroup": "Économie",
           "orientation": "v",
           "showlegend": true,
           "textposition": "auto",
           "type": "bar",
           "x": [
            "Économie"
           ],
           "xaxis": "x",
           "y": [
            0.8670520231213872
           ],
           "yaxis": "y"
          }
         ],
         "name": "2016"
        },
        {
         "data": [
          {
           "alignmentgroup": "True",
           "hovertemplate": "discipline=%{x}<br>annee_publication=2017<br>Proportion des articles mentionnant le genre=%{y}<extra></extra>",
           "legendgroup": "Anthropologie",
           "marker": {
            "color": "#636efa",
            "pattern": {
             "shape": ""
            }
           },
           "name": "Anthropologie",
           "offsetgroup": "Anthropologie",
           "orientation": "v",
           "showlegend": true,
           "textposition": "auto",
           "type": "bar",
           "x": [
            "Anthropologie"
           ],
           "xaxis": "x",
           "y": [
            22.608695652173914
           ],
           "yaxis": "y"
          },
          {
           "alignmentgroup": "True",
           "hovertemplate": "discipline=%{x}<br>annee_publication=2017<br>Proportion des articles mentionnant le genre=%{y}<extra></extra>",
           "legendgroup": "Aréale",
           "marker": {
            "color": "#EF553B",
            "pattern": {
             "shape": ""
            }
           },
           "name": "Aréale",
           "offsetgroup": "Aréale",
           "orientation": "v",
           "showlegend": true,
           "textposition": "auto",
           "type": "bar",
           "x": [
            "Aréale"
           ],
           "xaxis": "x",
           "y": [
            7.171314741035857
           ],
           "yaxis": "y"
          },
          {
           "alignmentgroup": "True",
           "hovertemplate": "discipline=%{x}<br>annee_publication=2017<br>Proportion des articles mentionnant le genre=%{y}<extra></extra>",
           "legendgroup": "Autre interdisciplinaire",
           "marker": {
            "color": "#00cc96",
            "pattern": {
             "shape": ""
            }
           },
           "name": "Autre interdisciplinaire",
           "offsetgroup": "Autre interdisciplinaire",
           "orientation": "v",
           "showlegend": true,
           "textposition": "auto",
           "type": "bar",
           "x": [
            "Autre interdisciplinaire"
           ],
           "xaxis": "x",
           "y": [
            12.4777183600713
           ],
           "yaxis": "y"
          },
          {
           "alignmentgroup": "True",
           "hovertemplate": "discipline=%{x}<br>annee_publication=2017<br>Proportion des articles mentionnant le genre=%{y}<extra></extra>",
           "legendgroup": "Démographie",
           "marker": {
            "color": "#ab63fa",
            "pattern": {
             "shape": ""
            }
           },
           "name": "Démographie",
           "offsetgroup": "Démographie",
           "orientation": "v",
           "showlegend": true,
           "textposition": "auto",
           "type": "bar",
           "x": [
            "Démographie"
           ],
           "xaxis": "x",
           "y": [
            25
           ],
           "yaxis": "y"
          },
          {
           "alignmentgroup": "True",
           "hovertemplate": "discipline=%{x}<br>annee_publication=2017<br>Proportion des articles mentionnant le genre=%{y}<extra></extra>",
           "legendgroup": "Genre",
           "marker": {
            "color": "#FFA15A",
            "pattern": {
             "shape": ""
            }
           },
           "name": "Genre",
           "offsetgroup": "Genre",
           "orientation": "v",
           "showlegend": true,
           "textposition": "auto",
           "type": "bar",
           "x": [
            "Genre"
           ],
           "xaxis": "x",
           "y": [
            91.54929577464789
           ],
           "yaxis": "y"
          },
          {
           "alignmentgroup": "True",
           "hovertemplate": "discipline=%{x}<br>annee_publication=2017<br>Proportion des articles mentionnant le genre=%{y}<extra></extra>",
           "legendgroup": "Géographie",
           "marker": {
            "color": "#19d3f3",
            "pattern": {
             "shape": ""
            }
           },
           "name": "Géographie",
           "offsetgroup": "Géographie",
           "orientation": "v",
           "showlegend": true,
           "textposition": "auto",
           "type": "bar",
           "x": [
            "Géographie"
           ],
           "xaxis": "x",
           "y": [
            1.098901098901099
           ],
           "yaxis": "y"
          },
          {
           "alignmentgroup": "True",
           "hovertemplate": "discipline=%{x}<br>annee_publication=2017<br>Proportion des articles mentionnant le genre=%{y}<extra></extra>",
           "legendgroup": "Histoire",
           "marker": {
            "color": "#FF6692",
            "pattern": {
             "shape": ""
            }
           },
           "name": "Histoire",
           "offsetgroup": "Histoire",
           "orientation": "v",
           "showlegend": true,
           "textposition": "auto",
           "type": "bar",
           "x": [
            "Histoire"
           ],
           "xaxis": "x",
           "y": [
            1.6129032258064515
           ],
           "yaxis": "y"
          },
          {
           "alignmentgroup": "True",
           "hovertemplate": "discipline=%{x}<br>annee_publication=2017<br>Proportion des articles mentionnant le genre=%{y}<extra></extra>",
           "legendgroup": "SIC",
           "marker": {
            "color": "#B6E880",
            "pattern": {
             "shape": ""
            }
           },
           "name": "SIC",
           "offsetgroup": "SIC",
           "orientation": "v",
           "showlegend": true,
           "textposition": "auto",
           "type": "bar",
           "x": [
            "SIC"
           ],
           "xaxis": "x",
           "y": [
            3.664921465968586
           ],
           "yaxis": "y"
          },
          {
           "alignmentgroup": "True",
           "hovertemplate": "discipline=%{x}<br>annee_publication=2017<br>Proportion des articles mentionnant le genre=%{y}<extra></extra>",
           "legendgroup": "Science politique",
           "marker": {
            "color": "#FF97FF",
            "pattern": {
             "shape": ""
            }
           },
           "name": "Science politique",
           "offsetgroup": "Science politique",
           "orientation": "v",
           "showlegend": true,
           "textposition": "auto",
           "type": "bar",
           "x": [
            "Science politique"
           ],
           "xaxis": "x",
           "y": [
            3.214285714285714
           ],
           "yaxis": "y"
          },
          {
           "alignmentgroup": "True",
           "hovertemplate": "discipline=%{x}<br>annee_publication=2017<br>Proportion des articles mentionnant le genre=%{y}<extra></extra>",
           "legendgroup": "Sociologie",
           "marker": {
            "color": "#FECB52",
            "pattern": {
             "shape": ""
            }
           },
           "name": "Sociologie",
           "offsetgroup": "Sociologie",
           "orientation": "v",
           "showlegend": true,
           "textposition": "auto",
           "type": "bar",
           "x": [
            "Sociologie"
           ],
           "xaxis": "x",
           "y": [
            12.70718232044199
           ],
           "yaxis": "y"
          },
          {
           "alignmentgroup": "True",
           "hovertemplate": "discipline=%{x}<br>annee_publication=2017<br>Proportion des articles mentionnant le genre=%{y}<extra></extra>",
           "legendgroup": "Économie",
           "marker": {
            "color": "#636efa",
            "pattern": {
             "shape": ""
            }
           },
           "name": "Économie",
           "offsetgroup": "Économie",
           "orientation": "v",
           "showlegend": true,
           "textposition": "auto",
           "type": "bar",
           "x": [
            "Économie"
           ],
           "xaxis": "x",
           "y": [
            2.786377708978328
           ],
           "yaxis": "y"
          }
         ],
         "name": "2017"
        },
        {
         "data": [
          {
           "alignmentgroup": "True",
           "hovertemplate": "discipline=%{x}<br>annee_publication=2018<br>Proportion des articles mentionnant le genre=%{y}<extra></extra>",
           "legendgroup": "Anthropologie",
           "marker": {
            "color": "#636efa",
            "pattern": {
             "shape": ""
            }
           },
           "name": "Anthropologie",
           "offsetgroup": "Anthropologie",
           "orientation": "v",
           "showlegend": true,
           "textposition": "auto",
           "type": "bar",
           "x": [
            "Anthropologie"
           ],
           "xaxis": "x",
           "y": [
            13.636363636363635
           ],
           "yaxis": "y"
          },
          {
           "alignmentgroup": "True",
           "hovertemplate": "discipline=%{x}<br>annee_publication=2018<br>Proportion des articles mentionnant le genre=%{y}<extra></extra>",
           "legendgroup": "Aréale",
           "marker": {
            "color": "#EF553B",
            "pattern": {
             "shape": ""
            }
           },
           "name": "Aréale",
           "offsetgroup": "Aréale",
           "orientation": "v",
           "showlegend": true,
           "textposition": "auto",
           "type": "bar",
           "x": [
            "Aréale"
           ],
           "xaxis": "x",
           "y": [
            6.493506493506493
           ],
           "yaxis": "y"
          },
          {
           "alignmentgroup": "True",
           "hovertemplate": "discipline=%{x}<br>annee_publication=2018<br>Proportion des articles mentionnant le genre=%{y}<extra></extra>",
           "legendgroup": "Autre interdisciplinaire",
           "marker": {
            "color": "#00cc96",
            "pattern": {
             "shape": ""
            }
           },
           "name": "Autre interdisciplinaire",
           "offsetgroup": "Autre interdisciplinaire",
           "orientation": "v",
           "showlegend": true,
           "textposition": "auto",
           "type": "bar",
           "x": [
            "Autre interdisciplinaire"
           ],
           "xaxis": "x",
           "y": [
            6.188925081433225
           ],
           "yaxis": "y"
          },
          {
           "alignmentgroup": "True",
           "hovertemplate": "discipline=%{x}<br>annee_publication=2018<br>Proportion des articles mentionnant le genre=%{y}<extra></extra>",
           "legendgroup": "Démographie",
           "marker": {
            "color": "#ab63fa",
            "pattern": {
             "shape": ""
            }
           },
           "name": "Démographie",
           "offsetgroup": "Démographie",
           "orientation": "v",
           "showlegend": true,
           "textposition": "auto",
           "type": "bar",
           "x": [
            "Démographie"
           ],
           "xaxis": "x",
           "y": [
            26.666666666666668
           ],
           "yaxis": "y"
          },
          {
           "alignmentgroup": "True",
           "hovertemplate": "discipline=%{x}<br>annee_publication=2018<br>Proportion des articles mentionnant le genre=%{y}<extra></extra>",
           "legendgroup": "Genre",
           "marker": {
            "color": "#FFA15A",
            "pattern": {
             "shape": ""
            }
           },
           "name": "Genre",
           "offsetgroup": "Genre",
           "orientation": "v",
           "showlegend": true,
           "textposition": "auto",
           "type": "bar",
           "x": [
            "Genre"
           ],
           "xaxis": "x",
           "y": [
            93.67088607594937
           ],
           "yaxis": "y"
          },
          {
           "alignmentgroup": "True",
           "hovertemplate": "discipline=%{x}<br>annee_publication=2018<br>Proportion des articles mentionnant le genre=%{y}<extra></extra>",
           "legendgroup": "Géographie",
           "marker": {
            "color": "#19d3f3",
            "pattern": {
             "shape": ""
            }
           },
           "name": "Géographie",
           "offsetgroup": "Géographie",
           "orientation": "v",
           "showlegend": true,
           "textposition": "auto",
           "type": "bar",
           "x": [
            "Géographie"
           ],
           "xaxis": "x",
           "y": [
            3.3333333333333335
           ],
           "yaxis": "y"
          },
          {
           "alignmentgroup": "True",
           "hovertemplate": "discipline=%{x}<br>annee_publication=2018<br>Proportion des articles mentionnant le genre=%{y}<extra></extra>",
           "legendgroup": "Histoire",
           "marker": {
            "color": "#FF6692",
            "pattern": {
             "shape": ""
            }
           },
           "name": "Histoire",
           "offsetgroup": "Histoire",
           "orientation": "v",
           "showlegend": true,
           "textposition": "auto",
           "type": "bar",
           "x": [
            "Histoire"
           ],
           "xaxis": "x",
           "y": [
            3.225806451612903
           ],
           "yaxis": "y"
          },
          {
           "alignmentgroup": "True",
           "hovertemplate": "discipline=%{x}<br>annee_publication=2018<br>Proportion des articles mentionnant le genre=%{y}<extra></extra>",
           "legendgroup": "SIC",
           "marker": {
            "color": "#B6E880",
            "pattern": {
             "shape": ""
            }
           },
           "name": "SIC",
           "offsetgroup": "SIC",
           "orientation": "v",
           "showlegend": true,
           "textposition": "auto",
           "type": "bar",
           "x": [
            "SIC"
           ],
           "xaxis": "x",
           "y": [
            2.941176470588235
           ],
           "yaxis": "y"
          },
          {
           "alignmentgroup": "True",
           "hovertemplate": "discipline=%{x}<br>annee_publication=2018<br>Proportion des articles mentionnant le genre=%{y}<extra></extra>",
           "legendgroup": "Science politique",
           "marker": {
            "color": "#FF97FF",
            "pattern": {
             "shape": ""
            }
           },
           "name": "Science politique",
           "offsetgroup": "Science politique",
           "orientation": "v",
           "showlegend": true,
           "textposition": "auto",
           "type": "bar",
           "x": [
            "Science politique"
           ],
           "xaxis": "x",
           "y": [
            1.3468013468013467
           ],
           "yaxis": "y"
          },
          {
           "alignmentgroup": "True",
           "hovertemplate": "discipline=%{x}<br>annee_publication=2018<br>Proportion des articles mentionnant le genre=%{y}<extra></extra>",
           "legendgroup": "Sociologie",
           "marker": {
            "color": "#FECB52",
            "pattern": {
             "shape": ""
            }
           },
           "name": "Sociologie",
           "offsetgroup": "Sociologie",
           "orientation": "v",
           "showlegend": true,
           "textposition": "auto",
           "type": "bar",
           "x": [
            "Sociologie"
           ],
           "xaxis": "x",
           "y": [
            11.586901763224182
           ],
           "yaxis": "y"
          },
          {
           "alignmentgroup": "True",
           "hovertemplate": "discipline=%{x}<br>annee_publication=2018<br>Proportion des articles mentionnant le genre=%{y}<extra></extra>",
           "legendgroup": "Économie",
           "marker": {
            "color": "#636efa",
            "pattern": {
             "shape": ""
            }
           },
           "name": "Économie",
           "offsetgroup": "Économie",
           "orientation": "v",
           "showlegend": true,
           "textposition": "auto",
           "type": "bar",
           "x": [
            "Économie"
           ],
           "xaxis": "x",
           "y": [
            2.2058823529411766
           ],
           "yaxis": "y"
          }
         ],
         "name": "2018"
        },
        {
         "data": [
          {
           "alignmentgroup": "True",
           "hovertemplate": "discipline=%{x}<br>annee_publication=2019<br>Proportion des articles mentionnant le genre=%{y}<extra></extra>",
           "legendgroup": "Anthropologie",
           "marker": {
            "color": "#636efa",
            "pattern": {
             "shape": ""
            }
           },
           "name": "Anthropologie",
           "offsetgroup": "Anthropologie",
           "orientation": "v",
           "showlegend": true,
           "textposition": "auto",
           "type": "bar",
           "x": [
            "Anthropologie"
           ],
           "xaxis": "x",
           "y": [
            19.230769230769234
           ],
           "yaxis": "y"
          },
          {
           "alignmentgroup": "True",
           "hovertemplate": "discipline=%{x}<br>annee_publication=2019<br>Proportion des articles mentionnant le genre=%{y}<extra></extra>",
           "legendgroup": "Aréale",
           "marker": {
            "color": "#EF553B",
            "pattern": {
             "shape": ""
            }
           },
           "name": "Aréale",
           "offsetgroup": "Aréale",
           "orientation": "v",
           "showlegend": true,
           "textposition": "auto",
           "type": "bar",
           "x": [
            "Aréale"
           ],
           "xaxis": "x",
           "y": [
            8.267716535433072
           ],
           "yaxis": "y"
          },
          {
           "alignmentgroup": "True",
           "hovertemplate": "discipline=%{x}<br>annee_publication=2019<br>Proportion des articles mentionnant le genre=%{y}<extra></extra>",
           "legendgroup": "Autre interdisciplinaire",
           "marker": {
            "color": "#00cc96",
            "pattern": {
             "shape": ""
            }
           },
           "name": "Autre interdisciplinaire",
           "offsetgroup": "Autre interdisciplinaire",
           "orientation": "v",
           "showlegend": true,
           "textposition": "auto",
           "type": "bar",
           "x": [
            "Autre interdisciplinaire"
           ],
           "xaxis": "x",
           "y": [
            11.224489795918368
           ],
           "yaxis": "y"
          },
          {
           "alignmentgroup": "True",
           "hovertemplate": "discipline=%{x}<br>annee_publication=2019<br>Proportion des articles mentionnant le genre=%{y}<extra></extra>",
           "legendgroup": "Démographie",
           "marker": {
            "color": "#ab63fa",
            "pattern": {
             "shape": ""
            }
           },
           "name": "Démographie",
           "offsetgroup": "Démographie",
           "orientation": "v",
           "showlegend": true,
           "textposition": "auto",
           "type": "bar",
           "x": [
            "Démographie"
           ],
           "xaxis": "x",
           "y": [
            26.31578947368421
           ],
           "yaxis": "y"
          },
          {
           "alignmentgroup": "True",
           "hovertemplate": "discipline=%{x}<br>annee_publication=2019<br>Proportion des articles mentionnant le genre=%{y}<extra></extra>",
           "legendgroup": "Genre",
           "marker": {
            "color": "#FFA15A",
            "pattern": {
             "shape": ""
            }
           },
           "name": "Genre",
           "offsetgroup": "Genre",
           "orientation": "v",
           "showlegend": true,
           "textposition": "auto",
           "type": "bar",
           "x": [
            "Genre"
           ],
           "xaxis": "x",
           "y": [
            93.05555555555556
           ],
           "yaxis": "y"
          },
          {
           "alignmentgroup": "True",
           "hovertemplate": "discipline=%{x}<br>annee_publication=2019<br>Proportion des articles mentionnant le genre=%{y}<extra></extra>",
           "legendgroup": "Géographie",
           "marker": {
            "color": "#19d3f3",
            "pattern": {
             "shape": ""
            }
           },
           "name": "Géographie",
           "offsetgroup": "Géographie",
           "orientation": "v",
           "showlegend": true,
           "textposition": "auto",
           "type": "bar",
           "x": [
            "Géographie"
           ],
           "xaxis": "x",
           "y": [
            0
           ],
           "yaxis": "y"
          },
          {
           "alignmentgroup": "True",
           "hovertemplate": "discipline=%{x}<br>annee_publication=2019<br>Proportion des articles mentionnant le genre=%{y}<extra></extra>",
           "legendgroup": "Histoire",
           "marker": {
            "color": "#FF6692",
            "pattern": {
             "shape": ""
            }
           },
           "name": "Histoire",
           "offsetgroup": "Histoire",
           "orientation": "v",
           "showlegend": true,
           "textposition": "auto",
           "type": "bar",
           "x": [
            "Histoire"
           ],
           "xaxis": "x",
           "y": [
            4.545454545454546
           ],
           "yaxis": "y"
          },
          {
           "alignmentgroup": "True",
           "hovertemplate": "discipline=%{x}<br>annee_publication=2019<br>Proportion des articles mentionnant le genre=%{y}<extra></extra>",
           "legendgroup": "SIC",
           "marker": {
            "color": "#B6E880",
            "pattern": {
             "shape": ""
            }
           },
           "name": "SIC",
           "offsetgroup": "SIC",
           "orientation": "v",
           "showlegend": true,
           "textposition": "auto",
           "type": "bar",
           "x": [
            "SIC"
           ],
           "xaxis": "x",
           "y": [
            5.232558139534884
           ],
           "yaxis": "y"
          },
          {
           "alignmentgroup": "True",
           "hovertemplate": "discipline=%{x}<br>annee_publication=2019<br>Proportion des articles mentionnant le genre=%{y}<extra></extra>",
           "legendgroup": "Science politique",
           "marker": {
            "color": "#FF97FF",
            "pattern": {
             "shape": ""
            }
           },
           "name": "Science politique",
           "offsetgroup": "Science politique",
           "orientation": "v",
           "showlegend": true,
           "textposition": "auto",
           "type": "bar",
           "x": [
            "Science politique"
           ],
           "xaxis": "x",
           "y": [
            2.7777777777777777
           ],
           "yaxis": "y"
          },
          {
           "alignmentgroup": "True",
           "hovertemplate": "discipline=%{x}<br>annee_publication=2019<br>Proportion des articles mentionnant le genre=%{y}<extra></extra>",
           "legendgroup": "Sociologie",
           "marker": {
            "color": "#FECB52",
            "pattern": {
             "shape": ""
            }
           },
           "name": "Sociologie",
           "offsetgroup": "Sociologie",
           "orientation": "v",
           "showlegend": true,
           "textposition": "auto",
           "type": "bar",
           "x": [
            "Sociologie"
           ],
           "xaxis": "x",
           "y": [
            9.090909090909092
           ],
           "yaxis": "y"
          },
          {
           "alignmentgroup": "True",
           "hovertemplate": "discipline=%{x}<br>annee_publication=2019<br>Proportion des articles mentionnant le genre=%{y}<extra></extra>",
           "legendgroup": "Économie",
           "marker": {
            "color": "#636efa",
            "pattern": {
             "shape": ""
            }
           },
           "name": "Économie",
           "offsetgroup": "Économie",
           "orientation": "v",
           "showlegend": true,
           "textposition": "auto",
           "type": "bar",
           "x": [
            "Économie"
           ],
           "xaxis": "x",
           "y": [
            1.6025641025641024
           ],
           "yaxis": "y"
          }
         ],
         "name": "2019"
        },
        {
         "data": [
          {
           "alignmentgroup": "True",
           "hovertemplate": "discipline=%{x}<br>annee_publication=2020<br>Proportion des articles mentionnant le genre=%{y}<extra></extra>",
           "legendgroup": "Anthropologie",
           "marker": {
            "color": "#636efa",
            "pattern": {
             "shape": ""
            }
           },
           "name": "Anthropologie",
           "offsetgroup": "Anthropologie",
           "orientation": "v",
           "showlegend": true,
           "textposition": "auto",
           "type": "bar",
           "x": [
            "Anthropologie"
           ],
           "xaxis": "x",
           "y": [
            10.666666666666668
           ],
           "yaxis": "y"
          },
          {
           "alignmentgroup": "True",
           "hovertemplate": "discipline=%{x}<br>annee_publication=2020<br>Proportion des articles mentionnant le genre=%{y}<extra></extra>",
           "legendgroup": "Aréale",
           "marker": {
            "color": "#EF553B",
            "pattern": {
             "shape": ""
            }
           },
           "name": "Aréale",
           "offsetgroup": "Aréale",
           "orientation": "v",
           "showlegend": true,
           "textposition": "auto",
           "type": "bar",
           "x": [
            "Aréale"
           ],
           "xaxis": "x",
           "y": [
            5.116279069767442
           ],
           "yaxis": "y"
          },
          {
           "alignmentgroup": "True",
           "hovertemplate": "discipline=%{x}<br>annee_publication=2020<br>Proportion des articles mentionnant le genre=%{y}<extra></extra>",
           "legendgroup": "Autre interdisciplinaire",
           "marker": {
            "color": "#00cc96",
            "pattern": {
             "shape": ""
            }
           },
           "name": "Autre interdisciplinaire",
           "offsetgroup": "Autre interdisciplinaire",
           "orientation": "v",
           "showlegend": true,
           "textposition": "auto",
           "type": "bar",
           "x": [
            "Autre interdisciplinaire"
           ],
           "xaxis": "x",
           "y": [
            11.982570806100219
           ],
           "yaxis": "y"
          },
          {
           "alignmentgroup": "True",
           "hovertemplate": "discipline=%{x}<br>annee_publication=2020<br>Proportion des articles mentionnant le genre=%{y}<extra></extra>",
           "legendgroup": "Démographie",
           "marker": {
            "color": "#ab63fa",
            "pattern": {
             "shape": ""
            }
           },
           "name": "Démographie",
           "offsetgroup": "Démographie",
           "orientation": "v",
           "showlegend": true,
           "textposition": "auto",
           "type": "bar",
           "x": [
            "Démographie"
           ],
           "xaxis": "x",
           "y": [
            28.57142857142857
           ],
           "yaxis": "y"
          },
          {
           "alignmentgroup": "True",
           "hovertemplate": "discipline=%{x}<br>annee_publication=2020<br>Proportion des articles mentionnant le genre=%{y}<extra></extra>",
           "legendgroup": "Genre",
           "marker": {
            "color": "#FFA15A",
            "pattern": {
             "shape": ""
            }
           },
           "name": "Genre",
           "offsetgroup": "Genre",
           "orientation": "v",
           "showlegend": true,
           "textposition": "auto",
           "type": "bar",
           "x": [
            "Genre"
           ],
           "xaxis": "x",
           "y": [
            96
           ],
           "yaxis": "y"
          },
          {
           "alignmentgroup": "True",
           "hovertemplate": "discipline=%{x}<br>annee_publication=2020<br>Proportion des articles mentionnant le genre=%{y}<extra></extra>",
           "legendgroup": "Géographie",
           "marker": {
            "color": "#19d3f3",
            "pattern": {
             "shape": ""
            }
           },
           "name": "Géographie",
           "offsetgroup": "Géographie",
           "orientation": "v",
           "showlegend": true,
           "textposition": "auto",
           "type": "bar",
           "x": [
            "Géographie"
           ],
           "xaxis": "x",
           "y": [
            1.2345679012345678
           ],
           "yaxis": "y"
          },
          {
           "alignmentgroup": "True",
           "hovertemplate": "discipline=%{x}<br>annee_publication=2020<br>Proportion des articles mentionnant le genre=%{y}<extra></extra>",
           "legendgroup": "Histoire",
           "marker": {
            "color": "#FF6692",
            "pattern": {
             "shape": ""
            }
           },
           "name": "Histoire",
           "offsetgroup": "Histoire",
           "orientation": "v",
           "showlegend": true,
           "textposition": "auto",
           "type": "bar",
           "x": [
            "Histoire"
           ],
           "xaxis": "x",
           "y": [
            8.710801393728223
           ],
           "yaxis": "y"
          },
          {
           "alignmentgroup": "True",
           "hovertemplate": "discipline=%{x}<br>annee_publication=2020<br>Proportion des articles mentionnant le genre=%{y}<extra></extra>",
           "legendgroup": "SIC",
           "marker": {
            "color": "#B6E880",
            "pattern": {
             "shape": ""
            }
           },
           "name": "SIC",
           "offsetgroup": "SIC",
           "orientation": "v",
           "showlegend": true,
           "textposition": "auto",
           "type": "bar",
           "x": [
            "SIC"
           ],
           "xaxis": "x",
           "y": [
            6.081081081081082
           ],
           "yaxis": "y"
          },
          {
           "alignmentgroup": "True",
           "hovertemplate": "discipline=%{x}<br>annee_publication=2020<br>Proportion des articles mentionnant le genre=%{y}<extra></extra>",
           "legendgroup": "Science politique",
           "marker": {
            "color": "#FF97FF",
            "pattern": {
             "shape": ""
            }
           },
           "name": "Science politique",
           "offsetgroup": "Science politique",
           "orientation": "v",
           "showlegend": true,
           "textposition": "auto",
           "type": "bar",
           "x": [
            "Science politique"
           ],
           "xaxis": "x",
           "y": [
            6.563706563706563
           ],
           "yaxis": "y"
          },
          {
           "alignmentgroup": "True",
           "hovertemplate": "discipline=%{x}<br>annee_publication=2020<br>Proportion des articles mentionnant le genre=%{y}<extra></extra>",
           "legendgroup": "Sociologie",
           "marker": {
            "color": "#FECB52",
            "pattern": {
             "shape": ""
            }
           },
           "name": "Sociologie",
           "offsetgroup": "Sociologie",
           "orientation": "v",
           "showlegend": true,
           "textposition": "auto",
           "type": "bar",
           "x": [
            "Sociologie"
           ],
           "xaxis": "x",
           "y": [
            9.554140127388536
           ],
           "yaxis": "y"
          },
          {
           "alignmentgroup": "True",
           "hovertemplate": "discipline=%{x}<br>annee_publication=2020<br>Proportion des articles mentionnant le genre=%{y}<extra></extra>",
           "legendgroup": "Économie",
           "marker": {
            "color": "#636efa",
            "pattern": {
             "shape": ""
            }
           },
           "name": "Économie",
           "offsetgroup": "Économie",
           "orientation": "v",
           "showlegend": true,
           "textposition": "auto",
           "type": "bar",
           "x": [
            "Économie"
           ],
           "xaxis": "x",
           "y": [
            2.8368794326241136
           ],
           "yaxis": "y"
          }
         ],
         "name": "2020"
        },
        {
         "data": [
          {
           "alignmentgroup": "True",
           "hovertemplate": "discipline=%{x}<br>annee_publication=2021<br>Proportion des articles mentionnant le genre=%{y}<extra></extra>",
           "legendgroup": "Anthropologie",
           "marker": {
            "color": "#636efa",
            "pattern": {
             "shape": ""
            }
           },
           "name": "Anthropologie",
           "offsetgroup": "Anthropologie",
           "orientation": "v",
           "showlegend": true,
           "textposition": "auto",
           "type": "bar",
           "x": [
            "Anthropologie"
           ],
           "xaxis": "x",
           "y": [
            7.920792079207921
           ],
           "yaxis": "y"
          },
          {
           "alignmentgroup": "True",
           "hovertemplate": "discipline=%{x}<br>annee_publication=2021<br>Proportion des articles mentionnant le genre=%{y}<extra></extra>",
           "legendgroup": "Aréale",
           "marker": {
            "color": "#EF553B",
            "pattern": {
             "shape": ""
            }
           },
           "name": "Aréale",
           "offsetgroup": "Aréale",
           "orientation": "v",
           "showlegend": true,
           "textposition": "auto",
           "type": "bar",
           "x": [
            "Aréale"
           ],
           "xaxis": "x",
           "y": [
            9.34959349593496
           ],
           "yaxis": "y"
          },
          {
           "alignmentgroup": "True",
           "hovertemplate": "discipline=%{x}<br>annee_publication=2021<br>Proportion des articles mentionnant le genre=%{y}<extra></extra>",
           "legendgroup": "Autre interdisciplinaire",
           "marker": {
            "color": "#00cc96",
            "pattern": {
             "shape": ""
            }
           },
           "name": "Autre interdisciplinaire",
           "offsetgroup": "Autre interdisciplinaire",
           "orientation": "v",
           "showlegend": true,
           "textposition": "auto",
           "type": "bar",
           "x": [
            "Autre interdisciplinaire"
           ],
           "xaxis": "x",
           "y": [
            12.401574803149607
           ],
           "yaxis": "y"
          },
          {
           "alignmentgroup": "True",
           "hovertemplate": "discipline=%{x}<br>annee_publication=2021<br>Proportion des articles mentionnant le genre=%{y}<extra></extra>",
           "legendgroup": "Démographie",
           "marker": {
            "color": "#ab63fa",
            "pattern": {
             "shape": ""
            }
           },
           "name": "Démographie",
           "offsetgroup": "Démographie",
           "orientation": "v",
           "showlegend": true,
           "textposition": "auto",
           "type": "bar",
           "x": [
            "Démographie"
           ],
           "xaxis": "x",
           "y": [
            17.24137931034483
           ],
           "yaxis": "y"
          },
          {
           "alignmentgroup": "True",
           "hovertemplate": "discipline=%{x}<br>annee_publication=2021<br>Proportion des articles mentionnant le genre=%{y}<extra></extra>",
           "legendgroup": "Genre",
           "marker": {
            "color": "#FFA15A",
            "pattern": {
             "shape": ""
            }
           },
           "name": "Genre",
           "offsetgroup": "Genre",
           "orientation": "v",
           "showlegend": true,
           "textposition": "auto",
           "type": "bar",
           "x": [
            "Genre"
           ],
           "xaxis": "x",
           "y": [
            94.3820224719101
           ],
           "yaxis": "y"
          },
          {
           "alignmentgroup": "True",
           "hovertemplate": "discipline=%{x}<br>annee_publication=2021<br>Proportion des articles mentionnant le genre=%{y}<extra></extra>",
           "legendgroup": "Géographie",
           "marker": {
            "color": "#19d3f3",
            "pattern": {
             "shape": ""
            }
           },
           "name": "Géographie",
           "offsetgroup": "Géographie",
           "orientation": "v",
           "showlegend": true,
           "textposition": "auto",
           "type": "bar",
           "x": [
            "Géographie"
           ],
           "xaxis": "x",
           "y": [
            2.3529411764705883
           ],
           "yaxis": "y"
          },
          {
           "alignmentgroup": "True",
           "hovertemplate": "discipline=%{x}<br>annee_publication=2021<br>Proportion des articles mentionnant le genre=%{y}<extra></extra>",
           "legendgroup": "Histoire",
           "marker": {
            "color": "#FF6692",
            "pattern": {
             "shape": ""
            }
           },
           "name": "Histoire",
           "offsetgroup": "Histoire",
           "orientation": "v",
           "showlegend": true,
           "textposition": "auto",
           "type": "bar",
           "x": [
            "Histoire"
           ],
           "xaxis": "x",
           "y": [
            5.3156146179401995
           ],
           "yaxis": "y"
          },
          {
           "alignmentgroup": "True",
           "hovertemplate": "discipline=%{x}<br>annee_publication=2021<br>Proportion des articles mentionnant le genre=%{y}<extra></extra>",
           "legendgroup": "SIC",
           "marker": {
            "color": "#B6E880",
            "pattern": {
             "shape": ""
            }
           },
           "name": "SIC",
           "offsetgroup": "SIC",
           "orientation": "v",
           "showlegend": true,
           "textposition": "auto",
           "type": "bar",
           "x": [
            "SIC"
           ],
           "xaxis": "x",
           "y": [
            2.1505376344086025
           ],
           "yaxis": "y"
          },
          {
           "alignmentgroup": "True",
           "hovertemplate": "discipline=%{x}<br>annee_publication=2021<br>Proportion des articles mentionnant le genre=%{y}<extra></extra>",
           "legendgroup": "Science politique",
           "marker": {
            "color": "#FF97FF",
            "pattern": {
             "shape": ""
            }
           },
           "name": "Science politique",
           "offsetgroup": "Science politique",
           "orientation": "v",
           "showlegend": true,
           "textposition": "auto",
           "type": "bar",
           "x": [
            "Science politique"
           ],
           "xaxis": "x",
           "y": [
            5.30035335689046
           ],
           "yaxis": "y"
          },
          {
           "alignmentgroup": "True",
           "hovertemplate": "discipline=%{x}<br>annee_publication=2021<br>Proportion des articles mentionnant le genre=%{y}<extra></extra>",
           "legendgroup": "Sociologie",
           "marker": {
            "color": "#FECB52",
            "pattern": {
             "shape": ""
            }
           },
           "name": "Sociologie",
           "offsetgroup": "Sociologie",
           "orientation": "v",
           "showlegend": true,
           "textposition": "auto",
           "type": "bar",
           "x": [
            "Sociologie"
           ],
           "xaxis": "x",
           "y": [
            8.123249299719888
           ],
           "yaxis": "y"
          },
          {
           "alignmentgroup": "True",
           "hovertemplate": "discipline=%{x}<br>annee_publication=2021<br>Proportion des articles mentionnant le genre=%{y}<extra></extra>",
           "legendgroup": "Économie",
           "marker": {
            "color": "#636efa",
            "pattern": {
             "shape": ""
            }
           },
           "name": "Économie",
           "offsetgroup": "Économie",
           "orientation": "v",
           "showlegend": true,
           "textposition": "auto",
           "type": "bar",
           "x": [
            "Économie"
           ],
           "xaxis": "x",
           "y": [
            3.5031847133757963
           ],
           "yaxis": "y"
          }
         ],
         "name": "2021"
        },
        {
         "data": [
          {
           "alignmentgroup": "True",
           "hovertemplate": "discipline=%{x}<br>annee_publication=2022<br>Proportion des articles mentionnant le genre=%{y}<extra></extra>",
           "legendgroup": "Anthropologie",
           "marker": {
            "color": "#636efa",
            "pattern": {
             "shape": ""
            }
           },
           "name": "Anthropologie",
           "offsetgroup": "Anthropologie",
           "orientation": "v",
           "showlegend": true,
           "textposition": "auto",
           "type": "bar",
           "x": [
            "Anthropologie"
           ],
           "xaxis": "x",
           "y": [
            6.302521008403361
           ],
           "yaxis": "y"
          },
          {
           "alignmentgroup": "True",
           "hovertemplate": "discipline=%{x}<br>annee_publication=2022<br>Proportion des articles mentionnant le genre=%{y}<extra></extra>",
           "legendgroup": "Aréale",
           "marker": {
            "color": "#EF553B",
            "pattern": {
             "shape": ""
            }
           },
           "name": "Aréale",
           "offsetgroup": "Aréale",
           "orientation": "v",
           "showlegend": true,
           "textposition": "auto",
           "type": "bar",
           "x": [
            "Aréale"
           ],
           "xaxis": "x",
           "y": [
            10.24390243902439
           ],
           "yaxis": "y"
          },
          {
           "alignmentgroup": "True",
           "hovertemplate": "discipline=%{x}<br>annee_publication=2022<br>Proportion des articles mentionnant le genre=%{y}<extra></extra>",
           "legendgroup": "Autre interdisciplinaire",
           "marker": {
            "color": "#00cc96",
            "pattern": {
             "shape": ""
            }
           },
           "name": "Autre interdisciplinaire",
           "offsetgroup": "Autre interdisciplinaire",
           "orientation": "v",
           "showlegend": true,
           "textposition": "auto",
           "type": "bar",
           "x": [
            "Autre interdisciplinaire"
           ],
           "xaxis": "x",
           "y": [
            8.897485493230175
           ],
           "yaxis": "y"
          },
          {
           "alignmentgroup": "True",
           "hovertemplate": "discipline=%{x}<br>annee_publication=2022<br>Proportion des articles mentionnant le genre=%{y}<extra></extra>",
           "legendgroup": "Démographie",
           "marker": {
            "color": "#ab63fa",
            "pattern": {
             "shape": ""
            }
           },
           "name": "Démographie",
           "offsetgroup": "Démographie",
           "orientation": "v",
           "showlegend": true,
           "textposition": "auto",
           "type": "bar",
           "x": [
            "Démographie"
           ],
           "xaxis": "x",
           "y": [
            32.142857142857146
           ],
           "yaxis": "y"
          },
          {
           "alignmentgroup": "True",
           "hovertemplate": "discipline=%{x}<br>annee_publication=2022<br>Proportion des articles mentionnant le genre=%{y}<extra></extra>",
           "legendgroup": "Genre",
           "marker": {
            "color": "#FFA15A",
            "pattern": {
             "shape": ""
            }
           },
           "name": "Genre",
           "offsetgroup": "Genre",
           "orientation": "v",
           "showlegend": true,
           "textposition": "auto",
           "type": "bar",
           "x": [
            "Genre"
           ],
           "xaxis": "x",
           "y": [
            91.25
           ],
           "yaxis": "y"
          },
          {
           "alignmentgroup": "True",
           "hovertemplate": "discipline=%{x}<br>annee_publication=2022<br>Proportion des articles mentionnant le genre=%{y}<extra></extra>",
           "legendgroup": "Géographie",
           "marker": {
            "color": "#19d3f3",
            "pattern": {
             "shape": ""
            }
           },
           "name": "Géographie",
           "offsetgroup": "Géographie",
           "orientation": "v",
           "showlegend": true,
           "textposition": "auto",
           "type": "bar",
           "x": [
            "Géographie"
           ],
           "xaxis": "x",
           "y": [
            2.631578947368421
           ],
           "yaxis": "y"
          },
          {
           "alignmentgroup": "True",
           "hovertemplate": "discipline=%{x}<br>annee_publication=2022<br>Proportion des articles mentionnant le genre=%{y}<extra></extra>",
           "legendgroup": "Histoire",
           "marker": {
            "color": "#FF6692",
            "pattern": {
             "shape": ""
            }
           },
           "name": "Histoire",
           "offsetgroup": "Histoire",
           "orientation": "v",
           "showlegend": true,
           "textposition": "auto",
           "type": "bar",
           "x": [
            "Histoire"
           ],
           "xaxis": "x",
           "y": [
            8.544303797468354
           ],
           "yaxis": "y"
          },
          {
           "alignmentgroup": "True",
           "hovertemplate": "discipline=%{x}<br>annee_publication=2022<br>Proportion des articles mentionnant le genre=%{y}<extra></extra>",
           "legendgroup": "SIC",
           "marker": {
            "color": "#B6E880",
            "pattern": {
             "shape": ""
            }
           },
           "name": "SIC",
           "offsetgroup": "SIC",
           "orientation": "v",
           "showlegend": true,
           "textposition": "auto",
           "type": "bar",
           "x": [
            "SIC"
           ],
           "xaxis": "x",
           "y": [
            4.444444444444445
           ],
           "yaxis": "y"
          },
          {
           "alignmentgroup": "True",
           "hovertemplate": "discipline=%{x}<br>annee_publication=2022<br>Proportion des articles mentionnant le genre=%{y}<extra></extra>",
           "legendgroup": "Science politique",
           "marker": {
            "color": "#FF97FF",
            "pattern": {
             "shape": ""
            }
           },
           "name": "Science politique",
           "offsetgroup": "Science politique",
           "orientation": "v",
           "showlegend": true,
           "textposition": "auto",
           "type": "bar",
           "x": [
            "Science politique"
           ],
           "xaxis": "x",
           "y": [
            8.96551724137931
           ],
           "yaxis": "y"
          },
          {
           "alignmentgroup": "True",
           "hovertemplate": "discipline=%{x}<br>annee_publication=2022<br>Proportion des articles mentionnant le genre=%{y}<extra></extra>",
           "legendgroup": "Sociologie",
           "marker": {
            "color": "#FECB52",
            "pattern": {
             "shape": ""
            }
           },
           "name": "Sociologie",
           "offsetgroup": "Sociologie",
           "orientation": "v",
           "showlegend": true,
           "textposition": "auto",
           "type": "bar",
           "x": [
            "Sociologie"
           ],
           "xaxis": "x",
           "y": [
            15.841584158415841
           ],
           "yaxis": "y"
          },
          {
           "alignmentgroup": "True",
           "hovertemplate": "discipline=%{x}<br>annee_publication=2022<br>Proportion des articles mentionnant le genre=%{y}<extra></extra>",
           "legendgroup": "Économie",
           "marker": {
            "color": "#636efa",
            "pattern": {
             "shape": ""
            }
           },
           "name": "Économie",
           "offsetgroup": "Économie",
           "orientation": "v",
           "showlegend": true,
           "textposition": "auto",
           "type": "bar",
           "x": [
            "Économie"
           ],
           "xaxis": "x",
           "y": [
            3.296703296703297
           ],
           "yaxis": "y"
          }
         ],
         "name": "2022"
        }
       ],
       "layout": {
        "barmode": "relative",
        "legend": {
         "title": {
          "text": "discipline"
         },
         "tracegroupgap": 0
        },
        "margin": {
         "t": 60
        },
        "sliders": [
         {
          "active": 0,
          "currentvalue": {
           "prefix": "annee_publication="
          },
          "len": 0.9,
          "pad": {
           "b": 10,
           "t": 60
          },
          "steps": [
           {
            "args": [
             [
              "2001"
             ],
             {
              "frame": {
               "duration": 0,
               "redraw": true
              },
              "fromcurrent": true,
              "mode": "immediate",
              "transition": {
               "duration": 0,
               "easing": "linear"
              }
             }
            ],
            "label": "2001",
            "method": "animate"
           },
           {
            "args": [
             [
              "2002"
             ],
             {
              "frame": {
               "duration": 0,
               "redraw": true
              },
              "fromcurrent": true,
              "mode": "immediate",
              "transition": {
               "duration": 0,
               "easing": "linear"
              }
             }
            ],
            "label": "2002",
            "method": "animate"
           },
           {
            "args": [
             [
              "2003"
             ],
             {
              "frame": {
               "duration": 0,
               "redraw": true
              },
              "fromcurrent": true,
              "mode": "immediate",
              "transition": {
               "duration": 0,
               "easing": "linear"
              }
             }
            ],
            "label": "2003",
            "method": "animate"
           },
           {
            "args": [
             [
              "2004"
             ],
             {
              "frame": {
               "duration": 0,
               "redraw": true
              },
              "fromcurrent": true,
              "mode": "immediate",
              "transition": {
               "duration": 0,
               "easing": "linear"
              }
             }
            ],
            "label": "2004",
            "method": "animate"
           },
           {
            "args": [
             [
              "2005"
             ],
             {
              "frame": {
               "duration": 0,
               "redraw": true
              },
              "fromcurrent": true,
              "mode": "immediate",
              "transition": {
               "duration": 0,
               "easing": "linear"
              }
             }
            ],
            "label": "2005",
            "method": "animate"
           },
           {
            "args": [
             [
              "2006"
             ],
             {
              "frame": {
               "duration": 0,
               "redraw": true
              },
              "fromcurrent": true,
              "mode": "immediate",
              "transition": {
               "duration": 0,
               "easing": "linear"
              }
             }
            ],
            "label": "2006",
            "method": "animate"
           },
           {
            "args": [
             [
              "2007"
             ],
             {
              "frame": {
               "duration": 0,
               "redraw": true
              },
              "fromcurrent": true,
              "mode": "immediate",
              "transition": {
               "duration": 0,
               "easing": "linear"
              }
             }
            ],
            "label": "2007",
            "method": "animate"
           },
           {
            "args": [
             [
              "2008"
             ],
             {
              "frame": {
               "duration": 0,
               "redraw": true
              },
              "fromcurrent": true,
              "mode": "immediate",
              "transition": {
               "duration": 0,
               "easing": "linear"
              }
             }
            ],
            "label": "2008",
            "method": "animate"
           },
           {
            "args": [
             [
              "2009"
             ],
             {
              "frame": {
               "duration": 0,
               "redraw": true
              },
              "fromcurrent": true,
              "mode": "immediate",
              "transition": {
               "duration": 0,
               "easing": "linear"
              }
             }
            ],
            "label": "2009",
            "method": "animate"
           },
           {
            "args": [
             [
              "2010"
             ],
             {
              "frame": {
               "duration": 0,
               "redraw": true
              },
              "fromcurrent": true,
              "mode": "immediate",
              "transition": {
               "duration": 0,
               "easing": "linear"
              }
             }
            ],
            "label": "2010",
            "method": "animate"
           },
           {
            "args": [
             [
              "2011"
             ],
             {
              "frame": {
               "duration": 0,
               "redraw": true
              },
              "fromcurrent": true,
              "mode": "immediate",
              "transition": {
               "duration": 0,
               "easing": "linear"
              }
             }
            ],
            "label": "2011",
            "method": "animate"
           },
           {
            "args": [
             [
              "2012"
             ],
             {
              "frame": {
               "duration": 0,
               "redraw": true
              },
              "fromcurrent": true,
              "mode": "immediate",
              "transition": {
               "duration": 0,
               "easing": "linear"
              }
             }
            ],
            "label": "2012",
            "method": "animate"
           },
           {
            "args": [
             [
              "2013"
             ],
             {
              "frame": {
               "duration": 0,
               "redraw": true
              },
              "fromcurrent": true,
              "mode": "immediate",
              "transition": {
               "duration": 0,
               "easing": "linear"
              }
             }
            ],
            "label": "2013",
            "method": "animate"
           },
           {
            "args": [
             [
              "2014"
             ],
             {
              "frame": {
               "duration": 0,
               "redraw": true
              },
              "fromcurrent": true,
              "mode": "immediate",
              "transition": {
               "duration": 0,
               "easing": "linear"
              }
             }
            ],
            "label": "2014",
            "method": "animate"
           },
           {
            "args": [
             [
              "2015"
             ],
             {
              "frame": {
               "duration": 0,
               "redraw": true
              },
              "fromcurrent": true,
              "mode": "immediate",
              "transition": {
               "duration": 0,
               "easing": "linear"
              }
             }
            ],
            "label": "2015",
            "method": "animate"
           },
           {
            "args": [
             [
              "2016"
             ],
             {
              "frame": {
               "duration": 0,
               "redraw": true
              },
              "fromcurrent": true,
              "mode": "immediate",
              "transition": {
               "duration": 0,
               "easing": "linear"
              }
             }
            ],
            "label": "2016",
            "method": "animate"
           },
           {
            "args": [
             [
              "2017"
             ],
             {
              "frame": {
               "duration": 0,
               "redraw": true
              },
              "fromcurrent": true,
              "mode": "immediate",
              "transition": {
               "duration": 0,
               "easing": "linear"
              }
             }
            ],
            "label": "2017",
            "method": "animate"
           },
           {
            "args": [
             [
              "2018"
             ],
             {
              "frame": {
               "duration": 0,
               "redraw": true
              },
              "fromcurrent": true,
              "mode": "immediate",
              "transition": {
               "duration": 0,
               "easing": "linear"
              }
             }
            ],
            "label": "2018",
            "method": "animate"
           },
           {
            "args": [
             [
              "2019"
             ],
             {
              "frame": {
               "duration": 0,
               "redraw": true
              },
              "fromcurrent": true,
              "mode": "immediate",
              "transition": {
               "duration": 0,
               "easing": "linear"
              }
             }
            ],
            "label": "2019",
            "method": "animate"
           },
           {
            "args": [
             [
              "2020"
             ],
             {
              "frame": {
               "duration": 0,
               "redraw": true
              },
              "fromcurrent": true,
              "mode": "immediate",
              "transition": {
               "duration": 0,
               "easing": "linear"
              }
             }
            ],
            "label": "2020",
            "method": "animate"
           },
           {
            "args": [
             [
              "2021"
             ],
             {
              "frame": {
               "duration": 0,
               "redraw": true
              },
              "fromcurrent": true,
              "mode": "immediate",
              "transition": {
               "duration": 0,
               "easing": "linear"
              }
             }
            ],
            "label": "2021",
            "method": "animate"
           },
           {
            "args": [
             [
              "2022"
             ],
             {
              "frame": {
               "duration": 0,
               "redraw": true
              },
              "fromcurrent": true,
              "mode": "immediate",
              "transition": {
               "duration": 0,
               "easing": "linear"
              }
             }
            ],
            "label": "2022",
            "method": "animate"
           }
          ],
          "x": 0.1,
          "xanchor": "left",
          "y": 0,
          "yanchor": "top"
         }
        ],
        "template": {
         "data": {
          "bar": [
           {
            "error_x": {
             "color": "#2a3f5f"
            },
            "error_y": {
             "color": "#2a3f5f"
            },
            "marker": {
             "line": {
              "color": "#E5ECF6",
              "width": 0.5
             },
             "pattern": {
              "fillmode": "overlay",
              "size": 10,
              "solidity": 0.2
             }
            },
            "type": "bar"
           }
          ],
          "barpolar": [
           {
            "marker": {
             "line": {
              "color": "#E5ECF6",
              "width": 0.5
             },
             "pattern": {
              "fillmode": "overlay",
              "size": 10,
              "solidity": 0.2
             }
            },
            "type": "barpolar"
           }
          ],
          "carpet": [
           {
            "aaxis": {
             "endlinecolor": "#2a3f5f",
             "gridcolor": "white",
             "linecolor": "white",
             "minorgridcolor": "white",
             "startlinecolor": "#2a3f5f"
            },
            "baxis": {
             "endlinecolor": "#2a3f5f",
             "gridcolor": "white",
             "linecolor": "white",
             "minorgridcolor": "white",
             "startlinecolor": "#2a3f5f"
            },
            "type": "carpet"
           }
          ],
          "choropleth": [
           {
            "colorbar": {
             "outlinewidth": 0,
             "ticks": ""
            },
            "type": "choropleth"
           }
          ],
          "contour": [
           {
            "colorbar": {
             "outlinewidth": 0,
             "ticks": ""
            },
            "colorscale": [
             [
              0,
              "#0d0887"
             ],
             [
              0.1111111111111111,
              "#46039f"
             ],
             [
              0.2222222222222222,
              "#7201a8"
             ],
             [
              0.3333333333333333,
              "#9c179e"
             ],
             [
              0.4444444444444444,
              "#bd3786"
             ],
             [
              0.5555555555555556,
              "#d8576b"
             ],
             [
              0.6666666666666666,
              "#ed7953"
             ],
             [
              0.7777777777777778,
              "#fb9f3a"
             ],
             [
              0.8888888888888888,
              "#fdca26"
             ],
             [
              1,
              "#f0f921"
             ]
            ],
            "type": "contour"
           }
          ],
          "contourcarpet": [
           {
            "colorbar": {
             "outlinewidth": 0,
             "ticks": ""
            },
            "type": "contourcarpet"
           }
          ],
          "heatmap": [
           {
            "colorbar": {
             "outlinewidth": 0,
             "ticks": ""
            },
            "colorscale": [
             [
              0,
              "#0d0887"
             ],
             [
              0.1111111111111111,
              "#46039f"
             ],
             [
              0.2222222222222222,
              "#7201a8"
             ],
             [
              0.3333333333333333,
              "#9c179e"
             ],
             [
              0.4444444444444444,
              "#bd3786"
             ],
             [
              0.5555555555555556,
              "#d8576b"
             ],
             [
              0.6666666666666666,
              "#ed7953"
             ],
             [
              0.7777777777777778,
              "#fb9f3a"
             ],
             [
              0.8888888888888888,
              "#fdca26"
             ],
             [
              1,
              "#f0f921"
             ]
            ],
            "type": "heatmap"
           }
          ],
          "heatmapgl": [
           {
            "colorbar": {
             "outlinewidth": 0,
             "ticks": ""
            },
            "colorscale": [
             [
              0,
              "#0d0887"
             ],
             [
              0.1111111111111111,
              "#46039f"
             ],
             [
              0.2222222222222222,
              "#7201a8"
             ],
             [
              0.3333333333333333,
              "#9c179e"
             ],
             [
              0.4444444444444444,
              "#bd3786"
             ],
             [
              0.5555555555555556,
              "#d8576b"
             ],
             [
              0.6666666666666666,
              "#ed7953"
             ],
             [
              0.7777777777777778,
              "#fb9f3a"
             ],
             [
              0.8888888888888888,
              "#fdca26"
             ],
             [
              1,
              "#f0f921"
             ]
            ],
            "type": "heatmapgl"
           }
          ],
          "histogram": [
           {
            "marker": {
             "pattern": {
              "fillmode": "overlay",
              "size": 10,
              "solidity": 0.2
             }
            },
            "type": "histogram"
           }
          ],
          "histogram2d": [
           {
            "colorbar": {
             "outlinewidth": 0,
             "ticks": ""
            },
            "colorscale": [
             [
              0,
              "#0d0887"
             ],
             [
              0.1111111111111111,
              "#46039f"
             ],
             [
              0.2222222222222222,
              "#7201a8"
             ],
             [
              0.3333333333333333,
              "#9c179e"
             ],
             [
              0.4444444444444444,
              "#bd3786"
             ],
             [
              0.5555555555555556,
              "#d8576b"
             ],
             [
              0.6666666666666666,
              "#ed7953"
             ],
             [
              0.7777777777777778,
              "#fb9f3a"
             ],
             [
              0.8888888888888888,
              "#fdca26"
             ],
             [
              1,
              "#f0f921"
             ]
            ],
            "type": "histogram2d"
           }
          ],
          "histogram2dcontour": [
           {
            "colorbar": {
             "outlinewidth": 0,
             "ticks": ""
            },
            "colorscale": [
             [
              0,
              "#0d0887"
             ],
             [
              0.1111111111111111,
              "#46039f"
             ],
             [
              0.2222222222222222,
              "#7201a8"
             ],
             [
              0.3333333333333333,
              "#9c179e"
             ],
             [
              0.4444444444444444,
              "#bd3786"
             ],
             [
              0.5555555555555556,
              "#d8576b"
             ],
             [
              0.6666666666666666,
              "#ed7953"
             ],
             [
              0.7777777777777778,
              "#fb9f3a"
             ],
             [
              0.8888888888888888,
              "#fdca26"
             ],
             [
              1,
              "#f0f921"
             ]
            ],
            "type": "histogram2dcontour"
           }
          ],
          "mesh3d": [
           {
            "colorbar": {
             "outlinewidth": 0,
             "ticks": ""
            },
            "type": "mesh3d"
           }
          ],
          "parcoords": [
           {
            "line": {
             "colorbar": {
              "outlinewidth": 0,
              "ticks": ""
             }
            },
            "type": "parcoords"
           }
          ],
          "pie": [
           {
            "automargin": true,
            "type": "pie"
           }
          ],
          "scatter": [
           {
            "fillpattern": {
             "fillmode": "overlay",
             "size": 10,
             "solidity": 0.2
            },
            "type": "scatter"
           }
          ],
          "scatter3d": [
           {
            "line": {
             "colorbar": {
              "outlinewidth": 0,
              "ticks": ""
             }
            },
            "marker": {
             "colorbar": {
              "outlinewidth": 0,
              "ticks": ""
             }
            },
            "type": "scatter3d"
           }
          ],
          "scattercarpet": [
           {
            "marker": {
             "colorbar": {
              "outlinewidth": 0,
              "ticks": ""
             }
            },
            "type": "scattercarpet"
           }
          ],
          "scattergeo": [
           {
            "marker": {
             "colorbar": {
              "outlinewidth": 0,
              "ticks": ""
             }
            },
            "type": "scattergeo"
           }
          ],
          "scattergl": [
           {
            "marker": {
             "colorbar": {
              "outlinewidth": 0,
              "ticks": ""
             }
            },
            "type": "scattergl"
           }
          ],
          "scattermapbox": [
           {
            "marker": {
             "colorbar": {
              "outlinewidth": 0,
              "ticks": ""
             }
            },
            "type": "scattermapbox"
           }
          ],
          "scatterpolar": [
           {
            "marker": {
             "colorbar": {
              "outlinewidth": 0,
              "ticks": ""
             }
            },
            "type": "scatterpolar"
           }
          ],
          "scatterpolargl": [
           {
            "marker": {
             "colorbar": {
              "outlinewidth": 0,
              "ticks": ""
             }
            },
            "type": "scatterpolargl"
           }
          ],
          "scatterternary": [
           {
            "marker": {
             "colorbar": {
              "outlinewidth": 0,
              "ticks": ""
             }
            },
            "type": "scatterternary"
           }
          ],
          "surface": [
           {
            "colorbar": {
             "outlinewidth": 0,
             "ticks": ""
            },
            "colorscale": [
             [
              0,
              "#0d0887"
             ],
             [
              0.1111111111111111,
              "#46039f"
             ],
             [
              0.2222222222222222,
              "#7201a8"
             ],
             [
              0.3333333333333333,
              "#9c179e"
             ],
             [
              0.4444444444444444,
              "#bd3786"
             ],
             [
              0.5555555555555556,
              "#d8576b"
             ],
             [
              0.6666666666666666,
              "#ed7953"
             ],
             [
              0.7777777777777778,
              "#fb9f3a"
             ],
             [
              0.8888888888888888,
              "#fdca26"
             ],
             [
              1,
              "#f0f921"
             ]
            ],
            "type": "surface"
           }
          ],
          "table": [
           {
            "cells": {
             "fill": {
              "color": "#EBF0F8"
             },
             "line": {
              "color": "white"
             }
            },
            "header": {
             "fill": {
              "color": "#C8D4E3"
             },
             "line": {
              "color": "white"
             }
            },
            "type": "table"
           }
          ]
         },
         "layout": {
          "annotationdefaults": {
           "arrowcolor": "#2a3f5f",
           "arrowhead": 0,
           "arrowwidth": 1
          },
          "autotypenumbers": "strict",
          "coloraxis": {
           "colorbar": {
            "outlinewidth": 0,
            "ticks": ""
           }
          },
          "colorscale": {
           "diverging": [
            [
             0,
             "#8e0152"
            ],
            [
             0.1,
             "#c51b7d"
            ],
            [
             0.2,
             "#de77ae"
            ],
            [
             0.3,
             "#f1b6da"
            ],
            [
             0.4,
             "#fde0ef"
            ],
            [
             0.5,
             "#f7f7f7"
            ],
            [
             0.6,
             "#e6f5d0"
            ],
            [
             0.7,
             "#b8e186"
            ],
            [
             0.8,
             "#7fbc41"
            ],
            [
             0.9,
             "#4d9221"
            ],
            [
             1,
             "#276419"
            ]
           ],
           "sequential": [
            [
             0,
             "#0d0887"
            ],
            [
             0.1111111111111111,
             "#46039f"
            ],
            [
             0.2222222222222222,
             "#7201a8"
            ],
            [
             0.3333333333333333,
             "#9c179e"
            ],
            [
             0.4444444444444444,
             "#bd3786"
            ],
            [
             0.5555555555555556,
             "#d8576b"
            ],
            [
             0.6666666666666666,
             "#ed7953"
            ],
            [
             0.7777777777777778,
             "#fb9f3a"
            ],
            [
             0.8888888888888888,
             "#fdca26"
            ],
            [
             1,
             "#f0f921"
            ]
           ],
           "sequentialminus": [
            [
             0,
             "#0d0887"
            ],
            [
             0.1111111111111111,
             "#46039f"
            ],
            [
             0.2222222222222222,
             "#7201a8"
            ],
            [
             0.3333333333333333,
             "#9c179e"
            ],
            [
             0.4444444444444444,
             "#bd3786"
            ],
            [
             0.5555555555555556,
             "#d8576b"
            ],
            [
             0.6666666666666666,
             "#ed7953"
            ],
            [
             0.7777777777777778,
             "#fb9f3a"
            ],
            [
             0.8888888888888888,
             "#fdca26"
            ],
            [
             1,
             "#f0f921"
            ]
           ]
          },
          "colorway": [
           "#636efa",
           "#EF553B",
           "#00cc96",
           "#ab63fa",
           "#FFA15A",
           "#19d3f3",
           "#FF6692",
           "#B6E880",
           "#FF97FF",
           "#FECB52"
          ],
          "font": {
           "color": "#2a3f5f"
          },
          "geo": {
           "bgcolor": "white",
           "lakecolor": "white",
           "landcolor": "#E5ECF6",
           "showlakes": true,
           "showland": true,
           "subunitcolor": "white"
          },
          "hoverlabel": {
           "align": "left"
          },
          "hovermode": "closest",
          "mapbox": {
           "style": "light"
          },
          "paper_bgcolor": "white",
          "plot_bgcolor": "#E5ECF6",
          "polar": {
           "angularaxis": {
            "gridcolor": "white",
            "linecolor": "white",
            "ticks": ""
           },
           "bgcolor": "#E5ECF6",
           "radialaxis": {
            "gridcolor": "white",
            "linecolor": "white",
            "ticks": ""
           }
          },
          "scene": {
           "xaxis": {
            "backgroundcolor": "#E5ECF6",
            "gridcolor": "white",
            "gridwidth": 2,
            "linecolor": "white",
            "showbackground": true,
            "ticks": "",
            "zerolinecolor": "white"
           },
           "yaxis": {
            "backgroundcolor": "#E5ECF6",
            "gridcolor": "white",
            "gridwidth": 2,
            "linecolor": "white",
            "showbackground": true,
            "ticks": "",
            "zerolinecolor": "white"
           },
           "zaxis": {
            "backgroundcolor": "#E5ECF6",
            "gridcolor": "white",
            "gridwidth": 2,
            "linecolor": "white",
            "showbackground": true,
            "ticks": "",
            "zerolinecolor": "white"
           }
          },
          "shapedefaults": {
           "line": {
            "color": "#2a3f5f"
           }
          },
          "ternary": {
           "aaxis": {
            "gridcolor": "white",
            "linecolor": "white",
            "ticks": ""
           },
           "baxis": {
            "gridcolor": "white",
            "linecolor": "white",
            "ticks": ""
           },
           "bgcolor": "#E5ECF6",
           "caxis": {
            "gridcolor": "white",
            "linecolor": "white",
            "ticks": ""
           }
          },
          "title": {
           "x": 0.05
          },
          "xaxis": {
           "automargin": true,
           "gridcolor": "white",
           "linecolor": "white",
           "ticks": "",
           "title": {
            "standoff": 15
           },
           "zerolinecolor": "white",
           "zerolinewidth": 2
          },
          "yaxis": {
           "automargin": true,
           "gridcolor": "white",
           "linecolor": "white",
           "ticks": "",
           "title": {
            "standoff": 15
           },
           "zerolinecolor": "white",
           "zerolinewidth": 2
          }
         }
        },
        "updatemenus": [
         {
          "buttons": [
           {
            "args": [
             null,
             {
              "frame": {
               "duration": 500,
               "redraw": true
              },
              "fromcurrent": true,
              "mode": "immediate",
              "transition": {
               "duration": 500,
               "easing": "linear"
              }
             }
            ],
            "label": "&#9654;",
            "method": "animate"
           },
           {
            "args": [
             [
              null
             ],
             {
              "frame": {
               "duration": 0,
               "redraw": true
              },
              "fromcurrent": true,
              "mode": "immediate",
              "transition": {
               "duration": 0,
               "easing": "linear"
              }
             }
            ],
            "label": "&#9724;",
            "method": "animate"
           }
          ],
          "direction": "left",
          "pad": {
           "r": 10,
           "t": 70
          },
          "showactive": false,
          "type": "buttons",
          "x": 0.1,
          "xanchor": "right",
          "y": 0,
          "yanchor": "top"
         }
        ],
        "xaxis": {
         "anchor": "y",
         "categoryarray": [
          "Anthropologie",
          "Aréale",
          "Autre interdisciplinaire",
          "Démographie",
          "Genre",
          "Géographie",
          "Histoire",
          "SIC",
          "Science politique",
          "Sociologie",
          "Économie"
         ],
         "categoryorder": "array",
         "domain": [
          0,
          1
         ],
         "title": {
          "text": "discipline"
         }
        },
        "yaxis": {
         "anchor": "x",
         "domain": [
          0,
          1
         ],
         "range": [
          0,
          200
         ],
         "title": {
          "text": "Proportion des articles mentionnant le genre"
         }
        }
       }
      }
     },
     "metadata": {},
     "output_type": "display_data"
    }
   ],
   "source": [
    "proportion_genre_classe = []\n",
    "for (annee, discipline), sub_df in df.\\\n",
    "                                    groupby([\"annee_publication\",\"discipline\"]): \n",
    "    proportion_genre_classe.append(\n",
    "        {\n",
    "            \"discipline\" : discipline,\n",
    "            \"annee_publication\" : annee,\n",
    "            \"proportion_genre\" : 100 * sub_df[\"genre\"].mean()\n",
    "        }\n",
    "    )\n",
    "\n",
    "proportion_genre_classe = pd.DataFrame(proportion_genre_classe)\n",
    "\n",
    "# Use px.bar() to create a bar chart\n",
    "fig = px.bar(\n",
    "    proportion_genre_classe,\n",
    "    x=\"discipline\",\n",
    "    y=\"proportion_genre\",\n",
    "    labels={\"proportion_genre\": \"Proportion des articles mentionnant le genre\"},\n",
    "    range_y=[\n",
    "        0,\n",
    "        200,\n",
    "    ],  # The range_y parameter allows customization of the y-axis range (optional)\n",
    "    color=\"discipline\",\n",
    "    # title=\"Add a title here\",\n",
    "    animation_frame=\"annee_publication\", # Use animation_frame to specify which variable to measure for change\n",
    ")\n",
    "fig.show()"
   ]
  },
  {
   "cell_type": "markdown",
   "metadata": {},
   "source": [
    "## Ajouter des animations : Menus déroulants"
   ]
  },
  {
   "cell_type": "markdown",
   "metadata": {},
   "source": []
  }
 ],
 "metadata": {
  "kernelspec": {
   "display_name": "CREST",
   "language": "python",
   "name": "python3"
  },
  "language_info": {
   "codemirror_mode": {
    "name": "ipython",
    "version": 3
   },
   "file_extension": ".py",
   "mimetype": "text/x-python",
   "name": "python",
   "nbconvert_exporter": "python",
   "pygments_lexer": "ipython3",
   "version": "3.12.7"
  }
 },
 "nbformat": 4,
 "nbformat_minor": 2
}
